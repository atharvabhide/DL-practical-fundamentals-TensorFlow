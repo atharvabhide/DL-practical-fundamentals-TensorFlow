{
 "cells": [
  {
   "cell_type": "code",
   "execution_count": 51,
   "metadata": {},
   "outputs": [],
   "source": [
    "import tensorflow as tf\n",
    "import numpy as np"
   ]
  },
  {
   "cell_type": "code",
   "execution_count": 2,
   "metadata": {},
   "outputs": [],
   "source": [
    "x = [1, 2, 3, 4, 5]"
   ]
  },
  {
   "cell_type": "code",
   "execution_count": 15,
   "metadata": {},
   "outputs": [
    {
     "name": "stdout",
     "output_type": "stream",
     "text": [
      "tf.Tensor([1 2 3 4 5], shape=(5,), dtype=int32)\n",
      "1\n",
      "(5,)\n"
     ]
    }
   ],
   "source": [
    "# create constant tensor\n",
    "constant = tf.constant(x)\n",
    "print(constant)\n",
    "print(constant.ndim)\n",
    "print(constant.shape)"
   ]
  },
  {
   "cell_type": "code",
   "execution_count": 18,
   "metadata": {},
   "outputs": [
    {
     "name": "stdout",
     "output_type": "stream",
     "text": [
      "<tf.Variable 'Variable:0' shape=(5,) dtype=int32, numpy=array([1, 2, 3, 4, 5])>\n",
      "(5,)\n"
     ]
    }
   ],
   "source": [
    "# create variable tensor\n",
    "variable = tf.Variable(x)\n",
    "print(variable)\n",
    "print(variable.shape)"
   ]
  },
  {
   "cell_type": "code",
   "execution_count": 21,
   "metadata": {},
   "outputs": [
    {
     "name": "stdout",
     "output_type": "stream",
     "text": [
      "tf.Tensor(\n",
      "[[ 0.46771297  1.1439531 ]\n",
      " [-0.00468726 -1.1413215 ]], shape=(2, 2), dtype=float32)\n",
      "tf.Tensor(\n",
      "[[0.9672353  0.55778396]\n",
      " [0.43863738 0.80427194]], shape=(2, 2), dtype=float32)\n"
     ]
    }
   ],
   "source": [
    "# create random tensors\n",
    "normal = tf.random.normal((2,2))\n",
    "uniform = tf.random.uniform((2,2))\n",
    "print(normal)\n",
    "print(uniform)"
   ]
  },
  {
   "cell_type": "code",
   "execution_count": 22,
   "metadata": {},
   "outputs": [
    {
     "data": {
      "text/plain": [
       "<tf.Tensor: shape=(2, 2), dtype=bool, numpy=\n",
       "array([[ True,  True],\n",
       "       [ True,  True]])>"
      ]
     },
     "execution_count": 22,
     "metadata": {},
     "output_type": "execute_result"
    }
   ],
   "source": [
    "# create 2 same random tensors\n",
    "random_1 = tf.random.Generator.from_seed(42)\n",
    "random_1 = random_1.normal((2,2))\n",
    "\n",
    "random_2 = tf.random.Generator.from_seed(42)\n",
    "random_2 = random_2.normal((2,2))\n",
    "\n",
    "random_1 == random_2"
   ]
  },
  {
   "cell_type": "code",
   "execution_count": 24,
   "metadata": {},
   "outputs": [
    {
     "name": "stdout",
     "output_type": "stream",
     "text": [
      "tf.Tensor([1 2 3 4 5], shape=(5,), dtype=int32)\n"
     ]
    }
   ],
   "source": [
    "# shuffle tensor\n",
    "not_shuffled = tf.constant(x)\n",
    "print(not_shuffled)"
   ]
  },
  {
   "cell_type": "code",
   "execution_count": 44,
   "metadata": {},
   "outputs": [
    {
     "name": "stdout",
     "output_type": "stream",
     "text": [
      "tf.Tensor([5 4 1 2 3], shape=(5,), dtype=int32)\n"
     ]
    }
   ],
   "source": [
    "shuffled = tf.random.shuffle(not_shuffled)\n",
    "print(shuffled)"
   ]
  },
  {
   "cell_type": "code",
   "execution_count": 46,
   "metadata": {},
   "outputs": [
    {
     "name": "stdout",
     "output_type": "stream",
     "text": [
      "tf.Tensor(\n",
      "[[1. 1.]\n",
      " [1. 1.]], shape=(2, 2), dtype=float32)\n"
     ]
    }
   ],
   "source": [
    "# ones vale tensors\n",
    "ones = tf.ones((2,2))\n",
    "print(ones)"
   ]
  },
  {
   "cell_type": "code",
   "execution_count": 50,
   "metadata": {},
   "outputs": [
    {
     "name": "stdout",
     "output_type": "stream",
     "text": [
      "tf.Tensor(\n",
      "[[0. 0.]\n",
      " [0. 0.]], shape=(2, 2), dtype=float32)\n"
     ]
    }
   ],
   "source": [
    "# zeros vale tensors\n",
    "zeros = tf.zeros((2,2))\n",
    "print(zeros)"
   ]
  },
  {
   "cell_type": "code",
   "execution_count": 49,
   "metadata": {},
   "outputs": [
    {
     "name": "stdout",
     "output_type": "stream",
     "text": [
      "tf.Tensor(\n",
      "[[1. 0.]\n",
      " [0. 1.]], shape=(2, 2), dtype=float32)\n"
     ]
    }
   ],
   "source": [
    "# eye vale tensors\n",
    "eye = tf.eye(2)\n",
    "print(eye)"
   ]
  },
  {
   "cell_type": "code",
   "execution_count": 54,
   "metadata": {},
   "outputs": [
    {
     "name": "stdout",
     "output_type": "stream",
     "text": [
      "tf.Tensor(\n",
      "[[0 1 2 3 4]\n",
      " [5 6 7 8 9]], shape=(2, 5), dtype=int32)\n"
     ]
    }
   ],
   "source": [
    "# arange vale tensors\n",
    "_ = np.arange(10)\n",
    "arange = tf.constant(_, shape=(2,5))\n",
    "print(arange)"
   ]
  },
  {
   "cell_type": "code",
   "execution_count": 64,
   "metadata": {},
   "outputs": [
    {
     "name": "stdout",
     "output_type": "stream",
     "text": [
      "tf.Tensor(10, shape=(), dtype=int32)\n",
      "(2, 5)\n",
      "2\n",
      "tf.Tensor([5 6 7 8 9], shape=(5,), dtype=int32)\n",
      "<dtype: 'int32'>\n"
     ]
    }
   ],
   "source": [
    "# total items in tensor\n",
    "print(tf.size(arange))\n",
    "# shape of tensor (it is basically the length of every dimension)\n",
    "print(arange.shape)\n",
    "# rank of tensor\n",
    "print(arange.ndim)\n",
    "# particular axis of tensor\n",
    "print(arange[1, :])\n",
    "# dtype of tensor\n",
    "print(arange.dtype)"
   ]
  },
  {
   "cell_type": "code",
   "execution_count": 69,
   "metadata": {},
   "outputs": [
    {
     "name": "stdout",
     "output_type": "stream",
     "text": [
      "tf.Tensor(\n",
      "[[1. 1. 1.]\n",
      " [1. 1. 1.]\n",
      " [1. 1. 1.]], shape=(3, 3), dtype=float32)\n",
      "\n",
      "tf.Tensor(\n",
      "[[[1. 1. 1.]\n",
      "  [1. 1. 1.]\n",
      "  [1. 1. 1.]]], shape=(1, 3, 3), dtype=float32)\n",
      "\n",
      "tf.Tensor(\n",
      "[[[1. 1. 1.]]\n",
      "\n",
      " [[1. 1. 1.]]\n",
      "\n",
      " [[1. 1. 1.]]], shape=(3, 1, 3), dtype=float32)\n",
      "\n",
      "tf.Tensor(\n",
      "[[[1.]\n",
      "  [1.]\n",
      "  [1.]]\n",
      "\n",
      " [[1.]\n",
      "  [1.]\n",
      "  [1.]]\n",
      "\n",
      " [[1.]\n",
      "  [1.]\n",
      "  [1.]]], shape=(3, 3, 1), dtype=float32)\n"
     ]
    }
   ],
   "source": [
    "# add dimension to tensor\n",
    "# general tip  ** READ SHAPE FROM THE END TO FIGURE IT OUT\n",
    "test = tf.ones((3,3))\n",
    "print(test)\n",
    "print()\n",
    "test = tf.ones((3,3))\n",
    "test = tf.expand_dims(test, axis=0)\n",
    "print(test)\n",
    "print()\n",
    "test = tf.ones((3,3))\n",
    "test = tf.expand_dims(test, axis=1)\n",
    "print(test)\n",
    "print()\n",
    "test = tf.ones((3,3))\n",
    "test = tf.expand_dims(test, axis=-1)\n",
    "print(test)"
   ]
  },
  {
   "cell_type": "code",
   "execution_count": 72,
   "metadata": {},
   "outputs": [
    {
     "name": "stdout",
     "output_type": "stream",
     "text": [
      "tf.Tensor(\n",
      "[[0.1303196  0.72302616]\n",
      " [0.03500259 0.14889967]\n",
      " [0.45241117 0.4920081 ]], shape=(3, 2), dtype=float32)\n",
      "tf.Tensor(\n",
      "[[0.83751476 0.07739747 0.6869185 ]\n",
      " [0.20134604 0.9990591  0.06584918]], shape=(2, 3), dtype=float32)\n"
     ]
    }
   ],
   "source": [
    "# matrix multiplication\n",
    "first = tf.random.uniform((3,2))\n",
    "second = tf.random.uniform((2,3))\n",
    "print(first)\n",
    "print(second)"
   ]
  },
  {
   "cell_type": "code",
   "execution_count": 75,
   "metadata": {},
   "outputs": [
    {
     "name": "stdout",
     "output_type": "stream",
     "text": [
      "tf.Tensor(\n",
      "[[0.25472304 0.73243225 0.13712962]\n",
      " [0.05929554 0.15146868 0.03384885]\n",
      " [0.4779649  0.5265606  0.34316796]], shape=(3, 3), dtype=float32)\n"
     ]
    }
   ],
   "source": [
    "print(tf.matmul(first, second))"
   ]
  },
  {
   "cell_type": "code",
   "execution_count": 83,
   "metadata": {},
   "outputs": [
    {
     "name": "stdout",
     "output_type": "stream",
     "text": [
      "tf.Tensor(5.0, shape=(), dtype=float64)\n",
      "tf.Tensor(1.0, shape=(), dtype=float64)\n",
      "tf.Tensor(15.0, shape=(), dtype=float64)\n",
      "tf.Tensor(3.0, shape=(), dtype=float64)\n",
      "tf.Tensor(2.0, shape=(), dtype=float64)\n",
      "tf.Tensor(1.4142135623730951, shape=(), dtype=float64)\n"
     ]
    }
   ],
   "source": [
    "# aggregation\n",
    "test = tf.constant([1,2,3,4,5], dtype=tf.float64)\n",
    "print(tf.reduce_max(test))\n",
    "print(tf.reduce_min(test))\n",
    "print(tf.reduce_sum(test))\n",
    "print(tf.reduce_mean(test))\n",
    "print(tf.math.reduce_variance(test))\n",
    "print(tf.math.reduce_std(test))"
   ]
  },
  {
   "cell_type": "code",
   "execution_count": 84,
   "metadata": {},
   "outputs": [
    {
     "name": "stdout",
     "output_type": "stream",
     "text": [
      "tf.Tensor(4, shape=(), dtype=int64)\n",
      "tf.Tensor(0, shape=(), dtype=int64)\n"
     ]
    }
   ],
   "source": [
    "# argmax and argmin\n",
    "print(tf.argmax(test))\n",
    "print(tf.argmin(test))"
   ]
  },
  {
   "cell_type": "code",
   "execution_count": 85,
   "metadata": {},
   "outputs": [
    {
     "name": "stdout",
     "output_type": "stream",
     "text": [
      "tf.Tensor(\n",
      "[[[[0.43092024 0.54602635 0.14853084 0.9727237  0.31471384 0.26777327\n",
      "    0.46807742 0.13167155 0.7261851  0.58768594 0.6064708  0.55267656\n",
      "    0.447587   0.94949615 0.90005445 0.10014153 0.65893006 0.68291676\n",
      "    0.75391304 0.19649065 0.17827892 0.17996705 0.6532538  0.43965352\n",
      "    0.18706322 0.37094963 0.7931473  0.78418005 0.36796784 0.78121305\n",
      "    0.77955294 0.64514494 0.6045432  0.39302325 0.74100244 0.20903671\n",
      "    0.813516   0.5780213  0.22292185 0.7846714  0.6725931  0.22045875\n",
      "    0.85959184 0.7394396  0.32487273 0.01440942 0.12737775 0.6955496\n",
      "    0.39778352 0.1332438 ]]]], shape=(1, 1, 1, 50), dtype=float32)\n"
     ]
    }
   ],
   "source": [
    "# squeezing tensors\n",
    "test = tf.constant(tf.random.uniform(shape=[50]), shape=(1,1,1,50))\n",
    "print(test)"
   ]
  },
  {
   "cell_type": "code",
   "execution_count": 86,
   "metadata": {},
   "outputs": [
    {
     "name": "stdout",
     "output_type": "stream",
     "text": [
      "tf.Tensor(\n",
      "[0.43092024 0.54602635 0.14853084 0.9727237  0.31471384 0.26777327\n",
      " 0.46807742 0.13167155 0.7261851  0.58768594 0.6064708  0.55267656\n",
      " 0.447587   0.94949615 0.90005445 0.10014153 0.65893006 0.68291676\n",
      " 0.75391304 0.19649065 0.17827892 0.17996705 0.6532538  0.43965352\n",
      " 0.18706322 0.37094963 0.7931473  0.78418005 0.36796784 0.78121305\n",
      " 0.77955294 0.64514494 0.6045432  0.39302325 0.74100244 0.20903671\n",
      " 0.813516   0.5780213  0.22292185 0.7846714  0.6725931  0.22045875\n",
      " 0.85959184 0.7394396  0.32487273 0.01440942 0.12737775 0.6955496\n",
      " 0.39778352 0.1332438 ], shape=(50,), dtype=float32)\n"
     ]
    }
   ],
   "source": [
    "test = tf.squeeze(test)\n",
    "print(test)"
   ]
  },
  {
   "cell_type": "code",
   "execution_count": null,
   "metadata": {},
   "outputs": [],
   "source": []
  }
 ],
 "metadata": {
  "kernelspec": {
   "display_name": "base",
   "language": "python",
   "name": "python3"
  },
  "language_info": {
   "codemirror_mode": {
    "name": "ipython",
    "version": 3
   },
   "file_extension": ".py",
   "mimetype": "text/x-python",
   "name": "python",
   "nbconvert_exporter": "python",
   "pygments_lexer": "ipython3",
   "version": "3.9.13"
  },
  "orig_nbformat": 4,
  "vscode": {
   "interpreter": {
    "hash": "7b866af7b652cc143acdbab46f35e39c45c92f19e64cafa2e94b399d464a3b2e"
   }
  }
 },
 "nbformat": 4,
 "nbformat_minor": 2
}
