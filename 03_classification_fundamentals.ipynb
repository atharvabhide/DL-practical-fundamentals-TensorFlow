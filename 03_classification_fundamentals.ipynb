{
  "nbformat": 4,
  "nbformat_minor": 0,
  "metadata": {
    "colab": {
      "provenance": []
    },
    "kernelspec": {
      "name": "python3",
      "display_name": "Python 3"
    },
    "language_info": {
      "name": "python"
    },
    "accelerator": "GPU",
    "gpuClass": "standard"
  },
  "cells": [
    {
      "cell_type": "code",
      "source": [
        "import tensorflow as tf\n",
        "import pandas as pd\n",
        "import numpy as np\n",
        "import matplotlib.pyplot as plt\n",
        "import seaborn as sns\n",
        "import warnings\n",
        "from sklearn.model_selection import train_test_split\n",
        "from sklearn.metrics import classification_report, confusion_matrix\n",
        "from mlxtend.plotting import plot_confusion_matrix\n",
        "warnings.filterwarnings('ignore')\n",
        "%matplotlib inline"
      ],
      "metadata": {
        "id": "paMpX-6MV0Im"
      },
      "execution_count": 34,
      "outputs": []
    },
    {
      "cell_type": "code",
      "source": [
        "from sklearn.datasets import make_circles"
      ],
      "metadata": {
        "id": "cvWwdlSHWEo4"
      },
      "execution_count": 2,
      "outputs": []
    },
    {
      "cell_type": "code",
      "source": [
        "n_samples = 1000\n",
        "x, y = make_circles(n_samples, noise=0.03, random_state=42)"
      ],
      "metadata": {
        "id": "HU6piNL2zNzz"
      },
      "execution_count": 3,
      "outputs": []
    },
    {
      "cell_type": "code",
      "source": [
        "x"
      ],
      "metadata": {
        "colab": {
          "base_uri": "https://localhost:8080/"
        },
        "id": "A_M6gn6BzTqJ",
        "outputId": "8cb4d7f4-b989-4f30-ec82-f47b8c483f7d"
      },
      "execution_count": 4,
      "outputs": [
        {
          "output_type": "execute_result",
          "data": {
            "text/plain": [
              "array([[ 0.75424625,  0.23148074],\n",
              "       [-0.75615888,  0.15325888],\n",
              "       [-0.81539193,  0.17328203],\n",
              "       ...,\n",
              "       [-0.13690036, -0.81001183],\n",
              "       [ 0.67036156, -0.76750154],\n",
              "       [ 0.28105665,  0.96382443]])"
            ]
          },
          "metadata": {},
          "execution_count": 4
        }
      ]
    },
    {
      "cell_type": "code",
      "source": [
        "y"
      ],
      "metadata": {
        "colab": {
          "base_uri": "https://localhost:8080/"
        },
        "id": "-ZuXzq86zlmf",
        "outputId": "03693c18-80b1-42a4-e6d4-f4a950066a42"
      },
      "execution_count": 5,
      "outputs": [
        {
          "output_type": "execute_result",
          "data": {
            "text/plain": [
              "array([1, 1, 1, 1, 0, 1, 1, 1, 1, 0, 1, 0, 1, 1, 1, 1, 0, 1, 1, 0, 1, 0,\n",
              "       0, 1, 0, 0, 0, 1, 1, 1, 0, 0, 1, 0, 0, 0, 1, 1, 1, 0, 0, 0, 0, 1,\n",
              "       0, 0, 1, 1, 0, 1, 1, 1, 0, 1, 0, 0, 1, 0, 0, 1, 0, 0, 1, 0, 1, 1,\n",
              "       1, 1, 0, 1, 0, 0, 1, 1, 0, 0, 1, 0, 1, 0, 1, 0, 0, 0, 0, 1, 1, 1,\n",
              "       1, 0, 0, 0, 1, 0, 1, 0, 1, 0, 0, 1, 1, 0, 1, 0, 1, 1, 1, 1, 0, 1,\n",
              "       1, 1, 1, 1, 0, 0, 0, 1, 1, 0, 1, 0, 1, 0, 0, 1, 1, 0, 1, 1, 1, 1,\n",
              "       0, 1, 1, 0, 0, 0, 0, 0, 0, 0, 1, 0, 1, 1, 1, 0, 1, 0, 1, 0, 1, 0,\n",
              "       1, 0, 0, 1, 0, 1, 1, 1, 1, 1, 1, 1, 0, 1, 0, 0, 0, 0, 0, 1, 0, 0,\n",
              "       0, 0, 1, 1, 0, 1, 0, 1, 1, 0, 0, 0, 1, 1, 1, 1, 1, 0, 0, 0, 0, 0,\n",
              "       1, 0, 0, 1, 1, 1, 1, 1, 0, 1, 0, 1, 0, 0, 1, 1, 1, 0, 1, 0, 1, 1,\n",
              "       0, 1, 1, 0, 1, 0, 1, 0, 1, 1, 0, 1, 0, 1, 0, 0, 0, 1, 0, 0, 0, 0,\n",
              "       1, 1, 0, 0, 0, 0, 0, 0, 0, 1, 1, 1, 0, 0, 1, 1, 1, 0, 1, 0, 0, 0,\n",
              "       0, 1, 1, 0, 1, 0, 0, 0, 1, 0, 1, 0, 0, 1, 0, 1, 1, 1, 0, 0, 0, 1,\n",
              "       0, 0, 0, 1, 1, 1, 1, 0, 0, 0, 1, 0, 0, 0, 1, 0, 0, 0, 1, 1, 0, 1,\n",
              "       1, 1, 1, 1, 1, 1, 0, 0, 0, 0, 1, 0, 0, 0, 0, 1, 1, 1, 0, 0, 1, 0,\n",
              "       1, 0, 1, 1, 0, 0, 1, 1, 1, 1, 0, 0, 0, 0, 0, 0, 1, 1, 0, 1, 0, 0,\n",
              "       1, 0, 0, 0, 0, 0, 0, 0, 0, 1, 0, 0, 0, 0, 1, 0, 0, 1, 0, 1, 0, 0,\n",
              "       0, 1, 0, 0, 1, 1, 0, 0, 1, 0, 0, 1, 1, 0, 1, 1, 0, 0, 1, 0, 1, 0,\n",
              "       0, 0, 1, 1, 0, 0, 1, 1, 1, 1, 1, 0, 0, 1, 1, 1, 1, 0, 1, 1, 1, 1,\n",
              "       1, 0, 0, 1, 0, 1, 0, 0, 0, 0, 1, 0, 0, 0, 0, 0, 0, 0, 0, 0, 1, 1,\n",
              "       0, 1, 1, 1, 1, 1, 1, 0, 1, 1, 1, 1, 0, 0, 0, 1, 1, 1, 0, 0, 0, 0,\n",
              "       1, 1, 0, 0, 0, 0, 1, 0, 0, 0, 1, 0, 0, 1, 1, 1, 1, 1, 1, 0, 0, 0,\n",
              "       1, 0, 0, 0, 0, 0, 1, 1, 1, 0, 0, 0, 0, 0, 1, 1, 1, 0, 0, 1, 1, 1,\n",
              "       1, 0, 1, 1, 0, 1, 0, 0, 0, 1, 0, 0, 1, 0, 0, 1, 1, 0, 0, 1, 1, 0,\n",
              "       1, 0, 1, 0, 1, 0, 1, 0, 0, 0, 1, 0, 0, 0, 0, 0, 0, 1, 1, 1, 1, 0,\n",
              "       0, 0, 1, 0, 1, 1, 0, 0, 0, 0, 0, 1, 1, 1, 0, 0, 1, 0, 0, 1, 0, 0,\n",
              "       1, 0, 0, 1, 0, 0, 0, 1, 0, 0, 1, 1, 1, 0, 1, 1, 0, 0, 0, 1, 1, 1,\n",
              "       1, 0, 0, 1, 1, 1, 0, 0, 0, 0, 1, 1, 0, 0, 1, 1, 0, 0, 1, 1, 1, 1,\n",
              "       1, 1, 1, 0, 1, 0, 1, 0, 0, 1, 0, 1, 1, 1, 1, 0, 0, 1, 1, 0, 0, 1,\n",
              "       0, 1, 0, 0, 0, 1, 0, 0, 1, 1, 1, 1, 0, 1, 1, 1, 1, 1, 1, 1, 0, 1,\n",
              "       0, 1, 1, 1, 0, 0, 1, 0, 0, 0, 1, 1, 1, 1, 0, 0, 0, 0, 1, 0, 1, 1,\n",
              "       1, 0, 1, 0, 0, 1, 0, 0, 1, 1, 1, 1, 1, 0, 1, 0, 0, 0, 1, 1, 1, 1,\n",
              "       1, 0, 0, 0, 1, 1, 1, 1, 0, 0, 0, 0, 0, 1, 1, 0, 1, 0, 1, 0, 0, 0,\n",
              "       0, 0, 0, 0, 0, 0, 1, 1, 1, 1, 1, 0, 1, 0, 1, 1, 1, 1, 0, 1, 1, 1,\n",
              "       1, 1, 1, 1, 1, 0, 1, 1, 0, 1, 0, 0, 0, 1, 0, 1, 1, 1, 0, 1, 1, 0,\n",
              "       1, 1, 0, 1, 0, 1, 1, 0, 0, 1, 1, 1, 0, 0, 0, 0, 1, 1, 0, 0, 1, 1,\n",
              "       1, 1, 1, 1, 1, 1, 1, 1, 1, 1, 1, 1, 0, 0, 1, 0, 1, 0, 1, 0, 1, 1,\n",
              "       1, 1, 1, 1, 0, 1, 0, 1, 1, 1, 0, 1, 1, 0, 0, 1, 0, 1, 1, 0, 0, 1,\n",
              "       1, 1, 1, 1, 1, 1, 1, 0, 1, 1, 1, 0, 1, 0, 0, 1, 1, 0, 0, 0, 1, 0,\n",
              "       0, 1, 0, 0, 0, 1, 0, 1, 0, 0, 0, 0, 1, 0, 1, 1, 1, 1, 0, 1, 0, 0,\n",
              "       0, 0, 0, 0, 1, 0, 1, 0, 1, 0, 1, 1, 1, 0, 1, 0, 1, 0, 0, 1, 1, 1,\n",
              "       0, 0, 0, 1, 1, 0, 1, 0, 1, 1, 0, 1, 0, 0, 1, 1, 1, 0, 0, 0, 1, 1,\n",
              "       0, 0, 0, 0, 0, 1, 1, 0, 1, 0, 0, 0, 1, 0, 0, 0, 1, 1, 1, 1, 0, 1,\n",
              "       1, 1, 0, 1, 1, 1, 1, 0, 1, 1, 0, 1, 1, 0, 0, 1, 1, 1, 0, 0, 0, 0,\n",
              "       0, 0, 1, 0, 0, 1, 0, 0, 0, 1, 0, 1, 0, 1, 1, 0, 0, 0, 0, 0, 0, 0,\n",
              "       0, 1, 0, 1, 0, 0, 0, 1, 0, 0])"
            ]
          },
          "metadata": {},
          "execution_count": 5
        }
      ]
    },
    {
      "cell_type": "code",
      "source": [
        "df = pd.DataFrame({\"x0\" : x[:, 0], \"x1\" : x[:, 1], \"y\" : y})"
      ],
      "metadata": {
        "id": "OLwthO01znBF"
      },
      "execution_count": 6,
      "outputs": []
    },
    {
      "cell_type": "code",
      "source": [
        "df.head()"
      ],
      "metadata": {
        "colab": {
          "base_uri": "https://localhost:8080/",
          "height": 206
        },
        "id": "R5zafn3MzzBP",
        "outputId": "ee22d1d7-36ab-45e6-c47c-f181ba1c50dd"
      },
      "execution_count": 7,
      "outputs": [
        {
          "output_type": "execute_result",
          "data": {
            "text/plain": [
              "         x0        x1  y\n",
              "0  0.754246  0.231481  1\n",
              "1 -0.756159  0.153259  1\n",
              "2 -0.815392  0.173282  1\n",
              "3 -0.393731  0.692883  1\n",
              "4  0.442208 -0.896723  0"
            ],
            "text/html": [
              "\n",
              "  <div id=\"df-31e918e3-ebe8-48b0-8e07-58ab58d91f97\">\n",
              "    <div class=\"colab-df-container\">\n",
              "      <div>\n",
              "<style scoped>\n",
              "    .dataframe tbody tr th:only-of-type {\n",
              "        vertical-align: middle;\n",
              "    }\n",
              "\n",
              "    .dataframe tbody tr th {\n",
              "        vertical-align: top;\n",
              "    }\n",
              "\n",
              "    .dataframe thead th {\n",
              "        text-align: right;\n",
              "    }\n",
              "</style>\n",
              "<table border=\"1\" class=\"dataframe\">\n",
              "  <thead>\n",
              "    <tr style=\"text-align: right;\">\n",
              "      <th></th>\n",
              "      <th>x0</th>\n",
              "      <th>x1</th>\n",
              "      <th>y</th>\n",
              "    </tr>\n",
              "  </thead>\n",
              "  <tbody>\n",
              "    <tr>\n",
              "      <th>0</th>\n",
              "      <td>0.754246</td>\n",
              "      <td>0.231481</td>\n",
              "      <td>1</td>\n",
              "    </tr>\n",
              "    <tr>\n",
              "      <th>1</th>\n",
              "      <td>-0.756159</td>\n",
              "      <td>0.153259</td>\n",
              "      <td>1</td>\n",
              "    </tr>\n",
              "    <tr>\n",
              "      <th>2</th>\n",
              "      <td>-0.815392</td>\n",
              "      <td>0.173282</td>\n",
              "      <td>1</td>\n",
              "    </tr>\n",
              "    <tr>\n",
              "      <th>3</th>\n",
              "      <td>-0.393731</td>\n",
              "      <td>0.692883</td>\n",
              "      <td>1</td>\n",
              "    </tr>\n",
              "    <tr>\n",
              "      <th>4</th>\n",
              "      <td>0.442208</td>\n",
              "      <td>-0.896723</td>\n",
              "      <td>0</td>\n",
              "    </tr>\n",
              "  </tbody>\n",
              "</table>\n",
              "</div>\n",
              "      <button class=\"colab-df-convert\" onclick=\"convertToInteractive('df-31e918e3-ebe8-48b0-8e07-58ab58d91f97')\"\n",
              "              title=\"Convert this dataframe to an interactive table.\"\n",
              "              style=\"display:none;\">\n",
              "        \n",
              "  <svg xmlns=\"http://www.w3.org/2000/svg\" height=\"24px\"viewBox=\"0 0 24 24\"\n",
              "       width=\"24px\">\n",
              "    <path d=\"M0 0h24v24H0V0z\" fill=\"none\"/>\n",
              "    <path d=\"M18.56 5.44l.94 2.06.94-2.06 2.06-.94-2.06-.94-.94-2.06-.94 2.06-2.06.94zm-11 1L8.5 8.5l.94-2.06 2.06-.94-2.06-.94L8.5 2.5l-.94 2.06-2.06.94zm10 10l.94 2.06.94-2.06 2.06-.94-2.06-.94-.94-2.06-.94 2.06-2.06.94z\"/><path d=\"M17.41 7.96l-1.37-1.37c-.4-.4-.92-.59-1.43-.59-.52 0-1.04.2-1.43.59L10.3 9.45l-7.72 7.72c-.78.78-.78 2.05 0 2.83L4 21.41c.39.39.9.59 1.41.59.51 0 1.02-.2 1.41-.59l7.78-7.78 2.81-2.81c.8-.78.8-2.07 0-2.86zM5.41 20L4 18.59l7.72-7.72 1.47 1.35L5.41 20z\"/>\n",
              "  </svg>\n",
              "      </button>\n",
              "      \n",
              "  <style>\n",
              "    .colab-df-container {\n",
              "      display:flex;\n",
              "      flex-wrap:wrap;\n",
              "      gap: 12px;\n",
              "    }\n",
              "\n",
              "    .colab-df-convert {\n",
              "      background-color: #E8F0FE;\n",
              "      border: none;\n",
              "      border-radius: 50%;\n",
              "      cursor: pointer;\n",
              "      display: none;\n",
              "      fill: #1967D2;\n",
              "      height: 32px;\n",
              "      padding: 0 0 0 0;\n",
              "      width: 32px;\n",
              "    }\n",
              "\n",
              "    .colab-df-convert:hover {\n",
              "      background-color: #E2EBFA;\n",
              "      box-shadow: 0px 1px 2px rgba(60, 64, 67, 0.3), 0px 1px 3px 1px rgba(60, 64, 67, 0.15);\n",
              "      fill: #174EA6;\n",
              "    }\n",
              "\n",
              "    [theme=dark] .colab-df-convert {\n",
              "      background-color: #3B4455;\n",
              "      fill: #D2E3FC;\n",
              "    }\n",
              "\n",
              "    [theme=dark] .colab-df-convert:hover {\n",
              "      background-color: #434B5C;\n",
              "      box-shadow: 0px 1px 3px 1px rgba(0, 0, 0, 0.15);\n",
              "      filter: drop-shadow(0px 1px 2px rgba(0, 0, 0, 0.3));\n",
              "      fill: #FFFFFF;\n",
              "    }\n",
              "  </style>\n",
              "\n",
              "      <script>\n",
              "        const buttonEl =\n",
              "          document.querySelector('#df-31e918e3-ebe8-48b0-8e07-58ab58d91f97 button.colab-df-convert');\n",
              "        buttonEl.style.display =\n",
              "          google.colab.kernel.accessAllowed ? 'block' : 'none';\n",
              "\n",
              "        async function convertToInteractive(key) {\n",
              "          const element = document.querySelector('#df-31e918e3-ebe8-48b0-8e07-58ab58d91f97');\n",
              "          const dataTable =\n",
              "            await google.colab.kernel.invokeFunction('convertToInteractive',\n",
              "                                                     [key], {});\n",
              "          if (!dataTable) return;\n",
              "\n",
              "          const docLinkHtml = 'Like what you see? Visit the ' +\n",
              "            '<a target=\"_blank\" href=https://colab.research.google.com/notebooks/data_table.ipynb>data table notebook</a>'\n",
              "            + ' to learn more about interactive tables.';\n",
              "          element.innerHTML = '';\n",
              "          dataTable['output_type'] = 'display_data';\n",
              "          await google.colab.output.renderOutput(dataTable, element);\n",
              "          const docLink = document.createElement('div');\n",
              "          docLink.innerHTML = docLinkHtml;\n",
              "          element.appendChild(docLink);\n",
              "        }\n",
              "      </script>\n",
              "    </div>\n",
              "  </div>\n",
              "  "
            ]
          },
          "metadata": {},
          "execution_count": 7
        }
      ]
    },
    {
      "cell_type": "code",
      "source": [
        "df.shape"
      ],
      "metadata": {
        "colab": {
          "base_uri": "https://localhost:8080/"
        },
        "id": "gtCUf7Kzzzmq",
        "outputId": "28786a93-bd6e-47f2-b3ab-a616e2edee2e"
      },
      "execution_count": 8,
      "outputs": [
        {
          "output_type": "execute_result",
          "data": {
            "text/plain": [
              "(1000, 3)"
            ]
          },
          "metadata": {},
          "execution_count": 8
        }
      ]
    },
    {
      "cell_type": "code",
      "source": [
        "plt.scatter(df['x0'], df['x1'], c=df['y'], cmap=plt.cm.RdYlBu)\n",
        "plt.show()"
      ],
      "metadata": {
        "colab": {
          "base_uri": "https://localhost:8080/",
          "height": 265
        },
        "id": "qnzlD-kzz5e9",
        "outputId": "a6a47c28-61c1-48ab-a33e-3a5909291cef"
      },
      "execution_count": 9,
      "outputs": [
        {
          "output_type": "display_data",
          "data": {
            "text/plain": [
              "<Figure size 432x288 with 1 Axes>"
            ],
            "image/png": "[encoded data removed]"
          },
          "metadata": {
            "needs_background": "light"
          }
        }
      ]
    },
    {
      "cell_type": "code",
      "source": [
        "x.shape, y.shape"
      ],
      "metadata": {
        "colab": {
          "base_uri": "https://localhost:8080/"
        },
        "id": "Cbi_K2Nm0FeF",
        "outputId": "893edb69-151b-43c4-a2d6-2a595b6e29e8"
      },
      "execution_count": 10,
      "outputs": [
        {
          "output_type": "execute_result",
          "data": {
            "text/plain": [
              "((1000, 2), (1000,))"
            ]
          },
          "metadata": {},
          "execution_count": 10
        }
      ]
    },
    {
      "cell_type": "code",
      "source": [
        "x_train, x_test, y_train, y_test = train_test_split(x, y, test_size=0.2)"
      ],
      "metadata": {
        "id": "I3FnlSFw1-iF"
      },
      "execution_count": 11,
      "outputs": []
    },
    {
      "cell_type": "code",
      "source": [
        "tf.random.set_seed(42)\n",
        "model = tf.keras.models.Sequential()\n",
        "model.add(tf.keras.layers.Input(2))\n",
        "model.add(tf.keras.layers.Dense(128, activation='relu'))\n",
        "model.add(tf.keras.layers.Dense(64, activation='relu'))\n",
        "model.add(tf.keras.layers.Dense(32, activation='relu'))\n",
        "model.add(tf.keras.layers.Dense(1, activation='sigmoid'))\n",
        "\n",
        "model.compile(loss='binary_crossentropy', optimizer='adam', metrics=['accuracy'])"
      ],
      "metadata": {
        "id": "UYp3J4bx0ctp"
      },
      "execution_count": 12,
      "outputs": []
    },
    {
      "cell_type": "code",
      "source": [
        "history = model.fit(x_train, y_train, epochs=20, validation_data=(x_test, y_test))"
      ],
      "metadata": {
        "colab": {
          "base_uri": "https://localhost:8080/"
        },
        "id": "MIDgHttS2RBq",
        "outputId": "b02d83ac-49a0-4275-ffda-f09f049df18b"
      },
      "execution_count": 13,
      "outputs": [
        {
          "output_type": "stream",
          "name": "stdout",
          "text": [
            "Epoch 1/20\n",
            "25/25 [==============================] - 8s 22ms/step - loss: 0.6933 - accuracy: 0.4737 - val_loss: 0.6975 - val_accuracy: 0.4550\n",
            "Epoch 2/20\n",
            "25/25 [==============================] - 0s 9ms/step - loss: 0.6865 - accuracy: 0.5113 - val_loss: 0.6999 - val_accuracy: 0.4550\n",
            "Epoch 3/20\n",
            "25/25 [==============================] - 0s 11ms/step - loss: 0.6826 - accuracy: 0.5113 - val_loss: 0.6962 - val_accuracy: 0.4550\n",
            "Epoch 4/20\n",
            "25/25 [==============================] - 0s 9ms/step - loss: 0.6781 - accuracy: 0.5113 - val_loss: 0.6929 - val_accuracy: 0.4550\n",
            "Epoch 5/20\n",
            "25/25 [==============================] - 0s 8ms/step - loss: 0.6697 - accuracy: 0.5300 - val_loss: 0.6780 - val_accuracy: 0.4550\n",
            "Epoch 6/20\n",
            "25/25 [==============================] - 0s 9ms/step - loss: 0.6495 - accuracy: 0.5312 - val_loss: 0.6506 - val_accuracy: 0.6150\n",
            "Epoch 7/20\n",
            "25/25 [==============================] - 0s 11ms/step - loss: 0.6021 - accuracy: 0.7075 - val_loss: 0.5824 - val_accuracy: 0.9150\n",
            "Epoch 8/20\n",
            "25/25 [==============================] - 0s 9ms/step - loss: 0.5103 - accuracy: 0.8913 - val_loss: 0.4707 - val_accuracy: 0.8550\n",
            "Epoch 9/20\n",
            "25/25 [==============================] - 0s 8ms/step - loss: 0.3618 - accuracy: 0.9737 - val_loss: 0.2933 - val_accuracy: 0.9900\n",
            "Epoch 10/20\n",
            "25/25 [==============================] - 0s 9ms/step - loss: 0.2176 - accuracy: 0.9912 - val_loss: 0.1775 - val_accuracy: 0.9900\n",
            "Epoch 11/20\n",
            "25/25 [==============================] - 0s 9ms/step - loss: 0.1175 - accuracy: 0.9912 - val_loss: 0.0968 - val_accuracy: 1.0000\n",
            "Epoch 12/20\n",
            "25/25 [==============================] - 0s 11ms/step - loss: 0.0684 - accuracy: 0.9975 - val_loss: 0.0846 - val_accuracy: 0.9950\n",
            "Epoch 13/20\n",
            "25/25 [==============================] - 0s 9ms/step - loss: 0.0506 - accuracy: 0.9987 - val_loss: 0.0345 - val_accuracy: 1.0000\n",
            "Epoch 14/20\n",
            "25/25 [==============================] - 0s 11ms/step - loss: 0.0324 - accuracy: 0.9987 - val_loss: 0.0285 - val_accuracy: 1.0000\n",
            "Epoch 15/20\n",
            "25/25 [==============================] - 0s 10ms/step - loss: 0.0254 - accuracy: 1.0000 - val_loss: 0.0236 - val_accuracy: 1.0000\n",
            "Epoch 16/20\n",
            "25/25 [==============================] - 0s 8ms/step - loss: 0.0185 - accuracy: 1.0000 - val_loss: 0.0169 - val_accuracy: 1.0000\n",
            "Epoch 17/20\n",
            "25/25 [==============================] - 0s 8ms/step - loss: 0.0173 - accuracy: 1.0000 - val_loss: 0.0169 - val_accuracy: 1.0000\n",
            "Epoch 18/20\n",
            "25/25 [==============================] - 0s 13ms/step - loss: 0.0156 - accuracy: 1.0000 - val_loss: 0.0144 - val_accuracy: 1.0000\n",
            "Epoch 19/20\n",
            "25/25 [==============================] - 0s 8ms/step - loss: 0.0131 - accuracy: 1.0000 - val_loss: 0.0149 - val_accuracy: 1.0000\n",
            "Epoch 20/20\n",
            "25/25 [==============================] - 0s 10ms/step - loss: 0.0124 - accuracy: 0.9987 - val_loss: 0.0174 - val_accuracy: 0.9950\n"
          ]
        }
      ]
    },
    {
      "cell_type": "code",
      "source": [
        "pd.DataFrame(history.history).plot(figsize=(8,5))\n",
        "plt.show()"
      ],
      "metadata": {
        "colab": {
          "base_uri": "https://localhost:8080/",
          "height": 320
        },
        "id": "fycsVLZx2c78",
        "outputId": "7d277110-1fc5-42b6-aaed-02080e348369"
      },
      "execution_count": 14,
      "outputs": [
        {
          "output_type": "display_data",
          "data": {
            "text/plain": [
              "<Figure size 576x360 with 1 Axes>"
            ],
            "image/png": "[encoded data removed]"
          },
          "metadata": {
            "needs_background": "light"
          }
        }
      ]
    },
    {
      "cell_type": "code",
      "source": [
        "model.evaluate(x_test, y_test)"
      ],
      "metadata": {
        "colab": {
          "base_uri": "https://localhost:8080/"
        },
        "id": "FtbnytX_3HZU",
        "outputId": "f38196a0-845d-4a6c-da34-c379fee4dcdd"
      },
      "execution_count": 15,
      "outputs": [
        {
          "output_type": "stream",
          "name": "stdout",
          "text": [
            "7/7 [==============================] - 0s 6ms/step - loss: 0.0174 - accuracy: 0.9950\n"
          ]
        },
        {
          "output_type": "execute_result",
          "data": {
            "text/plain": [
              "[0.017374472692608833, 0.9950000047683716]"
            ]
          },
          "metadata": {},
          "execution_count": 15
        }
      ]
    },
    {
      "cell_type": "code",
      "source": [
        "tf.keras.utils.plot_model(model, show_shapes=True)"
      ],
      "metadata": {
        "colab": {
          "base_uri": "https://localhost:8080/",
          "height": 533
        },
        "id": "zFWTkfEW3OoP",
        "outputId": "ed63880e-07d3-435f-ac33-1f4a6e685b42"
      },
      "execution_count": 16,
      "outputs": [
        {
          "output_type": "execute_result",
          "data": {
            "image/png": "[encoded data removed]",
            "text/plain": [
              "<IPython.core.display.Image object>"
            ]
          },
          "metadata": {},
          "execution_count": 16
        }
      ]
    },
    {
      "cell_type": "code",
      "source": [
        "y_pred = model.predict(x_test)"
      ],
      "metadata": {
        "colab": {
          "base_uri": "https://localhost:8080/"
        },
        "id": "SLgolKOVR6Sj",
        "outputId": "9214c457-be2c-420b-b0c1-ef6334ac8c7e"
      },
      "execution_count": 26,
      "outputs": [
        {
          "output_type": "stream",
          "name": "stdout",
          "text": [
            "7/7 [==============================] - 0s 3ms/step\n"
          ]
        }
      ]
    },
    {
      "cell_type": "code",
      "source": [
        "y_pred"
      ],
      "metadata": {
        "colab": {
          "base_uri": "https://localhost:8080/"
        },
        "id": "BI-55pHnR-mT",
        "outputId": "cb1df934-7e9f-447a-f212-1f118f247cde"
      },
      "execution_count": 28,
      "outputs": [
        {
          "output_type": "execute_result",
          "data": {
            "text/plain": [
              "array([[7.68724782e-03],\n",
              "       [8.79257350e-05],\n",
              "       [8.33744705e-01],\n",
              "       [9.98440206e-01],\n",
              "       [1.05199397e-04],\n",
              "       [9.75032162e-04],\n",
              "       [9.97084558e-01],\n",
              "       [9.51035321e-01],\n",
              "       [9.98011092e-04],\n",
              "       [9.96947110e-01],\n",
              "       [4.67261905e-03],\n",
              "       [4.67198482e-03],\n",
              "       [9.90152419e-01],\n",
              "       [9.94668424e-01],\n",
              "       [1.58309728e-01],\n",
              "       [9.86899257e-01],\n",
              "       [9.97855961e-01],\n",
              "       [9.88487124e-01],\n",
              "       [6.10026938e-04],\n",
              "       [1.07864777e-04],\n",
              "       [1.50965046e-04],\n",
              "       [1.25416070e-02],\n",
              "       [9.97121632e-01],\n",
              "       [9.98844385e-01],\n",
              "       [3.25391185e-04],\n",
              "       [9.98284042e-01],\n",
              "       [5.11041086e-04],\n",
              "       [9.75391828e-04],\n",
              "       [9.98443782e-01],\n",
              "       [1.66595855e-05],\n",
              "       [1.54638285e-04],\n",
              "       [9.98319089e-01],\n",
              "       [2.51073837e-02],\n",
              "       [1.71375216e-03],\n",
              "       [9.32006955e-01],\n",
              "       [9.33645606e-01],\n",
              "       [9.47188497e-01],\n",
              "       [2.43211128e-02],\n",
              "       [1.71319945e-04],\n",
              "       [9.96658683e-01],\n",
              "       [8.60360684e-04],\n",
              "       [5.13716543e-04],\n",
              "       [9.83870506e-01],\n",
              "       [4.62860847e-03],\n",
              "       [9.97557998e-01],\n",
              "       [9.93896544e-01],\n",
              "       [6.66927872e-03],\n",
              "       [9.98021960e-01],\n",
              "       [2.67014490e-04],\n",
              "       [9.03135598e-01],\n",
              "       [6.32998394e-03],\n",
              "       [2.86960480e-04],\n",
              "       [1.40068762e-03],\n",
              "       [1.04301216e-04],\n",
              "       [3.15754935e-02],\n",
              "       [2.08558311e-04],\n",
              "       [9.97983217e-01],\n",
              "       [9.82011020e-01],\n",
              "       [1.35312512e-04],\n",
              "       [5.62579278e-03],\n",
              "       [9.97310638e-01],\n",
              "       [6.20530127e-03],\n",
              "       [4.72301399e-05],\n",
              "       [9.41649020e-01],\n",
              "       [5.01577780e-02],\n",
              "       [9.84089017e-01],\n",
              "       [1.78437680e-03],\n",
              "       [9.97770548e-01],\n",
              "       [9.97108519e-01],\n",
              "       [2.78060634e-05],\n",
              "       [9.95370924e-01],\n",
              "       [9.97337997e-01],\n",
              "       [1.14870039e-04],\n",
              "       [9.97571886e-01],\n",
              "       [6.44183659e-04],\n",
              "       [9.98116136e-01],\n",
              "       [1.56418514e-02],\n",
              "       [4.82713804e-05],\n",
              "       [9.96929705e-01],\n",
              "       [7.47319718e-04],\n",
              "       [9.92503166e-01],\n",
              "       [9.98513162e-01],\n",
              "       [9.93611515e-01],\n",
              "       [9.92641628e-01],\n",
              "       [9.96413767e-01],\n",
              "       [9.98805046e-01],\n",
              "       [9.93822575e-01],\n",
              "       [9.83712673e-01],\n",
              "       [1.01447664e-02],\n",
              "       [9.95382607e-01],\n",
              "       [9.94348705e-01],\n",
              "       [9.97030854e-01],\n",
              "       [9.97209966e-01],\n",
              "       [4.20614658e-03],\n",
              "       [9.05774577e-05],\n",
              "       [9.24606264e-01],\n",
              "       [2.25737473e-04],\n",
              "       [9.12980199e-01],\n",
              "       [2.40082329e-04],\n",
              "       [9.98112202e-01],\n",
              "       [5.30271651e-03],\n",
              "       [8.29797864e-05],\n",
              "       [3.38578434e-03],\n",
              "       [9.84371960e-01],\n",
              "       [9.97560501e-01],\n",
              "       [7.66470563e-04],\n",
              "       [9.97804105e-01],\n",
              "       [9.81854796e-01],\n",
              "       [4.90415329e-03],\n",
              "       [9.74686027e-01],\n",
              "       [3.45709879e-04],\n",
              "       [3.94300208e-04],\n",
              "       [4.95220302e-04],\n",
              "       [4.34261638e-05],\n",
              "       [6.99747252e-05],\n",
              "       [9.88160849e-01],\n",
              "       [9.93392646e-01],\n",
              "       [9.96567130e-01],\n",
              "       [9.83416796e-01],\n",
              "       [2.21262733e-03],\n",
              "       [8.42511468e-03],\n",
              "       [1.95415877e-03],\n",
              "       [9.96753871e-01],\n",
              "       [9.94807780e-01],\n",
              "       [9.62719560e-01],\n",
              "       [3.91714966e-05],\n",
              "       [9.74630535e-01],\n",
              "       [9.98271823e-01],\n",
              "       [3.92576389e-04],\n",
              "       [1.79218900e-04],\n",
              "       [9.94103253e-01],\n",
              "       [3.39066470e-03],\n",
              "       [9.98150647e-01],\n",
              "       [9.96773779e-01],\n",
              "       [2.24292980e-05],\n",
              "       [9.67336535e-01],\n",
              "       [3.65617045e-04],\n",
              "       [2.34748513e-04],\n",
              "       [2.67623371e-04],\n",
              "       [9.98270631e-01],\n",
              "       [9.96886671e-01],\n",
              "       [9.90746975e-01],\n",
              "       [9.98905063e-01],\n",
              "       [9.97822881e-01],\n",
              "       [9.84663665e-01],\n",
              "       [9.40601766e-01],\n",
              "       [8.49542916e-02],\n",
              "       [1.69119833e-03],\n",
              "       [9.96615112e-01],\n",
              "       [9.97451127e-01],\n",
              "       [9.60727453e-01],\n",
              "       [9.67961073e-01],\n",
              "       [1.72548380e-03],\n",
              "       [1.50574298e-04],\n",
              "       [4.21089499e-04],\n",
              "       [2.09071636e-02],\n",
              "       [4.02523801e-05],\n",
              "       [9.92800355e-01],\n",
              "       [9.93661165e-01],\n",
              "       [9.97901320e-01],\n",
              "       [9.97770786e-01],\n",
              "       [1.27634848e-04],\n",
              "       [9.98768508e-01],\n",
              "       [9.96825695e-01],\n",
              "       [9.98065054e-01],\n",
              "       [9.84843791e-01],\n",
              "       [9.94090617e-01],\n",
              "       [1.07468357e-02],\n",
              "       [9.97326374e-01],\n",
              "       [9.97864783e-01],\n",
              "       [9.48192755e-05],\n",
              "       [9.97029424e-01],\n",
              "       [7.98501726e-03],\n",
              "       [1.02402028e-02],\n",
              "       [2.16121059e-02],\n",
              "       [9.98045444e-01],\n",
              "       [9.92786705e-01],\n",
              "       [9.98618484e-01],\n",
              "       [9.70439136e-01],\n",
              "       [9.97262716e-01],\n",
              "       [9.96609747e-01],\n",
              "       [4.18420997e-04],\n",
              "       [5.71444747e-04],\n",
              "       [9.96812880e-01],\n",
              "       [9.95875657e-01],\n",
              "       [3.88086587e-01],\n",
              "       [9.87601936e-01],\n",
              "       [9.98402178e-01],\n",
              "       [6.81926489e-01],\n",
              "       [3.64768296e-03],\n",
              "       [2.37044669e-03],\n",
              "       [9.90447164e-01],\n",
              "       [9.98546779e-01],\n",
              "       [1.62950205e-03],\n",
              "       [3.31872507e-05],\n",
              "       [9.98542786e-01],\n",
              "       [2.03962587e-02],\n",
              "       [1.09822722e-04],\n",
              "       [9.94506896e-01],\n",
              "       [9.98111010e-01]], dtype=float32)"
            ]
          },
          "metadata": {},
          "execution_count": 28
        }
      ]
    },
    {
      "cell_type": "code",
      "source": [
        "y_pred = tf.round(y_pred)"
      ],
      "metadata": {
        "id": "uS37fxANScBs"
      },
      "execution_count": 29,
      "outputs": []
    },
    {
      "cell_type": "code",
      "source": [
        "print(classification_report(y_test, y_pred))"
      ],
      "metadata": {
        "colab": {
          "base_uri": "https://localhost:8080/"
        },
        "id": "HolfoJWLRyA1",
        "outputId": "ae8493be-f632-4117-a6f1-27b38cdf7f7e"
      },
      "execution_count": 32,
      "outputs": [
        {
          "output_type": "stream",
          "name": "stdout",
          "text": [
            "              precision    recall  f1-score   support\n",
            "\n",
            "           0       0.99      1.00      0.99        91\n",
            "           1       1.00      0.99      1.00       109\n",
            "\n",
            "    accuracy                           0.99       200\n",
            "   macro avg       0.99      1.00      0.99       200\n",
            "weighted avg       1.00      0.99      1.00       200\n",
            "\n"
          ]
        }
      ]
    },
    {
      "cell_type": "code",
      "source": [
        "plot_confusion_matrix(confusion_matrix(y_test, y_pred), figsize=(6,7))\n",
        "plt.show()"
      ],
      "metadata": {
        "colab": {
          "base_uri": "https://localhost:8080/",
          "height": 397
        },
        "id": "f1G_g81BTWUu",
        "outputId": "787b5e40-d4d5-41bc-c8fb-544169cc15f3"
      },
      "execution_count": 46,
      "outputs": [
        {
          "output_type": "display_data",
          "data": {
            "text/plain": [
              "<Figure size 432x504 with 1 Axes>"
            ],
            "image/png": "[encoded data removed]"
          },
          "metadata": {
            "needs_background": "light"
          }
        }
      ]
    },
    {
      "cell_type": "code",
      "source": [
        "# create a toy tensor and apply sigmoid activation on it\n",
        "linear_x = tf.cast(tf.range(-10, 10), dtype=tf.float32)"
      ],
      "metadata": {
        "id": "8ggV_jzF4UTN"
      },
      "execution_count": 17,
      "outputs": []
    },
    {
      "cell_type": "code",
      "source": [
        "plt.plot(linear_x)\n",
        "plt.show()"
      ],
      "metadata": {
        "colab": {
          "base_uri": "https://localhost:8080/",
          "height": 265
        },
        "id": "tJn1jC-E-2Re",
        "outputId": "cbeb7055-3965-49b2-f358-53ab0e00f975"
      },
      "execution_count": 18,
      "outputs": [
        {
          "output_type": "display_data",
          "data": {
            "text/plain": [
              "<Figure size 432x288 with 1 Axes>"
            ],
            "image/png": "[encoded data removed]"
          },
          "metadata": {
            "needs_background": "light"
          }
        }
      ]
    },
    {
      "cell_type": "code",
      "source": [
        "def sigmoid(x):\n",
        "  return 1 / (1 + tf.exp(-x))"
      ],
      "metadata": {
        "id": "lm4zy4kH-3Fr"
      },
      "execution_count": 19,
      "outputs": []
    },
    {
      "cell_type": "code",
      "source": [
        "sigmoid_x = sigmoid(linear_x)"
      ],
      "metadata": {
        "id": "DHf-yfSvADMK"
      },
      "execution_count": 20,
      "outputs": []
    },
    {
      "cell_type": "code",
      "source": [
        "plt.plot(sigmoid_x)\n",
        "plt.show()"
      ],
      "metadata": {
        "colab": {
          "base_uri": "https://localhost:8080/",
          "height": 265
        },
        "id": "u1YHQ64pAdCe",
        "outputId": "13917c24-d9fa-4e9e-9dce-4c01a4fc0ec3"
      },
      "execution_count": 21,
      "outputs": [
        {
          "output_type": "display_data",
          "data": {
            "text/plain": [
              "<Figure size 432x288 with 1 Axes>"
            ],
            "image/png": "[encoded data removed]"
          },
          "metadata": {
            "needs_background": "light"
          }
        }
      ]
    },
    {
      "cell_type": "code",
      "source": [
        "# relu activation\n",
        "def relu(x):\n",
        "  return tf.maximum(0, x)"
      ],
      "metadata": {
        "id": "96ke4C1fAenP"
      },
      "execution_count": 22,
      "outputs": []
    },
    {
      "cell_type": "code",
      "source": [
        "relu_x = relu(linear_x)"
      ],
      "metadata": {
        "id": "OEYQRmmxA_0m"
      },
      "execution_count": 23,
      "outputs": []
    },
    {
      "cell_type": "code",
      "source": [
        "plt.plot(relu_x)\n",
        "plt.show()"
      ],
      "metadata": {
        "colab": {
          "base_uri": "https://localhost:8080/",
          "height": 265
        },
        "id": "ZAHOyvurBDK2",
        "outputId": "d0b231a3-e8eb-4e4d-8ebf-2e21ee9404c8"
      },
      "execution_count": 24,
      "outputs": [
        {
          "output_type": "display_data",
          "data": {
            "text/plain": [
              "<Figure size 432x288 with 1 Axes>"
            ],
            "image/png": "[encoded data removed]"
          },
          "metadata": {
            "needs_background": "light"
          }
        }
      ]
    },
    {
      "cell_type": "code",
      "source": [],
      "metadata": {
        "id": "IdJa0zIZBEg6"
      },
      "execution_count": 24,
      "outputs": []
    }
  ]
}