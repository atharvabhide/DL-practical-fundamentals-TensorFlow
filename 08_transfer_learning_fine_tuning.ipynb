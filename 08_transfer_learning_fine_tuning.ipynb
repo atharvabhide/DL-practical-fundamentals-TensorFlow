{
  "nbformat": 4,
  "nbformat_minor": 0,
  "metadata": {
    "colab": {
      "provenance": []
    },
    "kernelspec": {
      "name": "python3",
      "display_name": "Python 3"
    },
    "language_info": {
      "name": "python"
    },
    "accelerator": "GPU",
    "gpuClass": "standard"
  },
  "cells": [
    {
      "cell_type": "code",
      "execution_count": 2,
      "metadata": {
        "id": "HDE9EBy3kcRh"
      },
      "outputs": [],
      "source": [
        "# get helper functions\n",
        "# ! wget https://raw.githubusercontent.com/mrdbourke/tensorflow-deep-learning/main/extras/helper_functions.py"
      ]
    },
    {
      "cell_type": "code",
      "source": [
        "from helper_functions import (\n",
        "    create_tensorboard_callback,\n",
        "    plot_loss_curves,\n",
        "    unzip_data,\n",
        "    walk_through_dir\n",
        ")"
      ],
      "metadata": {
        "id": "WXsrEbdZ3L1-"
      },
      "execution_count": 3,
      "outputs": []
    },
    {
      "cell_type": "markdown",
      "source": [
        "# Experiment 0"
      ],
      "metadata": {
        "id": "wIbrXEDS3c8p"
      }
    },
    {
      "cell_type": "code",
      "source": [
        "# ! wget https://storage.googleapis.com/ztm_tf_course/food_vision/10_food_classes_10_percent.zip"
      ],
      "metadata": {
        "colab": {
          "base_uri": "https://localhost:8080/"
        },
        "id": "1zeYck_e3uHB",
        "outputId": "ecfb8d04-629b-4859-db73-4b62a5ff2208"
      },
      "execution_count": 4,
      "outputs": [
        {
          "output_type": "stream",
          "name": "stdout",
          "text": [
            "--2023-02-24 07:56:29--  https://storage.googleapis.com/ztm_tf_course/food_vision/10_food_classes_10_percent.zip\n",
            "Resolving storage.googleapis.com (storage.googleapis.com)... 142.251.12.128, 172.217.194.128, 74.125.200.128, ...\n",
            "Connecting to storage.googleapis.com (storage.googleapis.com)|142.251.12.128|:443... connected.\n",
            "HTTP request sent, awaiting response... 200 OK\n",
            "Length: 168546183 (161M) [application/zip]\n",
            "Saving to: ‘10_food_classes_10_percent.zip’\n",
            "\n",
            "10_food_classes_10_ 100%[===================>] 160.74M  22.9MB/s    in 8.0s    \n",
            "\n",
            "2023-02-24 07:56:38 (20.0 MB/s) - ‘10_food_classes_10_percent.zip’ saved [168546183/168546183]\n",
            "\n"
          ]
        }
      ]
    },
    {
      "cell_type": "code",
      "source": [
        "# ! unzip 10_food_classes_10_percent.zip"
      ],
      "metadata": {
        "id": "kXDIvHvO5BjM"
      },
      "execution_count": 6,
      "outputs": []
    },
    {
      "cell_type": "code",
      "source": [
        "walk_through_dir(\"10_food_classes_10_percent\")"
      ],
      "metadata": {
        "colab": {
          "base_uri": "https://localhost:8080/"
        },
        "id": "TBMCCHVD5F76",
        "outputId": "d5cfae84-6044-459a-8adc-4c336aab0444"
      },
      "execution_count": 7,
      "outputs": [
        {
          "output_type": "stream",
          "name": "stdout",
          "text": [
            "There are 2 directories and 0 images in '10_food_classes_10_percent'.\n",
            "There are 10 directories and 0 images in '10_food_classes_10_percent/test'.\n",
            "There are 0 directories and 250 images in '10_food_classes_10_percent/test/chicken_curry'.\n",
            "There are 0 directories and 250 images in '10_food_classes_10_percent/test/sushi'.\n",
            "There are 0 directories and 250 images in '10_food_classes_10_percent/test/ramen'.\n",
            "There are 0 directories and 250 images in '10_food_classes_10_percent/test/pizza'.\n",
            "There are 0 directories and 250 images in '10_food_classes_10_percent/test/chicken_wings'.\n",
            "There are 0 directories and 250 images in '10_food_classes_10_percent/test/steak'.\n",
            "There are 0 directories and 250 images in '10_food_classes_10_percent/test/grilled_salmon'.\n",
            "There are 0 directories and 250 images in '10_food_classes_10_percent/test/fried_rice'.\n",
            "There are 0 directories and 250 images in '10_food_classes_10_percent/test/ice_cream'.\n",
            "There are 0 directories and 250 images in '10_food_classes_10_percent/test/hamburger'.\n",
            "There are 10 directories and 0 images in '10_food_classes_10_percent/train'.\n",
            "There are 0 directories and 75 images in '10_food_classes_10_percent/train/chicken_curry'.\n",
            "There are 0 directories and 75 images in '10_food_classes_10_percent/train/sushi'.\n",
            "There are 0 directories and 75 images in '10_food_classes_10_percent/train/ramen'.\n",
            "There are 0 directories and 75 images in '10_food_classes_10_percent/train/pizza'.\n",
            "There are 0 directories and 75 images in '10_food_classes_10_percent/train/chicken_wings'.\n",
            "There are 0 directories and 75 images in '10_food_classes_10_percent/train/steak'.\n",
            "There are 0 directories and 75 images in '10_food_classes_10_percent/train/grilled_salmon'.\n",
            "There are 0 directories and 75 images in '10_food_classes_10_percent/train/fried_rice'.\n",
            "There are 0 directories and 75 images in '10_food_classes_10_percent/train/ice_cream'.\n",
            "There are 0 directories and 75 images in '10_food_classes_10_percent/train/hamburger'.\n"
          ]
        }
      ]
    },
    {
      "cell_type": "code",
      "source": [
        "import tensorflow as tf\n",
        "import pandas as pd\n",
        "import numpy as np\n",
        "import os\n",
        "import matplotlib.pyplot as plt\n",
        "import warnings\n",
        "warnings.filterwarnings(\"ignore\")\n",
        "%matplotlib inline"
      ],
      "metadata": {
        "id": "lB78EtG75dt9"
      },
      "execution_count": 8,
      "outputs": []
    },
    {
      "cell_type": "code",
      "source": [
        "IMG_SIZE = (224, 224)\n",
        "TRAIN_DIR = \"10_food_classes_10_percent/train\"\n",
        "TEST_DIR = \"10_food_classes_10_percent/test\"\n",
        "BATCH_SIZE = 32"
      ],
      "metadata": {
        "id": "scsXeHRU_0ey"
      },
      "execution_count": 9,
      "outputs": []
    },
    {
      "cell_type": "code",
      "source": [
        "train_data = tf.keras.preprocessing.image_dataset_from_directory(TRAIN_DIR,\n",
        "                                                                 image_size=IMG_SIZE,\n",
        "                                                                 label_mode=\"categorical\",\n",
        "                                                                 batch_size=BATCH_SIZE,\n",
        "                                                                 seed=42)\n",
        "test_data = tf.keras.preprocessing.image_dataset_from_directory(TEST_DIR,\n",
        "                                                                image_size=IMG_SIZE,\n",
        "                                                                label_mode=\"categorical\",\n",
        "                                                                batch_size=BATCH_SIZE,\n",
        "                                                                seed=42)"
      ],
      "metadata": {
        "colab": {
          "base_uri": "https://localhost:8080/"
        },
        "id": "xCOR3MumAw5m",
        "outputId": "525d0b86-2a1a-46d8-f7f8-8506834d9cc1"
      },
      "execution_count": 10,
      "outputs": [
        {
          "output_type": "stream",
          "name": "stdout",
          "text": [
            "Found 750 files belonging to 10 classes.\n",
            "Found 2500 files belonging to 10 classes.\n"
          ]
        }
      ]
    },
    {
      "cell_type": "code",
      "source": [
        "type(train_data), type(test_data)"
      ],
      "metadata": {
        "colab": {
          "base_uri": "https://localhost:8080/"
        },
        "id": "hB44C56WBtDe",
        "outputId": "a290c2f1-9527-4091-83e0-9f663c64f746"
      },
      "execution_count": 11,
      "outputs": [
        {
          "output_type": "execute_result",
          "data": {
            "text/plain": [
              "(tensorflow.python.data.ops.dataset_ops.BatchDataset,\n",
              " tensorflow.python.data.ops.dataset_ops.BatchDataset)"
            ]
          },
          "metadata": {},
          "execution_count": 11
        }
      ]
    },
    {
      "cell_type": "code",
      "source": [
        "# image_dataset_from_directory creates batches of images"
      ],
      "metadata": {
        "id": "ry3jSOeiB2kM"
      },
      "execution_count": 12,
      "outputs": []
    },
    {
      "cell_type": "code",
      "source": [
        "train_data.class_names"
      ],
      "metadata": {
        "colab": {
          "base_uri": "https://localhost:8080/"
        },
        "id": "_7UCzDndCjcC",
        "outputId": "53965175-df6b-4aaf-c7c2-2d4231e10602"
      },
      "execution_count": 13,
      "outputs": [
        {
          "output_type": "execute_result",
          "data": {
            "text/plain": [
              "['chicken_curry',\n",
              " 'chicken_wings',\n",
              " 'fried_rice',\n",
              " 'grilled_salmon',\n",
              " 'hamburger',\n",
              " 'ice_cream',\n",
              " 'pizza',\n",
              " 'ramen',\n",
              " 'steak',\n",
              " 'sushi']"
            ]
          },
          "metadata": {},
          "execution_count": 13
        }
      ]
    },
    {
      "cell_type": "code",
      "source": [
        "# see an example of a batch\n",
        "for image,label in train_data.take(1):\n",
        "  print(image)\n",
        "  print(label)"
      ],
      "metadata": {
        "colab": {
          "base_uri": "https://localhost:8080/"
        },
        "id": "Cl8UMiY_DVCe",
        "outputId": "f38affa5-7253-4d05-cf14-517fb432a74f"
      },
      "execution_count": 14,
      "outputs": [
        {
          "output_type": "stream",
          "name": "stdout",
          "text": [
            "tf.Tensor(\n",
            "[[[[1.10000000e+02 6.32397957e+01 0.00000000e+00]\n",
            "   [1.18780609e+02 7.49744949e+01 7.37755108e+00]\n",
            "   [1.06168365e+02 6.54438782e+01 1.02551079e+00]\n",
            "   ...\n",
            "   [9.51429443e+01 5.70000000e+01 2.21426392e+00]\n",
            "   [1.04714348e+02 6.15000267e+01 8.57146740e+00]\n",
            "   [1.10357109e+02 6.33571091e+01 9.35710812e+00]]\n",
            "\n",
            "  [[1.14693878e+02 7.08877563e+01 4.36224604e+00]\n",
            "   [1.14423470e+02 7.30051041e+01 7.14285660e+00]\n",
            "   [1.10346939e+02 7.12346954e+01 6.29081631e+00]\n",
            "   ...\n",
            "   [9.44694366e+01 5.59285736e+01 1.34179497e+00]\n",
            "   [1.00285751e+02 5.70714264e+01 4.14286995e+00]\n",
            "   [1.07311264e+02 5.74490089e+01 4.40309334e+00]]\n",
            "\n",
            "  [[1.07239792e+02 6.82346954e+01 7.65306503e-02]\n",
            "   [1.13382652e+02 7.48112259e+01 7.59694004e+00]\n",
            "   [1.13469383e+02 7.48520432e+01 9.94387722e+00]\n",
            "   ...\n",
            "   [9.81888351e+01 5.96173630e+01 5.04589176e+00]\n",
            "   [1.02857155e+02 5.68571548e+01 4.85715580e+00]\n",
            "   [1.09576607e+02 5.95766068e+01 6.57660770e+00]]\n",
            "\n",
            "  ...\n",
            "\n",
            "  [[9.08060455e+01 6.93775177e+01 2.37751961e+00]\n",
            "   [9.02449646e+01 6.91990509e+01 4.21435165e+00]\n",
            "   [8.26632767e+01 6.32806396e+01 9.18274522e-02]\n",
            "   ...\n",
            "   [5.38824654e+01 2.38824654e+01 1.11722851e+00]\n",
            "   [4.99592323e+01 2.15307064e+01 0.00000000e+00]\n",
            "   [5.27040253e+01 2.40612335e+01 2.35202789e+00]]\n",
            "\n",
            "  [[8.45306549e+01 6.55765839e+01 2.39839837e-01]\n",
            "   [8.84488907e+01 7.05815887e+01 4.51524401e+00]\n",
            "   [8.39744873e+01 6.90051041e+01 1.98979414e+00]\n",
            "   ...\n",
            "   [4.98469048e+01 2.14183769e+01 6.12294711e-02]\n",
            "   [5.55152206e+01 2.75152206e+01 3.64789557e+00]\n",
            "   [5.30714417e+01 2.50714417e+01 3.07144165e+00]]\n",
            "\n",
            "  [[8.37753220e+01 6.57753220e+01 1.10198092e+00]\n",
            "   [8.21327438e+01 6.69949951e+01 6.63330257e-01]\n",
            "   [8.74032364e+01 7.44032364e+01 6.40323353e+00]\n",
            "   ...\n",
            "   [5.51223755e+01 2.66938477e+01 2.69384837e+00]\n",
            "   [4.85256996e+01 2.05256996e+01 1.73511118e-01]\n",
            "   [5.52040520e+01 2.92040520e+01 6.20405197e+00]]]\n",
            "\n",
            "\n",
            " [[[2.17377224e+01 2.07377224e+01 1.67377224e+01]\n",
            "   [2.30524559e+01 2.20524559e+01 1.80524559e+01]\n",
            "   [2.14229927e+01 2.04229927e+01 1.64229927e+01]\n",
            "   ...\n",
            "   [1.71965332e+02 1.62025543e+02 1.58031097e+02]\n",
            "   [1.59733032e+02 1.43277618e+02 1.35102417e+02]\n",
            "   [1.15622314e+02 9.51769104e+01 8.62684631e+01]]\n",
            "\n",
            "  [[2.22845993e+01 2.12845993e+01 1.72845993e+01]\n",
            "   [2.22031250e+01 2.12031250e+01 1.72031250e+01]\n",
            "   [2.27968750e+01 2.17968750e+01 1.77968750e+01]\n",
            "   ...\n",
            "   [1.74621552e+02 1.65835815e+02 1.61435074e+02]\n",
            "   [1.59842422e+02 1.44745270e+02 1.37424973e+02]\n",
            "   [1.18235062e+02 9.90084610e+01 9.14716339e+01]]\n",
            "\n",
            "  [[2.29252224e+01 2.19252224e+01 1.79252224e+01]\n",
            "   [2.19285717e+01 2.09285717e+01 1.69285717e+01]\n",
            "   [2.40435257e+01 2.30435257e+01 1.90435257e+01]\n",
            "   ...\n",
            "   [1.72485382e+02 1.65057861e+02 1.62268784e+02]\n",
            "   [1.54207382e+02 1.41529861e+02 1.35649307e+02]\n",
            "   [1.16678246e+02 9.96201401e+01 9.28601227e+01]]\n",
            "\n",
            "  ...\n",
            "\n",
            "  [[1.98760040e+02 2.11760040e+02 2.20760040e+02]\n",
            "   [2.01233261e+02 2.14233261e+02 2.23233261e+02]\n",
            "   [2.02472092e+02 2.15472092e+02 2.24472092e+02]\n",
            "   ...\n",
            "   [1.92439651e+02 2.05653915e+02 2.15082443e+02]\n",
            "   [1.89976562e+02 1.99976562e+02 2.09976562e+02]\n",
            "   [1.89431900e+02 1.99431900e+02 2.08431900e+02]]\n",
            "\n",
            "  [[1.97927460e+02 2.10927460e+02 2.19927460e+02]\n",
            "   [1.99928574e+02 2.12928574e+02 2.21928574e+02]\n",
            "   [2.01796875e+02 2.14796875e+02 2.23796875e+02]\n",
            "   ...\n",
            "   [1.90181885e+02 2.03396149e+02 2.12824677e+02]\n",
            "   [1.88796875e+02 1.98796875e+02 2.08796875e+02]\n",
            "   [1.88236572e+02 1.98236572e+02 2.07236572e+02]]\n",
            "\n",
            "  [[1.97170761e+02 2.10170761e+02 2.19170761e+02]\n",
            "   [1.99876114e+02 2.12876114e+02 2.21876114e+02]\n",
            "   [2.01000000e+02 2.14000000e+02 2.23000000e+02]\n",
            "   ...\n",
            "   [1.87745514e+02 2.00959778e+02 2.10388306e+02]\n",
            "   [1.87947540e+02 1.97947540e+02 2.07947540e+02]\n",
            "   [1.85908447e+02 1.95908447e+02 2.04908447e+02]]]\n",
            "\n",
            "\n",
            " [[[8.99799118e+01 8.25637741e+01 1.01812180e+02]\n",
            "   [7.47889023e+01 6.79008331e+01 8.58220673e+01]\n",
            "   [6.60758896e+01 6.18223839e+01 7.72110901e+01]\n",
            "   ...\n",
            "   [1.33571424e+01 1.23571424e+01 1.73571434e+01]\n",
            "   [1.33571424e+01 1.23571424e+01 1.73571434e+01]\n",
            "   [1.32311926e+01 1.42311926e+01 1.82311916e+01]]\n",
            "\n",
            "  [[7.46125641e+01 7.08686218e+01 9.30918350e+01]\n",
            "   [8.22959213e+01 7.92691345e+01 1.00023598e+02]\n",
            "   [7.16910095e+01 7.05481567e+01 8.84767227e+01]\n",
            "   ...\n",
            "   [1.30000000e+01 1.20000000e+01 1.70000000e+01]\n",
            "   [1.30000000e+01 1.20000000e+01 1.70000000e+01]\n",
            "   [1.26011009e+01 1.36011009e+01 1.76011009e+01]]\n",
            "\n",
            "  [[8.86648636e+01 8.96600723e+01 1.15735970e+02]\n",
            "   [8.37662659e+01 8.61948395e+01 1.11532211e+02]\n",
            "   [8.56744232e+01 8.81029968e+01 1.11960136e+02]\n",
            "   ...\n",
            "   [1.38364210e+01 1.28364210e+01 1.78364220e+01]\n",
            "   [1.40000000e+01 1.30000000e+01 1.80000000e+01]\n",
            "   [1.37857141e+01 1.47857141e+01 1.87857132e+01]]\n",
            "\n",
            "  ...\n",
            "\n",
            "  [[1.90755653e+01 1.20755663e+01 4.07556629e+00]\n",
            "   [1.92018280e+01 1.22018290e+01 4.20182896e+00]\n",
            "   [1.84001751e+01 1.14001741e+01 3.40017462e+00]\n",
            "   ...\n",
            "   [7.09172211e+01 8.91314850e+01 1.27560013e+02]\n",
            "   [5.75088615e+01 7.63286285e+01 1.12671349e+02]\n",
            "   [3.04589252e+01 5.03159790e+01 8.17272339e+01]]\n",
            "\n",
            "  [[2.09285583e+01 1.39285583e+01 5.92855835e+00]\n",
            "   [1.99285583e+01 1.29285583e+01 4.92855835e+00]\n",
            "   [1.99285583e+01 1.29285583e+01 4.92855835e+00]\n",
            "   ...\n",
            "   [5.40877495e+01 6.85261307e+01 1.01003731e+02]\n",
            "   [3.51433601e+01 4.88078690e+01 7.59467621e+01]\n",
            "   [2.42514782e+01 3.53183708e+01 5.78093681e+01]]\n",
            "\n",
            "  [[1.97732906e+01 1.27732906e+01 4.77329016e+00]\n",
            "   [1.83364487e+01 1.13364487e+01 3.33644867e+00]\n",
            "   [1.82726669e+01 1.12726669e+01 3.27266693e+00]\n",
            "   ...\n",
            "   [3.31408157e+01 4.30061455e+01 7.00066605e+01]\n",
            "   [2.43985920e+01 3.01408710e+01 5.16378479e+01]\n",
            "   [2.55209541e+01 2.87431374e+01 4.57341042e+01]]]\n",
            "\n",
            "\n",
            " ...\n",
            "\n",
            "\n",
            " [[[2.53000000e+02 2.55000000e+02 2.54000000e+02]\n",
            "   [2.52000000e+02 2.54000000e+02 2.53000000e+02]\n",
            "   [2.53000000e+02 2.53000000e+02 2.51000000e+02]\n",
            "   ...\n",
            "   [2.52000000e+02 2.54000000e+02 2.53000000e+02]\n",
            "   [2.52071442e+02 2.54071442e+02 2.53071442e+02]\n",
            "   [2.54000000e+02 2.55000000e+02 2.55000000e+02]]\n",
            "\n",
            "  [[2.53000000e+02 2.55000000e+02 2.54000000e+02]\n",
            "   [2.52933670e+02 2.54933670e+02 2.53933670e+02]\n",
            "   [2.53000000e+02 2.53000000e+02 2.51000000e+02]\n",
            "   ...\n",
            "   [2.52198959e+02 2.54198959e+02 2.53198959e+02]\n",
            "   [2.52071442e+02 2.54071442e+02 2.53071442e+02]\n",
            "   [2.53025513e+02 2.55000000e+02 2.54025513e+02]]\n",
            "\n",
            "  [[2.54000000e+02 2.55000000e+02 2.55000000e+02]\n",
            "   [2.53015305e+02 2.55000000e+02 2.54015305e+02]\n",
            "   [2.54000000e+02 2.54000000e+02 2.52000000e+02]\n",
            "   ...\n",
            "   [2.53045914e+02 2.54831635e+02 2.54214279e+02]\n",
            "   [2.52000000e+02 2.54000000e+02 2.53000000e+02]\n",
            "   [2.52785721e+02 2.54785721e+02 2.51785721e+02]]\n",
            "\n",
            "  ...\n",
            "\n",
            "  [[2.51943878e+02 2.53785736e+02 2.55000000e+02]\n",
            "   [2.50000015e+02 2.50000015e+02 2.48142883e+02]\n",
            "   [2.52617340e+02 2.49280594e+02 2.44020401e+02]\n",
            "   ...\n",
            "   [2.54000000e+02 2.54000000e+02 2.54000000e+02]\n",
            "   [2.54000000e+02 2.54000000e+02 2.54000000e+02]\n",
            "   [2.54000000e+02 2.54000000e+02 2.54000000e+02]]\n",
            "\n",
            "  [[2.49571411e+02 2.54239792e+02 2.51142822e+02]\n",
            "   [2.51142853e+02 2.52076523e+02 2.47209167e+02]\n",
            "   [2.50586777e+02 2.47372482e+02 2.39831650e+02]\n",
            "   ...\n",
            "   [2.54000000e+02 2.54000000e+02 2.54000000e+02]\n",
            "   [2.54000000e+02 2.54000000e+02 2.54000000e+02]\n",
            "   [2.54000000e+02 2.54000000e+02 2.54000000e+02]]\n",
            "\n",
            "  [[2.51127594e+02 2.55000000e+02 2.50127594e+02]\n",
            "   [2.50836700e+02 2.51836700e+02 2.45882614e+02]\n",
            "   [2.51142715e+02 2.47928436e+02 2.38928436e+02]\n",
            "   ...\n",
            "   [2.54000000e+02 2.54000000e+02 2.54000000e+02]\n",
            "   [2.54000000e+02 2.54000000e+02 2.54000000e+02]\n",
            "   [2.54000000e+02 2.54000000e+02 2.54000000e+02]]]\n",
            "\n",
            "\n",
            " [[[2.11734695e+01 1.61734695e+01 1.24030609e+01]\n",
            "   [2.07908173e+01 1.84540825e+01 1.34540825e+01]\n",
            "   [1.98571434e+01 1.86377563e+01 1.47244902e+01]\n",
            "   ...\n",
            "   [1.32142639e+01 1.40000000e+01 1.55714722e+01]\n",
            "   [1.40000000e+01 1.40000000e+01 1.38571167e+01]\n",
            "   [1.70000000e+01 1.30000000e+01 1.12856445e+01]]\n",
            "\n",
            "  [[1.81683674e+01 1.41683664e+01 1.37397957e+01]\n",
            "   [1.99183674e+01 1.59846935e+01 1.29846935e+01]\n",
            "   [2.08979607e+01 9.07142735e+00 2.68877363e+00]\n",
            "   ...\n",
            "   [1.39438763e+01 1.40000000e+01 1.51735535e+01]\n",
            "   [1.40000000e+01 1.40000000e+01 1.39897938e+01]\n",
            "   [1.70000000e+01 1.30000000e+01 1.12856445e+01]]\n",
            "\n",
            "  [[1.51530609e+01 1.30765305e+01 1.72193890e+01]\n",
            "   [1.75714264e+01 1.20459166e+01 9.53060913e+00]\n",
            "   [3.84081650e+01 1.52704096e+01 3.87244940e+00]\n",
            "   ...\n",
            "   [1.43060913e+01 1.39540863e+01 1.51429443e+01]\n",
            "   [1.40000000e+01 1.40000000e+01 1.43979540e+01]\n",
            "   [1.55612793e+01 1.37193604e+01 1.20000000e+01]]\n",
            "\n",
            "  ...\n",
            "\n",
            "  [[1.37704096e+01 1.23418818e+01 8.12761784e+00]\n",
            "   [2.24693680e+01 1.75561008e+01 1.31990013e+01]\n",
            "   [3.24543076e+01 1.62196655e+01 6.95937872e+00]\n",
            "   ...\n",
            "   [4.87287178e+01 4.83001862e+01 5.05144539e+01]\n",
            "   [1.88879147e+01 1.88879147e+01 2.08879147e+01]\n",
            "   [1.68622360e+01 1.76479721e+01 1.96479721e+01]]\n",
            "\n",
            "  [[1.31020460e+01 1.32194147e+01 1.20306568e+01]\n",
            "   [1.75255928e+01 1.37347755e+01 1.09541893e+01]\n",
            "   [3.75405769e+01 2.57701836e+01 1.97957363e+01]\n",
            "   ...\n",
            "   [2.16938305e+01 2.28622341e+01 2.48060989e+01]\n",
            "   [1.45152206e+01 1.59285583e+01 1.77907791e+01]\n",
            "   [1.64588814e+01 2.04588814e+01 2.14588814e+01]]\n",
            "\n",
            "  [[1.54846020e+01 1.64846020e+01 1.91988869e+01]\n",
            "   [1.72752876e+01 1.40814734e+01 1.39386854e+01]\n",
            "   [1.99185276e+01 1.23318748e+01 1.01277733e+01]\n",
            "   ...\n",
            "   [2.04592743e+01 2.44592743e+01 2.54592743e+01]\n",
            "   [2.03827248e+01 2.43827248e+01 2.53827248e+01]\n",
            "   [1.18880892e+01 1.58880892e+01 1.68880882e+01]]]\n",
            "\n",
            "\n",
            " [[[4.35011139e+01 7.82198715e+01 7.19787979e+01]\n",
            "   [4.48158493e+01 7.94040146e+01 7.52433014e+01]\n",
            "   [4.74520073e+01 7.92075882e+01 7.85691986e+01]\n",
            "   ...\n",
            "   [1.45043503e+02 1.53257767e+02 1.37829239e+02]\n",
            "   [1.45143951e+02 1.56143951e+02 1.42143951e+02]\n",
            "   [1.35776596e+02 1.46776596e+02 1.32776596e+02]]\n",
            "\n",
            "  [[4.76026764e+01 7.84933014e+01 6.81272278e+01]\n",
            "   [4.92299118e+01 8.04274597e+01 7.31752243e+01]\n",
            "   [4.94609375e+01 8.06104889e+01 7.68973236e+01]\n",
            "   ...\n",
            "   [1.43156250e+02 1.51370514e+02 1.35941986e+02]\n",
            "   [1.38706436e+02 1.49706436e+02 1.35706436e+02]\n",
            "   [1.34893951e+02 1.45893951e+02 1.31893951e+02]]\n",
            "\n",
            "  [[4.70725441e+01 7.24609375e+01 5.37901764e+01]\n",
            "   [4.89397354e+01 7.67299118e+01 6.29709816e+01]\n",
            "   [4.60178566e+01 7.46305771e+01 6.49910736e+01]\n",
            "   ...\n",
            "   [1.42000000e+02 1.50214264e+02 1.34785736e+02]\n",
            "   [1.36610474e+02 1.47610474e+02 1.33610474e+02]\n",
            "   [1.34809158e+02 1.45809158e+02 1.31809158e+02]]\n",
            "\n",
            "  ...\n",
            "\n",
            "  [[1.80915177e+00 3.69977689e+00 7.40290165e+00]\n",
            "   [5.02230227e-02 1.66517830e+00 4.77455330e+00]\n",
            "   [0.00000000e+00 1.06361616e+00 4.17299128e+00]\n",
            "   ...\n",
            "   [2.08532364e+02 2.05829239e+02 1.89422989e+02]\n",
            "   [2.07468750e+02 2.04765625e+02 1.88359375e+02]\n",
            "   [2.06468750e+02 2.03765625e+02 1.87359375e+02]]\n",
            "\n",
            "  [[9.85490978e-01 4.98549128e+00 7.24218750e+00]\n",
            "   [0.00000000e+00 2.49330330e+00 3.49330330e+00]\n",
            "   [0.00000000e+00 1.09040189e+00 9.34151888e-01]\n",
            "   ...\n",
            "   [2.47340393e+02 2.47074768e+02 2.33809143e+02]\n",
            "   [2.46828125e+02 2.46562500e+02 2.33296875e+02]\n",
            "   [2.45828125e+02 2.46140625e+02 2.32296875e+02]]\n",
            "\n",
            "  [[1.88058007e+00 5.88057995e+00 5.87611580e+00]\n",
            "   [0.00000000e+00 2.07142830e+00 1.35267830e+00]\n",
            "   [0.00000000e+00 2.22767878e+00 0.00000000e+00]\n",
            "   ...\n",
            "   [2.46265625e+02 2.51562500e+02 2.39562500e+02]\n",
            "   [2.46265625e+02 2.51562500e+02 2.39562500e+02]\n",
            "   [2.46125000e+02 2.51562500e+02 2.39421875e+02]]]], shape=(32, 224, 224, 3), dtype=float32)\n",
            "tf.Tensor(\n",
            "[[0. 0. 0. 0. 0. 0. 0. 0. 0. 1.]\n",
            " [0. 0. 0. 0. 0. 0. 0. 0. 1. 0.]\n",
            " [1. 0. 0. 0. 0. 0. 0. 0. 0. 0.]\n",
            " [0. 0. 0. 0. 0. 0. 0. 0. 0. 1.]\n",
            " [1. 0. 0. 0. 0. 0. 0. 0. 0. 0.]\n",
            " [0. 1. 0. 0. 0. 0. 0. 0. 0. 0.]\n",
            " [0. 1. 0. 0. 0. 0. 0. 0. 0. 0.]\n",
            " [0. 0. 0. 1. 0. 0. 0. 0. 0. 0.]\n",
            " [0. 0. 0. 0. 0. 0. 0. 0. 0. 1.]\n",
            " [0. 0. 0. 0. 0. 0. 1. 0. 0. 0.]\n",
            " [0. 0. 0. 0. 1. 0. 0. 0. 0. 0.]\n",
            " [0. 0. 0. 0. 0. 0. 0. 0. 0. 1.]\n",
            " [0. 0. 1. 0. 0. 0. 0. 0. 0. 0.]\n",
            " [0. 0. 0. 0. 1. 0. 0. 0. 0. 0.]\n",
            " [1. 0. 0. 0. 0. 0. 0. 0. 0. 0.]\n",
            " [0. 1. 0. 0. 0. 0. 0. 0. 0. 0.]\n",
            " [0. 0. 0. 0. 0. 0. 1. 0. 0. 0.]\n",
            " [0. 0. 1. 0. 0. 0. 0. 0. 0. 0.]\n",
            " [0. 1. 0. 0. 0. 0. 0. 0. 0. 0.]\n",
            " [0. 0. 0. 0. 0. 0. 0. 0. 0. 1.]\n",
            " [0. 0. 1. 0. 0. 0. 0. 0. 0. 0.]\n",
            " [0. 0. 0. 0. 0. 0. 0. 0. 0. 1.]\n",
            " [0. 0. 0. 0. 0. 1. 0. 0. 0. 0.]\n",
            " [0. 0. 0. 0. 0. 0. 0. 1. 0. 0.]\n",
            " [0. 0. 0. 1. 0. 0. 0. 0. 0. 0.]\n",
            " [0. 0. 0. 0. 0. 0. 1. 0. 0. 0.]\n",
            " [0. 0. 0. 0. 0. 0. 0. 0. 0. 1.]\n",
            " [0. 0. 0. 0. 0. 1. 0. 0. 0. 0.]\n",
            " [0. 0. 0. 0. 0. 1. 0. 0. 0. 0.]\n",
            " [1. 0. 0. 0. 0. 0. 0. 0. 0. 0.]\n",
            " [1. 0. 0. 0. 0. 0. 0. 0. 0. 0.]\n",
            " [0. 0. 0. 1. 0. 0. 0. 0. 0. 0.]], shape=(32, 10), dtype=float32)\n"
          ]
        }
      ]
    },
    {
      "cell_type": "code",
      "source": [
        "# model_0 -> using the functional API on 10% data without augumentation\n",
        "\n",
        "# create base model\n",
        "base_model = tf.keras.applications.EfficientNetB0(include_top=False)\n",
        "\n",
        "# freeze the base model\n",
        "base_model.trainable = False\n",
        "\n",
        "# create inputs\n",
        "inputs = tf.keras.layers.Input(shape=(224,224,3), name=\"input_layer\") \n",
        "\n",
        "# pass inputs to base model\n",
        "x = base_model(inputs)\n",
        "print(f\"Shape after passing inputs through base model is {x.shape}\")\n",
        "\n",
        "# average pool the outputs of the base model\n",
        "x = tf.keras.layers.GlobalAveragePooling2D(name=\"global_average_pooling_layer\")(x)\n",
        "print(f\"Shape after passing through global average pooling is {x.shape}\")\n",
        "\n",
        "# create outputs\n",
        "outputs = tf.keras.layers.Dense(10, activation=\"softmax\")(x)  \n",
        "\n",
        "# combine inputs and outputs to form a model\n",
        "model_0 = tf.keras.Model(inputs, outputs)\n",
        "\n",
        "# compile the model\n",
        "model_0.compile(loss=\"categorical_crossentropy\",\n",
        "                optimizer=\"adam\",\n",
        "                metrics=[\"accuracy\"])"
      ],
      "metadata": {
        "colab": {
          "base_uri": "https://localhost:8080/"
        },
        "id": "3tbj9-M-bNO4",
        "outputId": "a95450f5-7710-4e8f-930e-445cfe354cea"
      },
      "execution_count": 18,
      "outputs": [
        {
          "output_type": "stream",
          "name": "stdout",
          "text": [
            "Shape after passing inputs through base model is (None, 7, 7, 1280)\n",
            "Shape after passing through global average pooling is (None, 1280)\n"
          ]
        }
      ]
    },
    {
      "cell_type": "code",
      "source": [
        "# train the model \n",
        "history_0 = model_0.fit(train_data, epochs=5, validation_data=test_data)"
      ],
      "metadata": {
        "colab": {
          "base_uri": "https://localhost:8080/"
        },
        "id": "cusADLHpssp_",
        "outputId": "e09d624c-98f5-4f29-b4dc-81d68cfab5fd"
      },
      "execution_count": 19,
      "outputs": [
        {
          "output_type": "stream",
          "name": "stdout",
          "text": [
            "Epoch 1/5\n",
            "24/24 [==============================] - 16s 443ms/step - loss: 1.8210 - accuracy: 0.4707 - val_loss: 1.2699 - val_accuracy: 0.7516\n",
            "Epoch 2/5\n",
            "24/24 [==============================] - 8s 314ms/step - loss: 1.0592 - accuracy: 0.7920 - val_loss: 0.8489 - val_accuracy: 0.8288\n",
            "Epoch 3/5\n",
            "24/24 [==============================] - 7s 296ms/step - loss: 0.7638 - accuracy: 0.8373 - val_loss: 0.6832 - val_accuracy: 0.8476\n",
            "Epoch 4/5\n",
            "24/24 [==============================] - 8s 332ms/step - loss: 0.6249 - accuracy: 0.8640 - val_loss: 0.5984 - val_accuracy: 0.8540\n",
            "Epoch 5/5\n",
            "24/24 [==============================] - 12s 510ms/step - loss: 0.5311 - accuracy: 0.8840 - val_loss: 0.5453 - val_accuracy: 0.8624\n"
          ]
        }
      ]
    },
    {
      "cell_type": "code",
      "source": [
        "pd.DataFrame(history_0.history).plot(figsize=(10,7))\n",
        "plt.show()"
      ],
      "metadata": {
        "colab": {
          "base_uri": "https://localhost:8080/",
          "height": 428
        },
        "id": "mtIwTcBms4zo",
        "outputId": "eacaaf9f-1d39-4bd4-a384-ae345523d2f6"
      },
      "execution_count": 20,
      "outputs": [
        {
          "output_type": "display_data",
          "data": {
            "text/plain": [
              "<Figure size 720x504 with 1 Axes>"
            ],
            "image/png": "[encoded data removed]"
          },
          "metadata": {
            "needs_background": "light"
          }
        }
      ]
    },
    {
      "cell_type": "code",
      "source": [
        "# check the layers of the model which we made\n",
        "for index, layer in enumerate(model_0.layers):\n",
        "  print(index, layer)"
      ],
      "metadata": {
        "colab": {
          "base_uri": "https://localhost:8080/"
        },
        "id": "s9PdabQ7ugVb",
        "outputId": "18b92139-f73b-484d-e293-ae216ad7b866"
      },
      "execution_count": 22,
      "outputs": [
        {
          "output_type": "stream",
          "name": "stdout",
          "text": [
            "0 <keras.engine.input_layer.InputLayer object at 0x7f2848c42e20>\n",
            "1 <keras.engine.functional.Functional object at 0x7f283fe7f4c0>\n",
            "2 <keras.layers.pooling.global_average_pooling2d.GlobalAveragePooling2D object at 0x7f283fdd2190>\n",
            "3 <keras.layers.core.dense.Dense object at 0x7f28490c8280>\n"
          ]
        }
      ]
    },
    {
      "cell_type": "code",
      "source": [
        "# check the layers of the base_model\n",
        "for index, layer in enumerate(base_model.layers):\n",
        "  print(index, layer)"
      ],
      "metadata": {
        "colab": {
          "base_uri": "https://localhost:8080/"
        },
        "id": "4zHleIyJwSMm",
        "outputId": "74ca5e70-e447-47c5-f375-d9e43a423b17"
      },
      "execution_count": 24,
      "outputs": [
        {
          "output_type": "stream",
          "name": "stdout",
          "text": [
            "0 <keras.engine.input_layer.InputLayer object at 0x7f284237e970>\n",
            "1 <keras.layers.preprocessing.image_preprocessing.Rescaling object at 0x7f284237eac0>\n",
            "2 <keras.layers.preprocessing.normalization.Normalization object at 0x7f284237ee80>\n",
            "3 <keras.layers.preprocessing.image_preprocessing.Rescaling object at 0x7f284225b790>\n",
            "4 <keras.layers.reshaping.zero_padding2d.ZeroPadding2D object at 0x7f284225b6d0>\n",
            "5 <keras.layers.convolutional.conv2d.Conv2D object at 0x7f28421e70a0>\n",
            "6 <keras.layers.normalization.batch_normalization.BatchNormalization object at 0x7f28421e7700>\n",
            "7 <keras.layers.core.activation.Activation object at 0x7f28421e7310>\n",
            "8 <keras.layers.convolutional.depthwise_conv2d.DepthwiseConv2D object at 0x7f28421ee9a0>\n",
            "9 <keras.layers.normalization.batch_normalization.BatchNormalization object at 0x7f28578c3880>\n",
            "10 <keras.layers.core.activation.Activation object at 0x7f28421fbdf0>\n",
            "11 <keras.layers.pooling.global_average_pooling2d.GlobalAveragePooling2D object at 0x7f28421fbd60>\n",
            "12 <keras.layers.reshaping.reshape.Reshape object at 0x7f28545dd910>\n",
            "13 <keras.layers.convolutional.conv2d.Conv2D object at 0x7f2857979880>\n",
            "14 <keras.layers.convolutional.conv2d.Conv2D object at 0x7f2848c922e0>\n",
            "15 <keras.layers.merging.multiply.Multiply object at 0x7f28421fb100>\n",
            "16 <keras.layers.convolutional.conv2d.Conv2D object at 0x7f284219e3d0>\n",
            "17 <keras.layers.normalization.batch_normalization.BatchNormalization object at 0x7f284220b250>\n",
            "18 <keras.layers.convolutional.conv2d.Conv2D object at 0x7f28421b7ca0>\n",
            "19 <keras.layers.normalization.batch_normalization.BatchNormalization object at 0x7f28421b7d60>\n",
            "20 <keras.layers.core.activation.Activation object at 0x7f28421b18b0>\n",
            "21 <keras.layers.reshaping.zero_padding2d.ZeroPadding2D object at 0x7f284219e070>\n",
            "22 <keras.layers.convolutional.depthwise_conv2d.DepthwiseConv2D object at 0x7f284225ba30>\n",
            "23 <keras.layers.normalization.batch_normalization.BatchNormalization object at 0x7f28422114c0>\n",
            "24 <keras.layers.core.activation.Activation object at 0x7f28421b1250>\n",
            "25 <keras.layers.pooling.global_average_pooling2d.GlobalAveragePooling2D object at 0x7f28421e7fa0>\n",
            "26 <keras.layers.reshaping.reshape.Reshape object at 0x7f28421b7e80>\n",
            "27 <keras.layers.convolutional.conv2d.Conv2D object at 0x7f28421c0a30>\n",
            "28 <keras.layers.convolutional.conv2d.Conv2D object at 0x7f28421b1940>\n",
            "29 <keras.layers.merging.multiply.Multiply object at 0x7f28421df790>\n",
            "30 <keras.layers.convolutional.conv2d.Conv2D object at 0x7f28421d2c40>\n",
            "31 <keras.layers.normalization.batch_normalization.BatchNormalization object at 0x7f28421c0b20>\n",
            "32 <keras.layers.convolutional.conv2d.Conv2D object at 0x7f28421fb490>\n",
            "33 <keras.layers.normalization.batch_normalization.BatchNormalization object at 0x7f28421db700>\n",
            "34 <keras.layers.core.activation.Activation object at 0x7f2842162c70>\n",
            "35 <keras.layers.convolutional.depthwise_conv2d.DepthwiseConv2D object at 0x7f28421625e0>\n",
            "36 <keras.layers.normalization.batch_normalization.BatchNormalization object at 0x7f28421c4580>\n",
            "37 <keras.layers.core.activation.Activation object at 0x7f284216a580>\n",
            "38 <keras.layers.pooling.global_average_pooling2d.GlobalAveragePooling2D object at 0x7f2842171be0>\n",
            "39 <keras.layers.reshaping.reshape.Reshape object at 0x7f28421c4c10>\n",
            "40 <keras.layers.convolutional.conv2d.Conv2D object at 0x7f28421839d0>\n",
            "41 <keras.layers.convolutional.conv2d.Conv2D object at 0x7f284216a5e0>\n",
            "42 <keras.layers.merging.multiply.Multiply object at 0x7f2842197f40>\n",
            "43 <keras.layers.convolutional.conv2d.Conv2D object at 0x7f284216ad60>\n",
            "44 <keras.layers.normalization.batch_normalization.BatchNormalization object at 0x7f28421790d0>\n",
            "45 <keras.layers.regularization.dropout.Dropout object at 0x7f2842124400>\n",
            "46 <keras.layers.merging.add.Add object at 0x7f2842124b50>\n",
            "47 <keras.layers.convolutional.conv2d.Conv2D object at 0x7f28421b7be0>\n",
            "48 <keras.layers.normalization.batch_normalization.BatchNormalization object at 0x7f284211f520>\n",
            "49 <keras.layers.core.activation.Activation object at 0x7f2842138910>\n",
            "50 <keras.layers.reshaping.zero_padding2d.ZeroPadding2D object at 0x7f284211ff10>\n",
            "51 <keras.layers.convolutional.depthwise_conv2d.DepthwiseConv2D object at 0x7f28421ee220>\n",
            "52 <keras.layers.normalization.batch_normalization.BatchNormalization object at 0x7f2842138070>\n",
            "53 <keras.layers.core.activation.Activation object at 0x7f2842138460>\n",
            "54 <keras.layers.pooling.global_average_pooling2d.GlobalAveragePooling2D object at 0x7f2842138be0>\n",
            "55 <keras.layers.reshaping.reshape.Reshape object at 0x7f2842183a60>\n",
            "56 <keras.layers.convolutional.conv2d.Conv2D object at 0x7f2842179460>\n",
            "57 <keras.layers.convolutional.conv2d.Conv2D object at 0x7f284212e9d0>\n",
            "58 <keras.layers.merging.multiply.Multiply object at 0x7f2842155b80>\n",
            "59 <keras.layers.convolutional.conv2d.Conv2D object at 0x7f28420eaa90>\n",
            "60 <keras.layers.normalization.batch_normalization.BatchNormalization object at 0x7f2842155760>\n",
            "61 <keras.layers.convolutional.conv2d.Conv2D object at 0x7f2842171b20>\n",
            "62 <keras.layers.normalization.batch_normalization.BatchNormalization object at 0x7f28420ea850>\n",
            "63 <keras.layers.core.activation.Activation object at 0x7f2842162970>\n",
            "64 <keras.layers.convolutional.depthwise_conv2d.DepthwiseConv2D object at 0x7f284213e280>\n",
            "65 <keras.layers.normalization.batch_normalization.BatchNormalization object at 0x7f284220bc40>\n",
            "66 <keras.layers.core.activation.Activation object at 0x7f2842162a00>\n",
            "67 <keras.layers.pooling.global_average_pooling2d.GlobalAveragePooling2D object at 0x7f28420f59a0>\n",
            "68 <keras.layers.reshaping.reshape.Reshape object at 0x7f2842148100>\n",
            "69 <keras.layers.convolutional.conv2d.Conv2D object at 0x7f284214dc70>\n",
            "70 <keras.layers.convolutional.conv2d.Conv2D object at 0x7f2842124520>\n",
            "71 <keras.layers.merging.multiply.Multiply object at 0x7f28420fec70>\n",
            "72 <keras.layers.convolutional.conv2d.Conv2D object at 0x7f28420ea9d0>\n",
            "73 <keras.layers.normalization.batch_normalization.BatchNormalization object at 0x7f28420fef70>\n",
            "74 <keras.layers.regularization.dropout.Dropout object at 0x7f284210ba60>\n",
            "75 <keras.layers.merging.add.Add object at 0x7f284210b820>\n",
            "76 <keras.layers.convolutional.conv2d.Conv2D object at 0x7f2842124a90>\n",
            "77 <keras.layers.normalization.batch_normalization.BatchNormalization object at 0x7f284210bf40>\n",
            "78 <keras.layers.core.activation.Activation object at 0x7f284210bc70>\n",
            "79 <keras.layers.reshaping.zero_padding2d.ZeroPadding2D object at 0x7f28421151c0>\n",
            "80 <keras.layers.convolutional.depthwise_conv2d.DepthwiseConv2D object at 0x7f2842179d90>\n",
            "81 <keras.layers.normalization.batch_normalization.BatchNormalization object at 0x7f284209feb0>\n",
            "82 <keras.layers.core.activation.Activation object at 0x7f2842115190>\n",
            "83 <keras.layers.pooling.global_average_pooling2d.GlobalAveragePooling2D object at 0x7f28420a5bb0>\n",
            "84 <keras.layers.reshaping.reshape.Reshape object at 0x7f284211f430>\n",
            "85 <keras.layers.convolutional.conv2d.Conv2D object at 0x7f28420b1d60>\n",
            "86 <keras.layers.convolutional.conv2d.Conv2D object at 0x7f284209f2b0>\n",
            "87 <keras.layers.merging.multiply.Multiply object at 0x7f28420a5790>\n",
            "88 <keras.layers.convolutional.conv2d.Conv2D object at 0x7f28420c3c10>\n",
            "89 <keras.layers.normalization.batch_normalization.BatchNormalization object at 0x7f284210b250>\n",
            "90 <keras.layers.convolutional.conv2d.Conv2D object at 0x7f2842155ca0>\n",
            "91 <keras.layers.normalization.batch_normalization.BatchNormalization object at 0x7f28420ce130>\n",
            "92 <keras.layers.core.activation.Activation object at 0x7f28420ceb20>\n",
            "93 <keras.layers.convolutional.depthwise_conv2d.DepthwiseConv2D object at 0x7f2842115b80>\n",
            "94 <keras.layers.normalization.batch_normalization.BatchNormalization object at 0x7f28420b1fa0>\n",
            "95 <keras.layers.core.activation.Activation object at 0x7f28420ce730>\n",
            "96 <keras.layers.pooling.global_average_pooling2d.GlobalAveragePooling2D object at 0x7f28420ce880>\n",
            "97 <keras.layers.reshaping.reshape.Reshape object at 0x7f28420b14c0>\n",
            "98 <keras.layers.convolutional.conv2d.Conv2D object at 0x7f2842069760>\n",
            "99 <keras.layers.convolutional.conv2d.Conv2D object at 0x7f28420db040>\n",
            "100 <keras.layers.merging.multiply.Multiply object at 0x7f28420795b0>\n",
            "101 <keras.layers.convolutional.conv2d.Conv2D object at 0x7f28420797f0>\n",
            "102 <keras.layers.normalization.batch_normalization.BatchNormalization object at 0x7f2842069130>\n",
            "103 <keras.layers.regularization.dropout.Dropout object at 0x7f28420fea30>\n",
            "104 <keras.layers.merging.add.Add object at 0x7f28421c0e20>\n",
            "105 <keras.layers.convolutional.conv2d.Conv2D object at 0x7f2842111730>\n",
            "106 <keras.layers.normalization.batch_normalization.BatchNormalization object at 0x7f28420d3940>\n",
            "107 <keras.layers.core.activation.Activation object at 0x7f28420db550>\n",
            "108 <keras.layers.convolutional.depthwise_conv2d.DepthwiseConv2D object at 0x7f28421157f0>\n",
            "109 <keras.layers.normalization.batch_normalization.BatchNormalization object at 0x7f28421244f0>\n",
            "110 <keras.layers.core.activation.Activation object at 0x7f2842091250>\n",
            "111 <keras.layers.pooling.global_average_pooling2d.GlobalAveragePooling2D object at 0x7f2842093d90>\n",
            "112 <keras.layers.reshaping.reshape.Reshape object at 0x7f2842073310>\n",
            "113 <keras.layers.convolutional.conv2d.Conv2D object at 0x7f2842099610>\n",
            "114 <keras.layers.convolutional.conv2d.Conv2D object at 0x7f28420d33a0>\n",
            "115 <keras.layers.merging.multiply.Multiply object at 0x7f2842085340>\n",
            "116 <keras.layers.convolutional.conv2d.Conv2D object at 0x7f2842030f40>\n",
            "117 <keras.layers.normalization.batch_normalization.BatchNormalization object at 0x7f2842027220>\n",
            "118 <keras.layers.regularization.dropout.Dropout object at 0x7f284203aeb0>\n",
            "119 <keras.layers.merging.add.Add object at 0x7f2842030910>\n",
            "120 <keras.layers.convolutional.conv2d.Conv2D object at 0x7f2842111940>\n",
            "121 <keras.layers.normalization.batch_normalization.BatchNormalization object at 0x7f28420483d0>\n",
            "122 <keras.layers.core.activation.Activation object at 0x7f28420485b0>\n",
            "123 <keras.layers.convolutional.depthwise_conv2d.DepthwiseConv2D object at 0x7f2842048ac0>\n",
            "124 <keras.layers.normalization.batch_normalization.BatchNormalization object at 0x7f28420f5d30>\n",
            "125 <keras.layers.core.activation.Activation object at 0x7f2842048fd0>\n",
            "126 <keras.layers.pooling.global_average_pooling2d.GlobalAveragePooling2D object at 0x7f2842059c40>\n",
            "127 <keras.layers.reshaping.reshape.Reshape object at 0x7f2842099d60>\n",
            "128 <keras.layers.convolutional.conv2d.Conv2D object at 0x7f283ffc9f70>\n",
            "129 <keras.layers.convolutional.conv2d.Conv2D object at 0x7f2842048d30>\n",
            "130 <keras.layers.merging.multiply.Multiply object at 0x7f283ffc9280>\n",
            "131 <keras.layers.convolutional.conv2d.Conv2D object at 0x7f2842030d00>\n",
            "132 <keras.layers.normalization.batch_normalization.BatchNormalization object at 0x7f283ffc9bb0>\n",
            "133 <keras.layers.convolutional.conv2d.Conv2D object at 0x7f2842059460>\n",
            "134 <keras.layers.normalization.batch_normalization.BatchNormalization object at 0x7f283ffdbe80>\n",
            "135 <keras.layers.core.activation.Activation object at 0x7f283ffedf70>\n",
            "136 <keras.layers.convolutional.depthwise_conv2d.DepthwiseConv2D object at 0x7f283ffed1c0>\n",
            "137 <keras.layers.normalization.batch_normalization.BatchNormalization object at 0x7f2842059250>\n",
            "138 <keras.layers.core.activation.Activation object at 0x7f283ffed250>\n",
            "139 <keras.layers.pooling.global_average_pooling2d.GlobalAveragePooling2D object at 0x7f283ffffc70>\n",
            "140 <keras.layers.reshaping.reshape.Reshape object at 0x7f283ffc2d90>\n",
            "141 <keras.layers.convolutional.conv2d.Conv2D object at 0x7f283ff8eaf0>\n",
            "142 <keras.layers.convolutional.conv2d.Conv2D object at 0x7f283ff882e0>\n",
            "143 <keras.layers.merging.multiply.Multiply object at 0x7f283ff8e910>\n",
            "144 <keras.layers.convolutional.conv2d.Conv2D object at 0x7f283ffdbc40>\n",
            "145 <keras.layers.normalization.batch_normalization.BatchNormalization object at 0x7f283ff8e880>\n",
            "146 <keras.layers.regularization.dropout.Dropout object at 0x7f2842042160>\n",
            "147 <keras.layers.merging.add.Add object at 0x7f2842099520>\n",
            "148 <keras.layers.convolutional.conv2d.Conv2D object at 0x7f2842073b50>\n",
            "149 <keras.layers.normalization.batch_normalization.BatchNormalization object at 0x7f2842042df0>\n",
            "150 <keras.layers.core.activation.Activation object at 0x7f2842030be0>\n",
            "151 <keras.layers.convolutional.depthwise_conv2d.DepthwiseConv2D object at 0x7f284201e940>\n",
            "152 <keras.layers.normalization.batch_normalization.BatchNormalization object at 0x7f283ffc2460>\n",
            "153 <keras.layers.core.activation.Activation object at 0x7f283ffc2430>\n",
            "154 <keras.layers.pooling.global_average_pooling2d.GlobalAveragePooling2D object at 0x7f283ff94d60>\n",
            "155 <keras.layers.reshaping.reshape.Reshape object at 0x7f283ff88670>\n",
            "156 <keras.layers.convolutional.conv2d.Conv2D object at 0x7f283ffa7d60>\n",
            "157 <keras.layers.convolutional.conv2d.Conv2D object at 0x7f28420a55b0>\n",
            "158 <keras.layers.merging.multiply.Multiply object at 0x7f283ffdbc70>\n",
            "159 <keras.layers.convolutional.conv2d.Conv2D object at 0x7f28420993d0>\n",
            "160 <keras.layers.normalization.batch_normalization.BatchNormalization object at 0x7f283ffa41f0>\n",
            "161 <keras.layers.regularization.dropout.Dropout object at 0x7f283ff48460>\n",
            "162 <keras.layers.merging.add.Add object at 0x7f283ff48340>\n",
            "163 <keras.layers.convolutional.conv2d.Conv2D object at 0x7f2842042220>\n",
            "164 <keras.layers.normalization.batch_normalization.BatchNormalization object at 0x7f283ffbe850>\n",
            "165 <keras.layers.core.activation.Activation object at 0x7f283ff482b0>\n",
            "166 <keras.layers.reshaping.zero_padding2d.ZeroPadding2D object at 0x7f283ff57820>\n",
            "167 <keras.layers.convolutional.depthwise_conv2d.DepthwiseConv2D object at 0x7f283ff57ee0>\n",
            "168 <keras.layers.normalization.batch_normalization.BatchNormalization object at 0x7f283ff57340>\n",
            "169 <keras.layers.core.activation.Activation object at 0x7f283ff57790>\n",
            "170 <keras.layers.pooling.global_average_pooling2d.GlobalAveragePooling2D object at 0x7f283ff69820>\n",
            "171 <keras.layers.reshaping.reshape.Reshape object at 0x7f283ffa7ca0>\n",
            "172 <keras.layers.convolutional.conv2d.Conv2D object at 0x7f283ff6f760>\n",
            "173 <keras.layers.convolutional.conv2d.Conv2D object at 0x7f283ff4dd00>\n",
            "174 <keras.layers.merging.multiply.Multiply object at 0x7f283ff76b20>\n",
            "175 <keras.layers.convolutional.conv2d.Conv2D object at 0x7f283ffac910>\n",
            "176 <keras.layers.normalization.batch_normalization.BatchNormalization object at 0x7f283ff76a90>\n",
            "177 <keras.layers.convolutional.conv2d.Conv2D object at 0x7f283ffa2df0>\n",
            "178 <keras.layers.normalization.batch_normalization.BatchNormalization object at 0x7f283ff242b0>\n",
            "179 <keras.layers.core.activation.Activation object at 0x7f283ff13d00>\n",
            "180 <keras.layers.convolutional.depthwise_conv2d.DepthwiseConv2D object at 0x7f283ff24b50>\n",
            "181 <keras.layers.normalization.batch_normalization.BatchNormalization object at 0x7f283ff36a30>\n",
            "182 <keras.layers.core.activation.Activation object at 0x7f283ff17190>\n",
            "183 <keras.layers.pooling.global_average_pooling2d.GlobalAveragePooling2D object at 0x7f283ff36a90>\n",
            "184 <keras.layers.reshaping.reshape.Reshape object at 0x7f283ff0af70>\n",
            "185 <keras.layers.convolutional.conv2d.Conv2D object at 0x7f283ff57dc0>\n",
            "186 <keras.layers.convolutional.conv2d.Conv2D object at 0x7f283ff24220>\n",
            "187 <keras.layers.merging.multiply.Multiply object at 0x7f283ff5da30>\n",
            "188 <keras.layers.convolutional.conv2d.Conv2D object at 0x7f2842093d60>\n",
            "189 <keras.layers.normalization.batch_normalization.BatchNormalization object at 0x7f283ff57fd0>\n",
            "190 <keras.layers.regularization.dropout.Dropout object at 0x7f28420481c0>\n",
            "191 <keras.layers.merging.add.Add object at 0x7f283ff3b7f0>\n",
            "192 <keras.layers.convolutional.conv2d.Conv2D object at 0x7f283ffbef10>\n",
            "193 <keras.layers.normalization.batch_normalization.BatchNormalization object at 0x7f283fec3fd0>\n",
            "194 <keras.layers.core.activation.Activation object at 0x7f283ff3b760>\n",
            "195 <keras.layers.convolutional.depthwise_conv2d.DepthwiseConv2D object at 0x7f283fed1a60>\n",
            "196 <keras.layers.normalization.batch_normalization.BatchNormalization object at 0x7f283ff2cb20>\n",
            "197 <keras.layers.core.activation.Activation object at 0x7f283ff3b6d0>\n",
            "198 <keras.layers.pooling.global_average_pooling2d.GlobalAveragePooling2D object at 0x7f283fedd700>\n",
            "199 <keras.layers.reshaping.reshape.Reshape object at 0x7f283ff13a90>\n",
            "200 <keras.layers.convolutional.conv2d.Conv2D object at 0x7f283feddeb0>\n",
            "201 <keras.layers.convolutional.conv2d.Conv2D object at 0x7f283fec3340>\n",
            "202 <keras.layers.merging.multiply.Multiply object at 0x7f283ff48910>\n",
            "203 <keras.layers.convolutional.conv2d.Conv2D object at 0x7f283ff3b580>\n",
            "204 <keras.layers.normalization.batch_normalization.BatchNormalization object at 0x7f283fed5a60>\n",
            "205 <keras.layers.regularization.dropout.Dropout object at 0x7f283fefbfd0>\n",
            "206 <keras.layers.merging.add.Add object at 0x7f283fefb9a0>\n",
            "207 <keras.layers.convolutional.conv2d.Conv2D object at 0x7f283fefb7f0>\n",
            "208 <keras.layers.normalization.batch_normalization.BatchNormalization object at 0x7f283fef6280>\n",
            "209 <keras.layers.core.activation.Activation object at 0x7f283fec7dc0>\n",
            "210 <keras.layers.convolutional.depthwise_conv2d.DepthwiseConv2D object at 0x7f283fe84850>\n",
            "211 <keras.layers.normalization.batch_normalization.BatchNormalization object at 0x7f283fed50a0>\n",
            "212 <keras.layers.core.activation.Activation object at 0x7f283fe84700>\n",
            "213 <keras.layers.pooling.global_average_pooling2d.GlobalAveragePooling2D object at 0x7f283fe9c430>\n",
            "214 <keras.layers.reshaping.reshape.Reshape object at 0x7f283fedd5e0>\n",
            "215 <keras.layers.convolutional.conv2d.Conv2D object at 0x7f283fe9cb80>\n",
            "216 <keras.layers.convolutional.conv2d.Conv2D object at 0x7f283fe84730>\n",
            "217 <keras.layers.merging.multiply.Multiply object at 0x7f283feaeb50>\n",
            "218 <keras.layers.convolutional.conv2d.Conv2D object at 0x7f283fee2ac0>\n",
            "219 <keras.layers.normalization.batch_normalization.BatchNormalization object at 0x7f283feb8250>\n",
            "220 <keras.layers.regularization.dropout.Dropout object at 0x7f283fe4cd00>\n",
            "221 <keras.layers.merging.add.Add object at 0x7f283fe54490>\n",
            "222 <keras.layers.convolutional.conv2d.Conv2D object at 0x7f283fe5ab20>\n",
            "223 <keras.layers.normalization.batch_normalization.BatchNormalization object at 0x7f283fe5a9a0>\n",
            "224 <keras.layers.core.activation.Activation object at 0x7f283fe54400>\n",
            "225 <keras.layers.convolutional.depthwise_conv2d.DepthwiseConv2D object at 0x7f283fea55b0>\n",
            "226 <keras.layers.normalization.batch_normalization.BatchNormalization object at 0x7f283fe8d0d0>\n",
            "227 <keras.layers.core.activation.Activation object at 0x7f283fe54790>\n",
            "228 <keras.layers.pooling.global_average_pooling2d.GlobalAveragePooling2D object at 0x7f283fea5580>\n",
            "229 <keras.layers.reshaping.reshape.Reshape object at 0x7f283fee2400>\n",
            "230 <keras.layers.convolutional.conv2d.Conv2D object at 0x7f28420533d0>\n",
            "231 <keras.layers.convolutional.conv2d.Conv2D object at 0x7f283fe5a0d0>\n",
            "232 <keras.layers.merging.multiply.Multiply object at 0x7f283fe54130>\n",
            "233 <keras.layers.convolutional.conv2d.Conv2D object at 0x7f283feb80a0>\n",
            "234 <keras.layers.normalization.batch_normalization.BatchNormalization object at 0x7f283feaefa0>\n",
            "235 <keras.layers.convolutional.conv2d.Conv2D object at 0x7f28578c3d00>\n",
            "236 <keras.layers.normalization.batch_normalization.BatchNormalization object at 0x7f283fe731f0>\n",
            "237 <keras.layers.core.activation.Activation object at 0x7f283fe6da00>\n"
          ]
        }
      ]
    },
    {
      "cell_type": "code",
      "source": [
        "tf.keras.utils.plot_model(model_0, show_shapes=True)"
      ],
      "metadata": {
        "colab": {
          "base_uri": "https://localhost:8080/",
          "height": 422
        },
        "id": "PiSNLHdZwc7D",
        "outputId": "675d7a99-d226-4c04-f3a2-d4932dc9cd4b"
      },
      "execution_count": 26,
      "outputs": [
        {
          "output_type": "execute_result",
          "data": {
            "image/png": "[encoded data removed]",
            "text/plain": [
              "<IPython.core.display.Image object>"
            ]
          },
          "metadata": {},
          "execution_count": 26
        }
      ]
    },
    {
      "cell_type": "markdown",
      "source": [
        "# Experiment 1"
      ],
      "metadata": {
        "id": "0RsVonW73h6U"
      }
    },
    {
      "cell_type": "code",
      "source": [
        "# ! wget https://storage.googleapis.com/ztm_tf_course/food_vision/10_food_classes_1_percent.zip"
      ],
      "metadata": {
        "id": "2sGq5fN93jAq"
      },
      "execution_count": 28,
      "outputs": []
    },
    {
      "cell_type": "code",
      "source": [
        "# ! unzip 10_food_classes_1_percent.zip"
      ],
      "metadata": {
        "id": "PaskwC8630J4"
      },
      "execution_count": 30,
      "outputs": []
    },
    {
      "cell_type": "code",
      "source": [
        "walk_through_dir(\"10_food_classes_1_percent\")"
      ],
      "metadata": {
        "colab": {
          "base_uri": "https://localhost:8080/"
        },
        "id": "Tp-1NzuZ38Vd",
        "outputId": "bfcfb274-41bd-492f-c386-0a8c721b2644"
      },
      "execution_count": 32,
      "outputs": [
        {
          "output_type": "stream",
          "name": "stdout",
          "text": [
            "There are 2 directories and 0 images in '10_food_classes_1_percent'.\n",
            "There are 10 directories and 0 images in '10_food_classes_1_percent/test'.\n",
            "There are 0 directories and 250 images in '10_food_classes_1_percent/test/chicken_curry'.\n",
            "There are 0 directories and 250 images in '10_food_classes_1_percent/test/sushi'.\n",
            "There are 0 directories and 250 images in '10_food_classes_1_percent/test/ramen'.\n",
            "There are 0 directories and 250 images in '10_food_classes_1_percent/test/pizza'.\n",
            "There are 0 directories and 250 images in '10_food_classes_1_percent/test/chicken_wings'.\n",
            "There are 0 directories and 250 images in '10_food_classes_1_percent/test/steak'.\n",
            "There are 0 directories and 250 images in '10_food_classes_1_percent/test/grilled_salmon'.\n",
            "There are 0 directories and 250 images in '10_food_classes_1_percent/test/fried_rice'.\n",
            "There are 0 directories and 250 images in '10_food_classes_1_percent/test/ice_cream'.\n",
            "There are 0 directories and 250 images in '10_food_classes_1_percent/test/hamburger'.\n",
            "There are 10 directories and 0 images in '10_food_classes_1_percent/train'.\n",
            "There are 0 directories and 7 images in '10_food_classes_1_percent/train/chicken_curry'.\n",
            "There are 0 directories and 7 images in '10_food_classes_1_percent/train/sushi'.\n",
            "There are 0 directories and 7 images in '10_food_classes_1_percent/train/ramen'.\n",
            "There are 0 directories and 7 images in '10_food_classes_1_percent/train/pizza'.\n",
            "There are 0 directories and 7 images in '10_food_classes_1_percent/train/chicken_wings'.\n",
            "There are 0 directories and 7 images in '10_food_classes_1_percent/train/steak'.\n",
            "There are 0 directories and 7 images in '10_food_classes_1_percent/train/grilled_salmon'.\n",
            "There are 0 directories and 7 images in '10_food_classes_1_percent/train/fried_rice'.\n",
            "There are 0 directories and 7 images in '10_food_classes_1_percent/train/ice_cream'.\n",
            "There are 0 directories and 7 images in '10_food_classes_1_percent/train/hamburger'.\n"
          ]
        }
      ]
    },
    {
      "cell_type": "code",
      "source": [
        "IMG_SIZE = (224, 224)\n",
        "TRAIN_DIR = \"10_food_classes_1_percent/train\"\n",
        "TEST_DIR = \"10_food_classes_1_percent/test\"\n",
        "BATCH_SIZE = 32"
      ],
      "metadata": {
        "id": "ZCkzV2_k4FFn"
      },
      "execution_count": 34,
      "outputs": []
    },
    {
      "cell_type": "code",
      "source": [
        "train_data = tf.keras.preprocessing.image_dataset_from_directory(TRAIN_DIR,\n",
        "                                                                 image_size=IMG_SIZE,\n",
        "                                                                 label_mode=\"categorical\",\n",
        "                                                                 batch_size=BATCH_SIZE,\n",
        "                                                                 seed=42)\n",
        "test_data = tf.keras.preprocessing.image_dataset_from_directory(TEST_DIR,\n",
        "                                                                image_size=IMG_SIZE,\n",
        "                                                                label_mode=\"categorical\",\n",
        "                                                                batch_size=BATCH_SIZE,\n",
        "                                                                seed=42)"
      ],
      "metadata": {
        "colab": {
          "base_uri": "https://localhost:8080/"
        },
        "id": "7f96fPqS4JFi",
        "outputId": "e32e7ca5-6b25-44d4-a6ad-a0b2bcf1be92"
      },
      "execution_count": 35,
      "outputs": [
        {
          "output_type": "stream",
          "name": "stdout",
          "text": [
            "Found 70 files belonging to 10 classes.\n",
            "Found 2500 files belonging to 10 classes.\n"
          ]
        }
      ]
    },
    {
      "cell_type": "code",
      "source": [
        "# for data augumentation, use the experimental.preprocessing layer as it auguments on the GPU, unlike ImageDataGenerator which auguments on the CPU"
      ],
      "metadata": {
        "id": "rzv1qyll4nqu"
      },
      "execution_count": 38,
      "outputs": []
    },
    {
      "cell_type": "code",
      "source": [
        "# create data_augumentation stage\n",
        "data_augumentation = tf.keras.models.Sequential([\n",
        "    tf.keras.layers.experimental.preprocessing.RandomFlip(\"horizontal\"),\n",
        "    tf.keras.layers.experimental.preprocessing.RandomRotation(0.2),\n",
        "    tf.keras.layers.experimental.preprocessing.RandomZoom(0.2),\n",
        "    tf.keras.layers.experimental.preprocessing.RandomHeight(0.2),\n",
        "    tf.keras.layers.experimental.preprocessing.RandomWidth(0.2),\n",
        "    tf.keras.layers.experimental.preprocessing.Rescaling(1./255),\n",
        "], name=\"data_augumentation\")"
      ],
      "metadata": {
        "id": "GtfLftf05lar"
      },
      "execution_count": 46,
      "outputs": []
    },
    {
      "cell_type": "code",
      "source": [
        "# model_1 -> using the functional API on 1% data with augumentation\n",
        "\n",
        "# setup base\n",
        "base_model = tf.keras.applications.EfficientNetB0(include_top=False)\n",
        "\n",
        "# freeze the base \n",
        "base_model.trainable = False\n",
        "\n",
        "# setup inputs\n",
        "inputs = tf.keras.layers.Input(shape=(224, 224, 3), name=\"input_layer\")\n",
        "\n",
        "# add data augumentations\n",
        "x = data_augumentation(inputs)\n",
        "\n",
        "# pass data to base\n",
        "x = base_model(x, training=True)\n",
        "\n",
        "# add pooling\n",
        "x = tf.keras.layers.GlobalAveragePooling2D()(x)\n",
        "\n",
        "# setup outputs\n",
        "outputs = tf.keras.layers.Dense(10, activation=\"softmax\")(x)\n",
        "\n",
        "# make model\n",
        "model_1 = tf.keras.Model(inputs, outputs)\n",
        "\n",
        "# compile model\n",
        "model_1.compile(loss=\"categorical_crossentropy\",\n",
        "              optimizer=\"adam\",\n",
        "              metrics=[\"accuracy\"])"
      ],
      "metadata": {
        "colab": {
          "base_uri": "https://localhost:8080/"
        },
        "id": "ZUZKtP1n8lM0",
        "outputId": "534d452a-05ad-4fa8-ea4c-40959429ac2c"
      },
      "execution_count": 48,
      "outputs": [
        {
          "output_type": "stream",
          "name": "stderr",
          "text": [
            "WARNING:tensorflow:Using a while_loop for converting RngReadAndSkip cause there is no registered converter for this op.\n",
            "WARNING:tensorflow:Using a while_loop for converting Bitcast cause there is no registered converter for this op.\n",
            "WARNING:tensorflow:Using a while_loop for converting Bitcast cause there is no registered converter for this op.\n",
            "WARNING:tensorflow:Using a while_loop for converting StatelessRandomUniformV2 cause there is no registered converter for this op.\n",
            "WARNING:tensorflow:Using a while_loop for converting ImageProjectiveTransformV3 cause there is no registered converter for this op.\n",
            "WARNING:tensorflow:Using a while_loop for converting RngReadAndSkip cause there is no registered converter for this op.\n",
            "WARNING:tensorflow:Using a while_loop for converting Bitcast cause there is no registered converter for this op.\n",
            "WARNING:tensorflow:Using a while_loop for converting Bitcast cause there is no registered converter for this op.\n",
            "WARNING:tensorflow:Using a while_loop for converting StatelessRandomUniformV2 cause there is no registered converter for this op.\n",
            "WARNING:tensorflow:Using a while_loop for converting ImageProjectiveTransformV3 cause there is no registered converter for this op.\n"
          ]
        }
      ]
    },
    {
      "cell_type": "code",
      "source": [
        "# training the model\n",
        "history_1 = model_1.fit(train_data, epochs=5, validation_data=test_data, validation_steps=int(0.25*len(test_data)))"
      ],
      "metadata": {
        "colab": {
          "base_uri": "https://localhost:8080/"
        },
        "id": "yKv9rVsj-y_e",
        "outputId": "0e83e773-6c42-45a2-fa87-8b8a53d2b392"
      },
      "execution_count": 50,
      "outputs": [
        {
          "output_type": "stream",
          "name": "stdout",
          "text": [
            "Epoch 1/5\n",
            "3/3 [==============================] - 3s 1s/step - loss: 2.3417 - accuracy: 0.1000 - val_loss: 2.3325 - val_accuracy: 0.0888\n",
            "Epoch 2/5\n",
            "3/3 [==============================] - 2s 921ms/step - loss: 2.3301 - accuracy: 0.0857 - val_loss: 2.3231 - val_accuracy: 0.1086\n",
            "Epoch 3/5\n",
            "3/3 [==============================] - 2s 927ms/step - loss: 2.3405 - accuracy: 0.0714 - val_loss: 2.3293 - val_accuracy: 0.0954\n",
            "Epoch 4/5\n",
            "3/3 [==============================] - 3s 1s/step - loss: 2.3345 - accuracy: 0.1000 - val_loss: 2.3269 - val_accuracy: 0.1003\n",
            "Epoch 5/5\n",
            "3/3 [==============================] - 2s 934ms/step - loss: 2.3293 - accuracy: 0.0857 - val_loss: 2.3309 - val_accuracy: 0.0757\n"
          ]
        }
      ]
    },
    {
      "cell_type": "code",
      "source": [],
      "metadata": {
        "id": "wzAZgvNLACOw"
      },
      "execution_count": null,
      "outputs": []
    }
  ]
}