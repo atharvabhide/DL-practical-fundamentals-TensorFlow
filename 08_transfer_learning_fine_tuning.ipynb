{
  "nbformat": 4,
  "nbformat_minor": 0,
  "metadata": {
    "colab": {
      "provenance": []
    },
    "kernelspec": {
      "name": "python3",
      "display_name": "Python 3"
    },
    "language_info": {
      "name": "python"
    },
    "accelerator": "GPU",
    "gpuClass": "standard"
  },
  "cells": [
    {
      "cell_type": "code",
      "execution_count": 3,
      "metadata": {
        "id": "HDE9EBy3kcRh"
      },
      "outputs": [],
      "source": [
        "# get helper functions\n",
        "# ! wget https://raw.githubusercontent.com/mrdbourke/tensorflow-deep-learning/main/extras/helper_functions.py"
      ]
    },
    {
      "cell_type": "code",
      "source": [
        "from helper_functions import (\n",
        "    create_tensorboard_callback,\n",
        "    plot_loss_curves,\n",
        "    unzip_data,\n",
        "    walk_through_dir\n",
        ")"
      ],
      "metadata": {
        "id": "WXsrEbdZ3L1-"
      },
      "execution_count": 2,
      "outputs": []
    },
    {
      "cell_type": "markdown",
      "source": [
        "# Experiment 0"
      ],
      "metadata": {
        "id": "wIbrXEDS3c8p"
      }
    },
    {
      "cell_type": "code",
      "source": [
        "# ! wget https://storage.googleapis.com/ztm_tf_course/food_vision/10_food_classes_10_percent.zip"
      ],
      "metadata": {
        "id": "1zeYck_e3uHB"
      },
      "execution_count": 5,
      "outputs": []
    },
    {
      "cell_type": "code",
      "source": [
        "# ! unzip 10_food_classes_10_percent.zip"
      ],
      "metadata": {
        "id": "kXDIvHvO5BjM"
      },
      "execution_count": 7,
      "outputs": []
    },
    {
      "cell_type": "code",
      "source": [
        "walk_through_dir(\"10_food_classes_10_percent\")"
      ],
      "metadata": {
        "colab": {
          "base_uri": "https://localhost:8080/"
        },
        "id": "TBMCCHVD5F76",
        "outputId": "cbaab49e-d356-47a6-b762-79bdf36e0ef1"
      },
      "execution_count": 8,
      "outputs": [
        {
          "output_type": "stream",
          "name": "stdout",
          "text": [
            "There are 2 directories and 0 images in '10_food_classes_10_percent'.\n",
            "There are 10 directories and 0 images in '10_food_classes_10_percent/train'.\n",
            "There are 0 directories and 75 images in '10_food_classes_10_percent/train/steak'.\n",
            "There are 0 directories and 75 images in '10_food_classes_10_percent/train/pizza'.\n",
            "There are 0 directories and 75 images in '10_food_classes_10_percent/train/fried_rice'.\n",
            "There are 0 directories and 75 images in '10_food_classes_10_percent/train/chicken_wings'.\n",
            "There are 0 directories and 75 images in '10_food_classes_10_percent/train/sushi'.\n",
            "There are 0 directories and 75 images in '10_food_classes_10_percent/train/grilled_salmon'.\n",
            "There are 0 directories and 75 images in '10_food_classes_10_percent/train/ice_cream'.\n",
            "There are 0 directories and 75 images in '10_food_classes_10_percent/train/chicken_curry'.\n",
            "There are 0 directories and 75 images in '10_food_classes_10_percent/train/ramen'.\n",
            "There are 0 directories and 75 images in '10_food_classes_10_percent/train/hamburger'.\n",
            "There are 10 directories and 0 images in '10_food_classes_10_percent/test'.\n",
            "There are 0 directories and 250 images in '10_food_classes_10_percent/test/steak'.\n",
            "There are 0 directories and 250 images in '10_food_classes_10_percent/test/pizza'.\n",
            "There are 0 directories and 250 images in '10_food_classes_10_percent/test/fried_rice'.\n",
            "There are 0 directories and 250 images in '10_food_classes_10_percent/test/chicken_wings'.\n",
            "There are 0 directories and 250 images in '10_food_classes_10_percent/test/sushi'.\n",
            "There are 0 directories and 250 images in '10_food_classes_10_percent/test/grilled_salmon'.\n",
            "There are 0 directories and 250 images in '10_food_classes_10_percent/test/ice_cream'.\n",
            "There are 0 directories and 250 images in '10_food_classes_10_percent/test/chicken_curry'.\n",
            "There are 0 directories and 250 images in '10_food_classes_10_percent/test/ramen'.\n",
            "There are 0 directories and 250 images in '10_food_classes_10_percent/test/hamburger'.\n"
          ]
        }
      ]
    },
    {
      "cell_type": "code",
      "source": [
        "import tensorflow as tf\n",
        "import pandas as pd\n",
        "import numpy as np\n",
        "import os\n",
        "import matplotlib.pyplot as plt\n",
        "import warnings\n",
        "warnings.filterwarnings(\"ignore\")\n",
        "%matplotlib inline"
      ],
      "metadata": {
        "id": "lB78EtG75dt9"
      },
      "execution_count": 4,
      "outputs": []
    },
    {
      "cell_type": "code",
      "source": [
        "IMG_SIZE = (224, 224)\n",
        "TRAIN_DIR = \"10_food_classes_10_percent/train\"\n",
        "TEST_DIR = \"10_food_classes_10_percent/test\"\n",
        "BATCH_SIZE = 32"
      ],
      "metadata": {
        "id": "scsXeHRU_0ey"
      },
      "execution_count": 10,
      "outputs": []
    },
    {
      "cell_type": "code",
      "source": [
        "train_data = tf.keras.preprocessing.image_dataset_from_directory(TRAIN_DIR,\n",
        "                                                                 image_size=IMG_SIZE,\n",
        "                                                                 label_mode=\"categorical\",\n",
        "                                                                 batch_size=BATCH_SIZE,\n",
        "                                                                 seed=42)\n",
        "test_data = tf.keras.preprocessing.image_dataset_from_directory(TEST_DIR,\n",
        "                                                                image_size=IMG_SIZE,\n",
        "                                                                label_mode=\"categorical\",\n",
        "                                                                batch_size=BATCH_SIZE,\n",
        "                                                                seed=42)"
      ],
      "metadata": {
        "colab": {
          "base_uri": "https://localhost:8080/"
        },
        "id": "xCOR3MumAw5m",
        "outputId": "a41a9db7-a96a-4618-b263-7cf61142027f"
      },
      "execution_count": 11,
      "outputs": [
        {
          "output_type": "stream",
          "name": "stdout",
          "text": [
            "Found 750 files belonging to 10 classes.\n",
            "Found 2500 files belonging to 10 classes.\n"
          ]
        }
      ]
    },
    {
      "cell_type": "code",
      "source": [
        "type(train_data), type(test_data)"
      ],
      "metadata": {
        "colab": {
          "base_uri": "https://localhost:8080/"
        },
        "id": "hB44C56WBtDe",
        "outputId": "99a565ba-c73e-46a9-c364-6c935539c307"
      },
      "execution_count": 12,
      "outputs": [
        {
          "output_type": "execute_result",
          "data": {
            "text/plain": [
              "(tensorflow.python.data.ops.dataset_ops.BatchDataset,\n",
              " tensorflow.python.data.ops.dataset_ops.BatchDataset)"
            ]
          },
          "metadata": {},
          "execution_count": 12
        }
      ]
    },
    {
      "cell_type": "code",
      "source": [
        "# image_dataset_from_directory creates batches of images"
      ],
      "metadata": {
        "id": "ry3jSOeiB2kM"
      },
      "execution_count": 13,
      "outputs": []
    },
    {
      "cell_type": "code",
      "source": [
        "train_data.class_names"
      ],
      "metadata": {
        "colab": {
          "base_uri": "https://localhost:8080/"
        },
        "id": "_7UCzDndCjcC",
        "outputId": "b40a700f-be25-496e-9ef8-a6dd3137f711"
      },
      "execution_count": 14,
      "outputs": [
        {
          "output_type": "execute_result",
          "data": {
            "text/plain": [
              "['chicken_curry',\n",
              " 'chicken_wings',\n",
              " 'fried_rice',\n",
              " 'grilled_salmon',\n",
              " 'hamburger',\n",
              " 'ice_cream',\n",
              " 'pizza',\n",
              " 'ramen',\n",
              " 'steak',\n",
              " 'sushi']"
            ]
          },
          "metadata": {},
          "execution_count": 14
        }
      ]
    },
    {
      "cell_type": "code",
      "source": [
        "# see an example of a batch\n",
        "for image,label in train_data.take(1):\n",
        "  print(image)\n",
        "  print(label)"
      ],
      "metadata": {
        "colab": {
          "base_uri": "https://localhost:8080/"
        },
        "id": "Cl8UMiY_DVCe",
        "outputId": "f8bf2d41-c187-4421-cba9-69a4ebcd75f1"
      },
      "execution_count": 15,
      "outputs": [
        {
          "output_type": "stream",
          "name": "stdout",
          "text": [
            "tf.Tensor(\n",
            "[[[[1.10000000e+02 6.32397957e+01 0.00000000e+00]\n",
            "   [1.18780609e+02 7.49744949e+01 7.37755108e+00]\n",
            "   [1.06168365e+02 6.54438782e+01 1.02551079e+00]\n",
            "   ...\n",
            "   [9.51429443e+01 5.70000000e+01 2.21426392e+00]\n",
            "   [1.04714348e+02 6.15000267e+01 8.57146740e+00]\n",
            "   [1.10357109e+02 6.33571091e+01 9.35710812e+00]]\n",
            "\n",
            "  [[1.14693878e+02 7.08877563e+01 4.36224604e+00]\n",
            "   [1.14423470e+02 7.30051041e+01 7.14285660e+00]\n",
            "   [1.10346939e+02 7.12346954e+01 6.29081631e+00]\n",
            "   ...\n",
            "   [9.44694366e+01 5.59285736e+01 1.34179497e+00]\n",
            "   [1.00285751e+02 5.70714264e+01 4.14286995e+00]\n",
            "   [1.07311264e+02 5.74490089e+01 4.40309334e+00]]\n",
            "\n",
            "  [[1.07239792e+02 6.82346954e+01 7.65306503e-02]\n",
            "   [1.13382652e+02 7.48112259e+01 7.59694004e+00]\n",
            "   [1.13469383e+02 7.48520432e+01 9.94387722e+00]\n",
            "   ...\n",
            "   [9.81888351e+01 5.96173630e+01 5.04589176e+00]\n",
            "   [1.02857155e+02 5.68571548e+01 4.85715580e+00]\n",
            "   [1.09576607e+02 5.95766068e+01 6.57660770e+00]]\n",
            "\n",
            "  ...\n",
            "\n",
            "  [[9.08060455e+01 6.93775177e+01 2.37751961e+00]\n",
            "   [9.02449646e+01 6.91990509e+01 4.21435165e+00]\n",
            "   [8.26632767e+01 6.32806396e+01 9.18274522e-02]\n",
            "   ...\n",
            "   [5.38824654e+01 2.38824654e+01 1.11722851e+00]\n",
            "   [4.99592323e+01 2.15307064e+01 0.00000000e+00]\n",
            "   [5.27040253e+01 2.40612335e+01 2.35202789e+00]]\n",
            "\n",
            "  [[8.45306549e+01 6.55765839e+01 2.39839837e-01]\n",
            "   [8.84488907e+01 7.05815887e+01 4.51524401e+00]\n",
            "   [8.39744873e+01 6.90051041e+01 1.98979414e+00]\n",
            "   ...\n",
            "   [4.98469048e+01 2.14183769e+01 6.12294711e-02]\n",
            "   [5.55152206e+01 2.75152206e+01 3.64789557e+00]\n",
            "   [5.30714417e+01 2.50714417e+01 3.07144165e+00]]\n",
            "\n",
            "  [[8.37753220e+01 6.57753220e+01 1.10198092e+00]\n",
            "   [8.21327438e+01 6.69949951e+01 6.63330257e-01]\n",
            "   [8.74032364e+01 7.44032364e+01 6.40323353e+00]\n",
            "   ...\n",
            "   [5.51223755e+01 2.66938477e+01 2.69384837e+00]\n",
            "   [4.85256996e+01 2.05256996e+01 1.73511118e-01]\n",
            "   [5.52040520e+01 2.92040520e+01 6.20405197e+00]]]\n",
            "\n",
            "\n",
            " [[[2.17377224e+01 2.07377224e+01 1.67377224e+01]\n",
            "   [2.30524559e+01 2.20524559e+01 1.80524559e+01]\n",
            "   [2.14229927e+01 2.04229927e+01 1.64229927e+01]\n",
            "   ...\n",
            "   [1.71965332e+02 1.62025543e+02 1.58031097e+02]\n",
            "   [1.59733032e+02 1.43277618e+02 1.35102417e+02]\n",
            "   [1.15622314e+02 9.51769104e+01 8.62684631e+01]]\n",
            "\n",
            "  [[2.22845993e+01 2.12845993e+01 1.72845993e+01]\n",
            "   [2.22031250e+01 2.12031250e+01 1.72031250e+01]\n",
            "   [2.27968750e+01 2.17968750e+01 1.77968750e+01]\n",
            "   ...\n",
            "   [1.74621552e+02 1.65835815e+02 1.61435074e+02]\n",
            "   [1.59842422e+02 1.44745270e+02 1.37424973e+02]\n",
            "   [1.18235062e+02 9.90084610e+01 9.14716339e+01]]\n",
            "\n",
            "  [[2.29252224e+01 2.19252224e+01 1.79252224e+01]\n",
            "   [2.19285717e+01 2.09285717e+01 1.69285717e+01]\n",
            "   [2.40435257e+01 2.30435257e+01 1.90435257e+01]\n",
            "   ...\n",
            "   [1.72485382e+02 1.65057861e+02 1.62268784e+02]\n",
            "   [1.54207382e+02 1.41529861e+02 1.35649307e+02]\n",
            "   [1.16678246e+02 9.96201401e+01 9.28601227e+01]]\n",
            "\n",
            "  ...\n",
            "\n",
            "  [[1.98760040e+02 2.11760040e+02 2.20760040e+02]\n",
            "   [2.01233261e+02 2.14233261e+02 2.23233261e+02]\n",
            "   [2.02472092e+02 2.15472092e+02 2.24472092e+02]\n",
            "   ...\n",
            "   [1.92439651e+02 2.05653915e+02 2.15082443e+02]\n",
            "   [1.89976562e+02 1.99976562e+02 2.09976562e+02]\n",
            "   [1.89431900e+02 1.99431900e+02 2.08431900e+02]]\n",
            "\n",
            "  [[1.97927460e+02 2.10927460e+02 2.19927460e+02]\n",
            "   [1.99928574e+02 2.12928574e+02 2.21928574e+02]\n",
            "   [2.01796875e+02 2.14796875e+02 2.23796875e+02]\n",
            "   ...\n",
            "   [1.90181885e+02 2.03396149e+02 2.12824677e+02]\n",
            "   [1.88796875e+02 1.98796875e+02 2.08796875e+02]\n",
            "   [1.88236572e+02 1.98236572e+02 2.07236572e+02]]\n",
            "\n",
            "  [[1.97170761e+02 2.10170761e+02 2.19170761e+02]\n",
            "   [1.99876114e+02 2.12876114e+02 2.21876114e+02]\n",
            "   [2.01000000e+02 2.14000000e+02 2.23000000e+02]\n",
            "   ...\n",
            "   [1.87745514e+02 2.00959778e+02 2.10388306e+02]\n",
            "   [1.87947540e+02 1.97947540e+02 2.07947540e+02]\n",
            "   [1.85908447e+02 1.95908447e+02 2.04908447e+02]]]\n",
            "\n",
            "\n",
            " [[[8.99799118e+01 8.25637741e+01 1.01812180e+02]\n",
            "   [7.47889023e+01 6.79008331e+01 8.58220673e+01]\n",
            "   [6.60758896e+01 6.18223839e+01 7.72110901e+01]\n",
            "   ...\n",
            "   [1.33571424e+01 1.23571424e+01 1.73571434e+01]\n",
            "   [1.33571424e+01 1.23571424e+01 1.73571434e+01]\n",
            "   [1.32311926e+01 1.42311926e+01 1.82311916e+01]]\n",
            "\n",
            "  [[7.46125641e+01 7.08686218e+01 9.30918350e+01]\n",
            "   [8.22959213e+01 7.92691345e+01 1.00023598e+02]\n",
            "   [7.16910095e+01 7.05481567e+01 8.84767227e+01]\n",
            "   ...\n",
            "   [1.30000000e+01 1.20000000e+01 1.70000000e+01]\n",
            "   [1.30000000e+01 1.20000000e+01 1.70000000e+01]\n",
            "   [1.26011009e+01 1.36011009e+01 1.76011009e+01]]\n",
            "\n",
            "  [[8.86648636e+01 8.96600723e+01 1.15735970e+02]\n",
            "   [8.37662659e+01 8.61948395e+01 1.11532211e+02]\n",
            "   [8.56744232e+01 8.81029968e+01 1.11960136e+02]\n",
            "   ...\n",
            "   [1.38364210e+01 1.28364210e+01 1.78364220e+01]\n",
            "   [1.40000000e+01 1.30000000e+01 1.80000000e+01]\n",
            "   [1.37857141e+01 1.47857141e+01 1.87857132e+01]]\n",
            "\n",
            "  ...\n",
            "\n",
            "  [[1.90755653e+01 1.20755663e+01 4.07556629e+00]\n",
            "   [1.92018280e+01 1.22018290e+01 4.20182896e+00]\n",
            "   [1.84001751e+01 1.14001741e+01 3.40017462e+00]\n",
            "   ...\n",
            "   [7.09172211e+01 8.91314850e+01 1.27560013e+02]\n",
            "   [5.75088615e+01 7.63286285e+01 1.12671349e+02]\n",
            "   [3.04589252e+01 5.03159790e+01 8.17272339e+01]]\n",
            "\n",
            "  [[2.09285583e+01 1.39285583e+01 5.92855835e+00]\n",
            "   [1.99285583e+01 1.29285583e+01 4.92855835e+00]\n",
            "   [1.99285583e+01 1.29285583e+01 4.92855835e+00]\n",
            "   ...\n",
            "   [5.40877495e+01 6.85261307e+01 1.01003731e+02]\n",
            "   [3.51433601e+01 4.88078690e+01 7.59467621e+01]\n",
            "   [2.42514782e+01 3.53183708e+01 5.78093681e+01]]\n",
            "\n",
            "  [[1.97732906e+01 1.27732906e+01 4.77329016e+00]\n",
            "   [1.83364487e+01 1.13364487e+01 3.33644867e+00]\n",
            "   [1.82726669e+01 1.12726669e+01 3.27266693e+00]\n",
            "   ...\n",
            "   [3.31408157e+01 4.30061455e+01 7.00066605e+01]\n",
            "   [2.43985920e+01 3.01408710e+01 5.16378479e+01]\n",
            "   [2.55209541e+01 2.87431374e+01 4.57341042e+01]]]\n",
            "\n",
            "\n",
            " ...\n",
            "\n",
            "\n",
            " [[[2.53000000e+02 2.55000000e+02 2.54000000e+02]\n",
            "   [2.52000000e+02 2.54000000e+02 2.53000000e+02]\n",
            "   [2.53000000e+02 2.53000000e+02 2.51000000e+02]\n",
            "   ...\n",
            "   [2.52000000e+02 2.54000000e+02 2.53000000e+02]\n",
            "   [2.52071442e+02 2.54071442e+02 2.53071442e+02]\n",
            "   [2.54000000e+02 2.55000000e+02 2.55000000e+02]]\n",
            "\n",
            "  [[2.53000000e+02 2.55000000e+02 2.54000000e+02]\n",
            "   [2.52933670e+02 2.54933670e+02 2.53933670e+02]\n",
            "   [2.53000000e+02 2.53000000e+02 2.51000000e+02]\n",
            "   ...\n",
            "   [2.52198959e+02 2.54198959e+02 2.53198959e+02]\n",
            "   [2.52071442e+02 2.54071442e+02 2.53071442e+02]\n",
            "   [2.53025513e+02 2.55000000e+02 2.54025513e+02]]\n",
            "\n",
            "  [[2.54000000e+02 2.55000000e+02 2.55000000e+02]\n",
            "   [2.53015305e+02 2.55000000e+02 2.54015305e+02]\n",
            "   [2.54000000e+02 2.54000000e+02 2.52000000e+02]\n",
            "   ...\n",
            "   [2.53045914e+02 2.54831635e+02 2.54214279e+02]\n",
            "   [2.52000000e+02 2.54000000e+02 2.53000000e+02]\n",
            "   [2.52785721e+02 2.54785721e+02 2.51785721e+02]]\n",
            "\n",
            "  ...\n",
            "\n",
            "  [[2.51943878e+02 2.53785736e+02 2.55000000e+02]\n",
            "   [2.50000015e+02 2.50000015e+02 2.48142883e+02]\n",
            "   [2.52617340e+02 2.49280594e+02 2.44020401e+02]\n",
            "   ...\n",
            "   [2.54000000e+02 2.54000000e+02 2.54000000e+02]\n",
            "   [2.54000000e+02 2.54000000e+02 2.54000000e+02]\n",
            "   [2.54000000e+02 2.54000000e+02 2.54000000e+02]]\n",
            "\n",
            "  [[2.49571411e+02 2.54239792e+02 2.51142822e+02]\n",
            "   [2.51142853e+02 2.52076523e+02 2.47209167e+02]\n",
            "   [2.50586777e+02 2.47372482e+02 2.39831650e+02]\n",
            "   ...\n",
            "   [2.54000000e+02 2.54000000e+02 2.54000000e+02]\n",
            "   [2.54000000e+02 2.54000000e+02 2.54000000e+02]\n",
            "   [2.54000000e+02 2.54000000e+02 2.54000000e+02]]\n",
            "\n",
            "  [[2.51127594e+02 2.55000000e+02 2.50127594e+02]\n",
            "   [2.50836700e+02 2.51836700e+02 2.45882614e+02]\n",
            "   [2.51142715e+02 2.47928436e+02 2.38928436e+02]\n",
            "   ...\n",
            "   [2.54000000e+02 2.54000000e+02 2.54000000e+02]\n",
            "   [2.54000000e+02 2.54000000e+02 2.54000000e+02]\n",
            "   [2.54000000e+02 2.54000000e+02 2.54000000e+02]]]\n",
            "\n",
            "\n",
            " [[[2.11734695e+01 1.61734695e+01 1.24030609e+01]\n",
            "   [2.07908173e+01 1.84540825e+01 1.34540825e+01]\n",
            "   [1.98571434e+01 1.86377563e+01 1.47244902e+01]\n",
            "   ...\n",
            "   [1.32142639e+01 1.40000000e+01 1.55714722e+01]\n",
            "   [1.40000000e+01 1.40000000e+01 1.38571167e+01]\n",
            "   [1.70000000e+01 1.30000000e+01 1.12856445e+01]]\n",
            "\n",
            "  [[1.81683674e+01 1.41683664e+01 1.37397957e+01]\n",
            "   [1.99183674e+01 1.59846935e+01 1.29846935e+01]\n",
            "   [2.08979607e+01 9.07142735e+00 2.68877363e+00]\n",
            "   ...\n",
            "   [1.39438763e+01 1.40000000e+01 1.51735535e+01]\n",
            "   [1.40000000e+01 1.40000000e+01 1.39897938e+01]\n",
            "   [1.70000000e+01 1.30000000e+01 1.12856445e+01]]\n",
            "\n",
            "  [[1.51530609e+01 1.30765305e+01 1.72193890e+01]\n",
            "   [1.75714264e+01 1.20459166e+01 9.53060913e+00]\n",
            "   [3.84081650e+01 1.52704096e+01 3.87244940e+00]\n",
            "   ...\n",
            "   [1.43060913e+01 1.39540863e+01 1.51429443e+01]\n",
            "   [1.40000000e+01 1.40000000e+01 1.43979540e+01]\n",
            "   [1.55612793e+01 1.37193604e+01 1.20000000e+01]]\n",
            "\n",
            "  ...\n",
            "\n",
            "  [[1.37704096e+01 1.23418818e+01 8.12761784e+00]\n",
            "   [2.24693680e+01 1.75561008e+01 1.31990013e+01]\n",
            "   [3.24543076e+01 1.62196655e+01 6.95937872e+00]\n",
            "   ...\n",
            "   [4.87287178e+01 4.83001862e+01 5.05144539e+01]\n",
            "   [1.88879147e+01 1.88879147e+01 2.08879147e+01]\n",
            "   [1.68622360e+01 1.76479721e+01 1.96479721e+01]]\n",
            "\n",
            "  [[1.31020460e+01 1.32194147e+01 1.20306568e+01]\n",
            "   [1.75255928e+01 1.37347755e+01 1.09541893e+01]\n",
            "   [3.75405769e+01 2.57701836e+01 1.97957363e+01]\n",
            "   ...\n",
            "   [2.16938305e+01 2.28622341e+01 2.48060989e+01]\n",
            "   [1.45152206e+01 1.59285583e+01 1.77907791e+01]\n",
            "   [1.64588814e+01 2.04588814e+01 2.14588814e+01]]\n",
            "\n",
            "  [[1.54846020e+01 1.64846020e+01 1.91988869e+01]\n",
            "   [1.72752876e+01 1.40814734e+01 1.39386854e+01]\n",
            "   [1.99185276e+01 1.23318748e+01 1.01277733e+01]\n",
            "   ...\n",
            "   [2.04592743e+01 2.44592743e+01 2.54592743e+01]\n",
            "   [2.03827248e+01 2.43827248e+01 2.53827248e+01]\n",
            "   [1.18880892e+01 1.58880892e+01 1.68880882e+01]]]\n",
            "\n",
            "\n",
            " [[[4.35011139e+01 7.82198715e+01 7.19787979e+01]\n",
            "   [4.48158493e+01 7.94040146e+01 7.52433014e+01]\n",
            "   [4.74520073e+01 7.92075882e+01 7.85691986e+01]\n",
            "   ...\n",
            "   [1.45043503e+02 1.53257767e+02 1.37829239e+02]\n",
            "   [1.45143951e+02 1.56143951e+02 1.42143951e+02]\n",
            "   [1.35776596e+02 1.46776596e+02 1.32776596e+02]]\n",
            "\n",
            "  [[4.76026764e+01 7.84933014e+01 6.81272278e+01]\n",
            "   [4.92299118e+01 8.04274597e+01 7.31752243e+01]\n",
            "   [4.94609375e+01 8.06104889e+01 7.68973236e+01]\n",
            "   ...\n",
            "   [1.43156250e+02 1.51370514e+02 1.35941986e+02]\n",
            "   [1.38706436e+02 1.49706436e+02 1.35706436e+02]\n",
            "   [1.34893951e+02 1.45893951e+02 1.31893951e+02]]\n",
            "\n",
            "  [[4.70725441e+01 7.24609375e+01 5.37901764e+01]\n",
            "   [4.89397354e+01 7.67299118e+01 6.29709816e+01]\n",
            "   [4.60178566e+01 7.46305771e+01 6.49910736e+01]\n",
            "   ...\n",
            "   [1.42000000e+02 1.50214264e+02 1.34785736e+02]\n",
            "   [1.36610474e+02 1.47610474e+02 1.33610474e+02]\n",
            "   [1.34809158e+02 1.45809158e+02 1.31809158e+02]]\n",
            "\n",
            "  ...\n",
            "\n",
            "  [[1.80915177e+00 3.69977689e+00 7.40290165e+00]\n",
            "   [5.02230227e-02 1.66517830e+00 4.77455330e+00]\n",
            "   [0.00000000e+00 1.06361616e+00 4.17299128e+00]\n",
            "   ...\n",
            "   [2.08532364e+02 2.05829239e+02 1.89422989e+02]\n",
            "   [2.07468750e+02 2.04765625e+02 1.88359375e+02]\n",
            "   [2.06468750e+02 2.03765625e+02 1.87359375e+02]]\n",
            "\n",
            "  [[9.85490978e-01 4.98549128e+00 7.24218750e+00]\n",
            "   [0.00000000e+00 2.49330330e+00 3.49330330e+00]\n",
            "   [0.00000000e+00 1.09040189e+00 9.34151888e-01]\n",
            "   ...\n",
            "   [2.47340393e+02 2.47074768e+02 2.33809143e+02]\n",
            "   [2.46828125e+02 2.46562500e+02 2.33296875e+02]\n",
            "   [2.45828125e+02 2.46140625e+02 2.32296875e+02]]\n",
            "\n",
            "  [[1.88058007e+00 5.88057995e+00 5.87611580e+00]\n",
            "   [0.00000000e+00 2.07142830e+00 1.35267830e+00]\n",
            "   [0.00000000e+00 2.22767878e+00 0.00000000e+00]\n",
            "   ...\n",
            "   [2.46265625e+02 2.51562500e+02 2.39562500e+02]\n",
            "   [2.46265625e+02 2.51562500e+02 2.39562500e+02]\n",
            "   [2.46125000e+02 2.51562500e+02 2.39421875e+02]]]], shape=(32, 224, 224, 3), dtype=float32)\n",
            "tf.Tensor(\n",
            "[[0. 0. 0. 0. 0. 0. 0. 0. 0. 1.]\n",
            " [0. 0. 0. 0. 0. 0. 0. 0. 1. 0.]\n",
            " [1. 0. 0. 0. 0. 0. 0. 0. 0. 0.]\n",
            " [0. 0. 0. 0. 0. 0. 0. 0. 0. 1.]\n",
            " [1. 0. 0. 0. 0. 0. 0. 0. 0. 0.]\n",
            " [0. 1. 0. 0. 0. 0. 0. 0. 0. 0.]\n",
            " [0. 1. 0. 0. 0. 0. 0. 0. 0. 0.]\n",
            " [0. 0. 0. 1. 0. 0. 0. 0. 0. 0.]\n",
            " [0. 0. 0. 0. 0. 0. 0. 0. 0. 1.]\n",
            " [0. 0. 0. 0. 0. 0. 1. 0. 0. 0.]\n",
            " [0. 0. 0. 0. 1. 0. 0. 0. 0. 0.]\n",
            " [0. 0. 0. 0. 0. 0. 0. 0. 0. 1.]\n",
            " [0. 0. 1. 0. 0. 0. 0. 0. 0. 0.]\n",
            " [0. 0. 0. 0. 1. 0. 0. 0. 0. 0.]\n",
            " [1. 0. 0. 0. 0. 0. 0. 0. 0. 0.]\n",
            " [0. 1. 0. 0. 0. 0. 0. 0. 0. 0.]\n",
            " [0. 0. 0. 0. 0. 0. 1. 0. 0. 0.]\n",
            " [0. 0. 1. 0. 0. 0. 0. 0. 0. 0.]\n",
            " [0. 1. 0. 0. 0. 0. 0. 0. 0. 0.]\n",
            " [0. 0. 0. 0. 0. 0. 0. 0. 0. 1.]\n",
            " [0. 0. 1. 0. 0. 0. 0. 0. 0. 0.]\n",
            " [0. 0. 0. 0. 0. 0. 0. 0. 0. 1.]\n",
            " [0. 0. 0. 0. 0. 1. 0. 0. 0. 0.]\n",
            " [0. 0. 0. 0. 0. 0. 0. 1. 0. 0.]\n",
            " [0. 0. 0. 1. 0. 0. 0. 0. 0. 0.]\n",
            " [0. 0. 0. 0. 0. 0. 1. 0. 0. 0.]\n",
            " [0. 0. 0. 0. 0. 0. 0. 0. 0. 1.]\n",
            " [0. 0. 0. 0. 0. 1. 0. 0. 0. 0.]\n",
            " [0. 0. 0. 0. 0. 1. 0. 0. 0. 0.]\n",
            " [1. 0. 0. 0. 0. 0. 0. 0. 0. 0.]\n",
            " [1. 0. 0. 0. 0. 0. 0. 0. 0. 0.]\n",
            " [0. 0. 0. 1. 0. 0. 0. 0. 0. 0.]], shape=(32, 10), dtype=float32)\n"
          ]
        }
      ]
    },
    {
      "cell_type": "code",
      "source": [
        "# model_0 -> using the functional API on 10% data without augumentation\n",
        "\n",
        "# create base model\n",
        "base_model = tf.keras.applications.EfficientNetB0(include_top=False)\n",
        "\n",
        "# freeze the base model\n",
        "base_model.trainable = False\n",
        "\n",
        "# create inputs\n",
        "inputs = tf.keras.layers.Input(shape=(224,224,3), name=\"input_layer\") \n",
        "\n",
        "# pass inputs to base model\n",
        "x = base_model(inputs)\n",
        "print(f\"Shape after passing inputs through base model is {x.shape}\")\n",
        "\n",
        "# average pool the outputs of the base model\n",
        "x = tf.keras.layers.GlobalAveragePooling2D(name=\"global_average_pooling_layer\")(x)\n",
        "print(f\"Shape after passing through global average pooling is {x.shape}\")\n",
        "\n",
        "# create outputs\n",
        "outputs = tf.keras.layers.Dense(10, activation=\"softmax\")(x)  \n",
        "\n",
        "# combine inputs and outputs to form a model\n",
        "model_0 = tf.keras.Model(inputs, outputs)\n",
        "\n",
        "# compile the model\n",
        "model_0.compile(loss=\"categorical_crossentropy\",\n",
        "                optimizer=\"adam\",\n",
        "                metrics=[\"accuracy\"])"
      ],
      "metadata": {
        "colab": {
          "base_uri": "https://localhost:8080/"
        },
        "id": "3tbj9-M-bNO4",
        "outputId": "44d85f3e-ba60-4831-ab38-fd89b5364c77"
      },
      "execution_count": 16,
      "outputs": [
        {
          "output_type": "stream",
          "name": "stdout",
          "text": [
            "Downloading data from https://storage.googleapis.com/keras-applications/efficientnetb0_notop.h5\n",
            "16705208/16705208 [==============================] - 0s 0us/step\n",
            "Shape after passing inputs through base model is (None, 7, 7, 1280)\n",
            "Shape after passing through global average pooling is (None, 1280)\n"
          ]
        }
      ]
    },
    {
      "cell_type": "code",
      "source": [
        "# train the model \n",
        "history_0 = model_0.fit(train_data, epochs=5, validation_data=test_data)"
      ],
      "metadata": {
        "colab": {
          "base_uri": "https://localhost:8080/"
        },
        "id": "cusADLHpssp_",
        "outputId": "aa8934ba-ed73-4e0b-cedb-ca22de7c8875"
      },
      "execution_count": 17,
      "outputs": [
        {
          "output_type": "stream",
          "name": "stdout",
          "text": [
            "Epoch 1/5\n",
            "24/24 [==============================] - 27s 473ms/step - loss: 1.8346 - accuracy: 0.4293 - val_loss: 1.2482 - val_accuracy: 0.7476\n",
            "Epoch 2/5\n",
            "24/24 [==============================] - 8s 335ms/step - loss: 1.0765 - accuracy: 0.7667 - val_loss: 0.8460 - val_accuracy: 0.8180\n",
            "Epoch 3/5\n",
            "24/24 [==============================] - 11s 458ms/step - loss: 0.7708 - accuracy: 0.8427 - val_loss: 0.6814 - val_accuracy: 0.8448\n",
            "Epoch 4/5\n",
            "24/24 [==============================] - 8s 323ms/step - loss: 0.6341 - accuracy: 0.8520 - val_loss: 0.6025 - val_accuracy: 0.8532\n",
            "Epoch 5/5\n",
            "24/24 [==============================] - 7s 300ms/step - loss: 0.5376 - accuracy: 0.8747 - val_loss: 0.5503 - val_accuracy: 0.8600\n"
          ]
        }
      ]
    },
    {
      "cell_type": "code",
      "source": [
        "pd.DataFrame(history_0.history).plot(figsize=(10,7))\n",
        "plt.show()"
      ],
      "metadata": {
        "colab": {
          "base_uri": "https://localhost:8080/",
          "height": 428
        },
        "id": "mtIwTcBms4zo",
        "outputId": "b6cf96e7-f94f-4885-8d6b-fe4f31da19d1"
      },
      "execution_count": 18,
      "outputs": [
        {
          "output_type": "display_data",
          "data": {
            "text/plain": [
              "<Figure size 720x504 with 1 Axes>"
            ],
            "image/png": "[encoded data removed]"
          },
          "metadata": {
            "needs_background": "light"
          }
        }
      ]
    },
    {
      "cell_type": "code",
      "source": [
        "# check the layers of the model which we made\n",
        "for index, layer in enumerate(model_0.layers):\n",
        "  print(index, layer)"
      ],
      "metadata": {
        "colab": {
          "base_uri": "https://localhost:8080/"
        },
        "id": "s9PdabQ7ugVb",
        "outputId": "fb43592c-ac6b-4458-a495-a2bbdb758437"
      },
      "execution_count": 19,
      "outputs": [
        {
          "output_type": "stream",
          "name": "stdout",
          "text": [
            "0 <keras.engine.input_layer.InputLayer object at 0x7ff8844bef10>\n",
            "1 <keras.engine.functional.Functional object at 0x7ff7ea055e20>\n",
            "2 <keras.layers.pooling.global_average_pooling2d.GlobalAveragePooling2D object at 0x7ff7f13ee1c0>\n",
            "3 <keras.layers.core.dense.Dense object at 0x7ff7e9bfd3a0>\n"
          ]
        }
      ]
    },
    {
      "cell_type": "code",
      "source": [
        "# check the layers of the base_model\n",
        "for index, layer in enumerate(base_model.layers):\n",
        "  print(index, layer)"
      ],
      "metadata": {
        "colab": {
          "base_uri": "https://localhost:8080/"
        },
        "id": "4zHleIyJwSMm",
        "outputId": "e7e646b4-cb68-47c3-93f5-876e8339c61a"
      },
      "execution_count": 20,
      "outputs": [
        {
          "output_type": "stream",
          "name": "stdout",
          "text": [
            "0 <keras.engine.input_layer.InputLayer object at 0x7ff7f23e9c40>\n",
            "1 <keras.layers.preprocessing.image_preprocessing.Rescaling object at 0x7ff7f0159d60>\n",
            "2 <keras.layers.preprocessing.normalization.Normalization object at 0x7ff7f00f51c0>\n",
            "3 <keras.layers.preprocessing.image_preprocessing.Rescaling object at 0x7ff7f00f5b80>\n",
            "4 <keras.layers.reshaping.zero_padding2d.ZeroPadding2D object at 0x7ff7f00a3fd0>\n",
            "5 <keras.layers.convolutional.conv2d.Conv2D object at 0x7ff7f00a3eb0>\n",
            "6 <keras.layers.normalization.batch_normalization.BatchNormalization object at 0x7ff7f00a3d60>\n",
            "7 <keras.layers.core.activation.Activation object at 0x7ff7f13c0460>\n",
            "8 <keras.layers.convolutional.depthwise_conv2d.DepthwiseConv2D object at 0x7ff7f00a3940>\n",
            "9 <keras.layers.normalization.batch_normalization.BatchNormalization object at 0x7ff7f006ef70>\n",
            "10 <keras.layers.core.activation.Activation object at 0x7ff7f00096a0>\n",
            "11 <keras.layers.pooling.global_average_pooling2d.GlobalAveragePooling2D object at 0x7ff7f0013850>\n",
            "12 <keras.layers.reshaping.reshape.Reshape object at 0x7ff7f0019a90>\n",
            "13 <keras.layers.convolutional.conv2d.Conv2D object at 0x7ff7f0022520>\n",
            "14 <keras.layers.convolutional.conv2d.Conv2D object at 0x7ff7f0022be0>\n",
            "15 <keras.layers.merging.multiply.Multiply object at 0x7ff7f00257c0>\n",
            "16 <keras.layers.convolutional.conv2d.Conv2D object at 0x7ff7f0037070>\n",
            "17 <keras.layers.normalization.batch_normalization.BatchNormalization object at 0x7ff7f0037b50>\n",
            "18 <keras.layers.convolutional.conv2d.Conv2D object at 0x7ff7f00a3970>\n",
            "19 <keras.layers.normalization.batch_normalization.BatchNormalization object at 0x7ff7f003f6d0>\n",
            "20 <keras.layers.core.activation.Activation object at 0x7ff7ea2f12e0>\n",
            "21 <keras.layers.reshaping.zero_padding2d.ZeroPadding2D object at 0x7ff7ea2f1dc0>\n",
            "22 <keras.layers.convolutional.depthwise_conv2d.DepthwiseConv2D object at 0x7ff7ea2f45b0>\n",
            "23 <keras.layers.normalization.batch_normalization.BatchNormalization object at 0x7ff7ea2fc760>\n",
            "24 <keras.layers.core.activation.Activation object at 0x7ff7ea2fcbe0>\n",
            "25 <keras.layers.pooling.global_average_pooling2d.GlobalAveragePooling2D object at 0x7ff7ea303850>\n",
            "26 <keras.layers.reshaping.reshape.Reshape object at 0x7ff7ea30a6d0>\n",
            "27 <keras.layers.convolutional.conv2d.Conv2D object at 0x7ff7ea3039d0>\n",
            "28 <keras.layers.convolutional.conv2d.Conv2D object at 0x7ff7ea3128e0>\n",
            "29 <keras.layers.merging.multiply.Multiply object at 0x7ff7ea31fb20>\n",
            "30 <keras.layers.convolutional.conv2d.Conv2D object at 0x7ff7ea312c10>\n",
            "31 <keras.layers.normalization.batch_normalization.BatchNormalization object at 0x7ff7ea2a75e0>\n",
            "32 <keras.layers.convolutional.conv2d.Conv2D object at 0x7ff7ea2b4280>\n",
            "33 <keras.layers.normalization.batch_normalization.BatchNormalization object at 0x7ff7ea2b4250>\n",
            "34 <keras.layers.core.activation.Activation object at 0x7ff7ea2a7970>\n",
            "35 <keras.layers.convolutional.depthwise_conv2d.DepthwiseConv2D object at 0x7ff7ea2bf8b0>\n",
            "36 <keras.layers.normalization.batch_normalization.BatchNormalization object at 0x7ff7ea2acf40>\n",
            "37 <keras.layers.core.activation.Activation object at 0x7ff7ea2accd0>\n",
            "38 <keras.layers.pooling.global_average_pooling2d.GlobalAveragePooling2D object at 0x7ff7ea2f1460>\n",
            "39 <keras.layers.reshaping.reshape.Reshape object at 0x7ff7ea2e7c10>\n",
            "40 <keras.layers.convolutional.conv2d.Conv2D object at 0x7ff7ea2b4f10>\n",
            "41 <keras.layers.convolutional.conv2d.Conv2D object at 0x7ff7f0037ee0>\n",
            "42 <keras.layers.merging.multiply.Multiply object at 0x7ff7f00195e0>\n",
            "43 <keras.layers.convolutional.conv2d.Conv2D object at 0x7ff7ea2e02b0>\n",
            "44 <keras.layers.normalization.batch_normalization.BatchNormalization object at 0x7ff7ea2c7850>\n",
            "45 <keras.layers.regularization.dropout.Dropout object at 0x7ff7ea2cc580>\n",
            "46 <keras.layers.merging.add.Add object at 0x7ff7f0022640>\n",
            "47 <keras.layers.convolutional.conv2d.Conv2D object at 0x7ff7f0037a90>\n",
            "48 <keras.layers.normalization.batch_normalization.BatchNormalization object at 0x7ff7ea2d02b0>\n",
            "49 <keras.layers.core.activation.Activation object at 0x7ff7ea2d0d00>\n",
            "50 <keras.layers.reshaping.zero_padding2d.ZeroPadding2D object at 0x7ff7ea2c7250>\n",
            "51 <keras.layers.convolutional.depthwise_conv2d.DepthwiseConv2D object at 0x7ff7ea2d5640>\n",
            "52 <keras.layers.normalization.batch_normalization.BatchNormalization object at 0x7ff7ea2db7f0>\n",
            "53 <keras.layers.core.activation.Activation object at 0x7ff7ea2dbc70>\n",
            "54 <keras.layers.pooling.global_average_pooling2d.GlobalAveragePooling2D object at 0x7ff7ea260910>\n",
            "55 <keras.layers.reshaping.reshape.Reshape object at 0x7ff7ea265af0>\n",
            "56 <keras.layers.convolutional.conv2d.Conv2D object at 0x7ff7ea2603a0>\n",
            "57 <keras.layers.convolutional.conv2d.Conv2D object at 0x7ff7ea26da90>\n",
            "58 <keras.layers.merging.multiply.Multiply object at 0x7ff7ea278be0>\n",
            "59 <keras.layers.convolutional.conv2d.Conv2D object at 0x7ff7ea26dfa0>\n",
            "60 <keras.layers.normalization.batch_normalization.BatchNormalization object at 0x7ff7ea2836a0>\n",
            "61 <keras.layers.convolutional.conv2d.Conv2D object at 0x7ff7ea288490>\n",
            "62 <keras.layers.normalization.batch_normalization.BatchNormalization object at 0x7ff7ea283b20>\n",
            "63 <keras.layers.core.activation.Activation object at 0x7ff7ea29d580>\n",
            "64 <keras.layers.convolutional.depthwise_conv2d.DepthwiseConv2D object at 0x7ff7ea29dd60>\n",
            "65 <keras.layers.normalization.batch_normalization.BatchNormalization object at 0x7ff7ea22b880>\n",
            "66 <keras.layers.core.activation.Activation object at 0x7ff7ea2307c0>\n",
            "67 <keras.layers.pooling.global_average_pooling2d.GlobalAveragePooling2D object at 0x7ff7ea230d60>\n",
            "68 <keras.layers.reshaping.reshape.Reshape object at 0x7ff7ea23f100>\n",
            "69 <keras.layers.convolutional.conv2d.Conv2D object at 0x7ff7ea23fbb0>\n",
            "70 <keras.layers.convolutional.conv2d.Conv2D object at 0x7ff7ea23f670>\n",
            "71 <keras.layers.merging.multiply.Multiply object at 0x7ff7ea245e20>\n",
            "72 <keras.layers.convolutional.conv2d.Conv2D object at 0x7ff7ea255b50>\n",
            "73 <keras.layers.normalization.batch_normalization.BatchNormalization object at 0x7ff7ea255310>\n",
            "74 <keras.layers.regularization.dropout.Dropout object at 0x7ff7ea223d30>\n",
            "75 <keras.layers.merging.add.Add object at 0x7ff7ea29d670>\n",
            "76 <keras.layers.convolutional.conv2d.Conv2D object at 0x7ff7ea260ac0>\n",
            "77 <keras.layers.normalization.batch_normalization.BatchNormalization object at 0x7ff7ea26d670>\n",
            "78 <keras.layers.core.activation.Activation object at 0x7ff7ea23f7c0>\n",
            "79 <keras.layers.reshaping.zero_padding2d.ZeroPadding2D object at 0x7ff7f00373a0>\n",
            "80 <keras.layers.convolutional.depthwise_conv2d.DepthwiseConv2D object at 0x7ff7ea230fd0>\n",
            "81 <keras.layers.normalization.batch_normalization.BatchNormalization object at 0x7ff7ea259e80>\n",
            "82 <keras.layers.core.activation.Activation object at 0x7ff7ea1e02e0>\n",
            "83 <keras.layers.pooling.global_average_pooling2d.GlobalAveragePooling2D object at 0x7ff7ea1e0670>\n",
            "84 <keras.layers.reshaping.reshape.Reshape object at 0x7ff7ea1e1250>\n",
            "85 <keras.layers.convolutional.conv2d.Conv2D object at 0x7ff7ea1e1f40>\n",
            "86 <keras.layers.convolutional.conv2d.Conv2D object at 0x7ff7ea1e5640>\n",
            "87 <keras.layers.merging.multiply.Multiply object at 0x7ff7ea1e5550>\n",
            "88 <keras.layers.convolutional.conv2d.Conv2D object at 0x7ff7ea1f0730>\n",
            "89 <keras.layers.normalization.batch_normalization.BatchNormalization object at 0x7ff7ea1f0dc0>\n",
            "90 <keras.layers.convolutional.conv2d.Conv2D object at 0x7ff7ea1f0850>\n",
            "91 <keras.layers.normalization.batch_normalization.BatchNormalization object at 0x7ff7ea1f6d30>\n",
            "92 <keras.layers.core.activation.Activation object at 0x7ff7ea1ff250>\n",
            "93 <keras.layers.convolutional.depthwise_conv2d.DepthwiseConv2D object at 0x7ff7ea1ff880>\n",
            "94 <keras.layers.normalization.batch_normalization.BatchNormalization object at 0x7ff7ea20f4f0>\n",
            "95 <keras.layers.core.activation.Activation object at 0x7ff7ea20f970>\n",
            "96 <keras.layers.pooling.global_average_pooling2d.GlobalAveragePooling2D object at 0x7ff7ea290b50>\n",
            "97 <keras.layers.reshaping.reshape.Reshape object at 0x7ff7ea218c10>\n",
            "98 <keras.layers.convolutional.conv2d.Conv2D object at 0x7ff7ea21e820>\n",
            "99 <keras.layers.convolutional.conv2d.Conv2D object at 0x7ff7ea21eee0>\n",
            "100 <keras.layers.merging.multiply.Multiply object at 0x7ff7ea1a8a90>\n",
            "101 <keras.layers.convolutional.conv2d.Conv2D object at 0x7ff7ea1ace50>\n",
            "102 <keras.layers.normalization.batch_normalization.BatchNormalization object at 0x7ff7ea1b3370>\n",
            "103 <keras.layers.regularization.dropout.Dropout object at 0x7ff7ea1bdb20>\n",
            "104 <keras.layers.merging.add.Add object at 0x7ff7ea1c15e0>\n",
            "105 <keras.layers.convolutional.conv2d.Conv2D object at 0x7ff7ea1bdaf0>\n",
            "106 <keras.layers.normalization.batch_normalization.BatchNormalization object at 0x7ff7ea1c6070>\n",
            "107 <keras.layers.core.activation.Activation object at 0x7ff7ea1d4670>\n",
            "108 <keras.layers.convolutional.depthwise_conv2d.DepthwiseConv2D object at 0x7ff7ea1d49d0>\n",
            "109 <keras.layers.normalization.batch_normalization.BatchNormalization object at 0x7ff7ea1db400>\n",
            "110 <keras.layers.core.activation.Activation object at 0x7ff7ea164340>\n",
            "111 <keras.layers.pooling.global_average_pooling2d.GlobalAveragePooling2D object at 0x7ff7ea1db7c0>\n",
            "112 <keras.layers.reshaping.reshape.Reshape object at 0x7ff7ea1c6c10>\n",
            "113 <keras.layers.convolutional.conv2d.Conv2D object at 0x7ff7ea1a8340>\n",
            "114 <keras.layers.convolutional.conv2d.Conv2D object at 0x7ff7ea20a520>\n",
            "115 <keras.layers.merging.multiply.Multiply object at 0x7ff7ea290580>\n",
            "116 <keras.layers.convolutional.conv2d.Conv2D object at 0x7ff7ea25ed00>\n",
            "117 <keras.layers.normalization.batch_normalization.BatchNormalization object at 0x7ff7ea278f70>\n",
            "118 <keras.layers.regularization.dropout.Dropout object at 0x7ff7ea1e0220>\n",
            "119 <keras.layers.merging.add.Add object at 0x7ff7ea16d880>\n",
            "120 <keras.layers.convolutional.conv2d.Conv2D object at 0x7ff7ea288c40>\n",
            "121 <keras.layers.normalization.batch_normalization.BatchNormalization object at 0x7ff7ea16efa0>\n",
            "122 <keras.layers.core.activation.Activation object at 0x7ff7ea16d820>\n",
            "123 <keras.layers.convolutional.depthwise_conv2d.DepthwiseConv2D object at 0x7ff7ea172760>\n",
            "124 <keras.layers.normalization.batch_normalization.BatchNormalization object at 0x7ff7ea170b80>\n",
            "125 <keras.layers.core.activation.Activation object at 0x7ff7ea178cd0>\n",
            "126 <keras.layers.pooling.global_average_pooling2d.GlobalAveragePooling2D object at 0x7ff7ea1819a0>\n",
            "127 <keras.layers.reshaping.reshape.Reshape object at 0x7ff7ea189730>\n",
            "128 <keras.layers.convolutional.conv2d.Conv2D object at 0x7ff7ea181460>\n",
            "129 <keras.layers.convolutional.conv2d.Conv2D object at 0x7ff7ea190ac0>\n",
            "130 <keras.layers.merging.multiply.Multiply object at 0x7ff7ea19dc70>\n",
            "131 <keras.layers.convolutional.conv2d.Conv2D object at 0x7ff7ea190df0>\n",
            "132 <keras.layers.normalization.batch_normalization.BatchNormalization object at 0x7ff7ea125730>\n",
            "133 <keras.layers.convolutional.conv2d.Conv2D object at 0x7ff7ea12a460>\n",
            "134 <keras.layers.normalization.batch_normalization.BatchNormalization object at 0x7ff7ea12a160>\n",
            "135 <keras.layers.core.activation.Activation object at 0x7ff7ea130d30>\n",
            "136 <keras.layers.convolutional.depthwise_conv2d.DepthwiseConv2D object at 0x7ff7ea140a60>\n",
            "137 <keras.layers.normalization.batch_normalization.BatchNormalization object at 0x7ff7ea130c10>\n",
            "138 <keras.layers.core.activation.Activation object at 0x7ff7ea143490>\n",
            "139 <keras.layers.pooling.global_average_pooling2d.GlobalAveragePooling2D object at 0x7ff7ea14a640>\n",
            "140 <keras.layers.reshaping.reshape.Reshape object at 0x7ff7ea1434f0>\n",
            "141 <keras.layers.convolutional.conv2d.Conv2D object at 0x7ff7ea150730>\n",
            "142 <keras.layers.convolutional.conv2d.Conv2D object at 0x7ff7ea1580d0>\n",
            "143 <keras.layers.merging.multiply.Multiply object at 0x7ff7ea158400>\n",
            "144 <keras.layers.convolutional.conv2d.Conv2D object at 0x7ff7ea15fc10>\n",
            "145 <keras.layers.normalization.batch_normalization.BatchNormalization object at 0x7ff7ea0e7850>\n",
            "146 <keras.layers.regularization.dropout.Dropout object at 0x7ff7ea0eeca0>\n",
            "147 <keras.layers.merging.add.Add object at 0x7ff7ea15f0a0>\n",
            "148 <keras.layers.convolutional.conv2d.Conv2D object at 0x7ff7ea0f0a00>\n",
            "149 <keras.layers.normalization.batch_normalization.BatchNormalization object at 0x7ff7ea0f7070>\n",
            "150 <keras.layers.core.activation.Activation object at 0x7ff7ea0f7d60>\n",
            "151 <keras.layers.convolutional.depthwise_conv2d.DepthwiseConv2D object at 0x7ff7ea0f08b0>\n",
            "152 <keras.layers.normalization.batch_normalization.BatchNormalization object at 0x7ff7ea1814c0>\n",
            "153 <keras.layers.core.activation.Activation object at 0x7ff7ea2378e0>\n",
            "154 <keras.layers.pooling.global_average_pooling2d.GlobalAveragePooling2D object at 0x7ff7ea0f0f40>\n",
            "155 <keras.layers.reshaping.reshape.Reshape object at 0x7ff7ea101a30>\n",
            "156 <keras.layers.convolutional.conv2d.Conv2D object at 0x7ff7ea16e250>\n",
            "157 <keras.layers.convolutional.conv2d.Conv2D object at 0x7ff7ea0ee220>\n",
            "158 <keras.layers.merging.multiply.Multiply object at 0x7ff7ea1014f0>\n",
            "159 <keras.layers.convolutional.conv2d.Conv2D object at 0x7ff7ea150d30>\n",
            "160 <keras.layers.normalization.batch_normalization.BatchNormalization object at 0x7ff7ea1963d0>\n",
            "161 <keras.layers.regularization.dropout.Dropout object at 0x7ff7ea10f340>\n",
            "162 <keras.layers.merging.add.Add object at 0x7ff7ea117c40>\n",
            "163 <keras.layers.convolutional.conv2d.Conv2D object at 0x7ff7ea16ec40>\n",
            "164 <keras.layers.normalization.batch_normalization.BatchNormalization object at 0x7ff7ea106df0>\n",
            "165 <keras.layers.core.activation.Activation object at 0x7ff7ea10feb0>\n",
            "166 <keras.layers.reshaping.zero_padding2d.ZeroPadding2D object at 0x7ff7ea0a60a0>\n",
            "167 <keras.layers.convolutional.depthwise_conv2d.DepthwiseConv2D object at 0x7ff7ea2d5d90>\n",
            "168 <keras.layers.normalization.batch_normalization.BatchNormalization object at 0x7ff7ea0a6df0>\n",
            "169 <keras.layers.core.activation.Activation object at 0x7ff7ea0b45b0>\n",
            "170 <keras.layers.pooling.global_average_pooling2d.GlobalAveragePooling2D object at 0x7ff7ea0b4dc0>\n",
            "171 <keras.layers.reshaping.reshape.Reshape object at 0x7ff7ea0ae970>\n",
            "172 <keras.layers.convolutional.conv2d.Conv2D object at 0x7ff7ea0ae760>\n",
            "173 <keras.layers.convolutional.conv2d.Conv2D object at 0x7ff7ea11f400>\n",
            "174 <keras.layers.merging.multiply.Multiply object at 0x7ff7ea1062b0>\n",
            "175 <keras.layers.convolutional.conv2d.Conv2D object at 0x7ff7ea0d1a90>\n",
            "176 <keras.layers.normalization.batch_normalization.BatchNormalization object at 0x7ff7ea0bdbb0>\n",
            "177 <keras.layers.convolutional.conv2d.Conv2D object at 0x7ff7ea130550>\n",
            "178 <keras.layers.normalization.batch_normalization.BatchNormalization object at 0x7ff7ea0d8700>\n",
            "179 <keras.layers.core.activation.Activation object at 0x7ff7ea066490>\n",
            "180 <keras.layers.convolutional.depthwise_conv2d.DepthwiseConv2D object at 0x7ff7ea066400>\n",
            "181 <keras.layers.normalization.batch_normalization.BatchNormalization object at 0x7ff7ea0a64c0>\n",
            "182 <keras.layers.core.activation.Activation object at 0x7ff7ea0608e0>\n",
            "183 <keras.layers.pooling.global_average_pooling2d.GlobalAveragePooling2D object at 0x7ff7ea076880>\n",
            "184 <keras.layers.reshaping.reshape.Reshape object at 0x7ff7ea0b4ac0>\n",
            "185 <keras.layers.convolutional.conv2d.Conv2D object at 0x7ff7ea11fc70>\n",
            "186 <keras.layers.convolutional.conv2d.Conv2D object at 0x7ff7ea060a00>\n",
            "187 <keras.layers.merging.multiply.Multiply object at 0x7ff7ea086e80>\n",
            "188 <keras.layers.convolutional.conv2d.Conv2D object at 0x7ff7ea0d19d0>\n",
            "189 <keras.layers.normalization.batch_normalization.BatchNormalization object at 0x7ff7ea0865b0>\n",
            "190 <keras.layers.regularization.dropout.Dropout object at 0x7ff7ea097c70>\n",
            "191 <keras.layers.merging.add.Add object at 0x7ff7ea086df0>\n",
            "192 <keras.layers.convolutional.conv2d.Conv2D object at 0x7ff7ea07dd90>\n",
            "193 <keras.layers.normalization.batch_normalization.BatchNormalization object at 0x7ff7ea106a30>\n",
            "194 <keras.layers.core.activation.Activation object at 0x7ff7ea097e20>\n",
            "195 <keras.layers.convolutional.depthwise_conv2d.DepthwiseConv2D object at 0x7ff7ea11f3a0>\n",
            "196 <keras.layers.normalization.batch_normalization.BatchNormalization object at 0x7ff7ea178220>\n",
            "197 <keras.layers.core.activation.Activation object at 0x7ff7ea11f460>\n",
            "198 <keras.layers.pooling.global_average_pooling2d.GlobalAveragePooling2D object at 0x7ff7ea032310>\n",
            "199 <keras.layers.reshaping.reshape.Reshape object at 0x7ff7ea19dd90>\n",
            "200 <keras.layers.convolutional.conv2d.Conv2D object at 0x7ff7ea066cd0>\n",
            "201 <keras.layers.convolutional.conv2d.Conv2D object at 0x7ff7ea0b4430>\n",
            "202 <keras.layers.merging.multiply.Multiply object at 0x7ff7ea2881c0>\n",
            "203 <keras.layers.convolutional.conv2d.Conv2D object at 0x7ff7ea16e190>\n",
            "204 <keras.layers.normalization.batch_normalization.BatchNormalization object at 0x7ff7ea032c40>\n",
            "205 <keras.layers.regularization.dropout.Dropout object at 0x7ff7ea03ffd0>\n",
            "206 <keras.layers.merging.add.Add object at 0x7ff7ea055370>\n",
            "207 <keras.layers.convolutional.conv2d.Conv2D object at 0x7ff7ea055250>\n",
            "208 <keras.layers.normalization.batch_normalization.BatchNormalization object at 0x7ff7ea02ec70>\n",
            "209 <keras.layers.core.activation.Activation object at 0x7ff7ea027310>\n",
            "210 <keras.layers.convolutional.depthwise_conv2d.DepthwiseConv2D object at 0x7ff7ea050a90>\n",
            "211 <keras.layers.normalization.batch_normalization.BatchNormalization object at 0x7ff7e9cb03d0>\n",
            "212 <keras.layers.core.activation.Activation object at 0x7ff7ea05bbe0>\n",
            "213 <keras.layers.pooling.global_average_pooling2d.GlobalAveragePooling2D object at 0x7ff7e9cbaa60>\n",
            "214 <keras.layers.reshaping.reshape.Reshape object at 0x7ff7e9cbfc40>\n",
            "215 <keras.layers.convolutional.conv2d.Conv2D object at 0x7ff7e9cbf520>\n",
            "216 <keras.layers.convolutional.conv2d.Conv2D object at 0x7ff7ea05b1f0>\n",
            "217 <keras.layers.merging.multiply.Multiply object at 0x7ff7ea03ff70>\n",
            "218 <keras.layers.convolutional.conv2d.Conv2D object at 0x7ff7e9cd6e20>\n",
            "219 <keras.layers.normalization.batch_normalization.BatchNormalization object at 0x7ff7e9cc1c70>\n",
            "220 <keras.layers.regularization.dropout.Dropout object at 0x7ff7e9ce0e80>\n",
            "221 <keras.layers.merging.add.Add object at 0x7ff7e9cd64f0>\n",
            "222 <keras.layers.convolutional.conv2d.Conv2D object at 0x7ff7ea0ee1f0>\n",
            "223 <keras.layers.normalization.batch_normalization.BatchNormalization object at 0x7ff7e9ce0550>\n",
            "224 <keras.layers.core.activation.Activation object at 0x7ff7e9ce0f40>\n",
            "225 <keras.layers.convolutional.depthwise_conv2d.DepthwiseConv2D object at 0x7ff7e9c70520>\n",
            "226 <keras.layers.normalization.batch_normalization.BatchNormalization object at 0x7ff7e9cb07c0>\n",
            "227 <keras.layers.core.activation.Activation object at 0x7ff7e9c70610>\n",
            "228 <keras.layers.pooling.global_average_pooling2d.GlobalAveragePooling2D object at 0x7ff7e9c7abe0>\n",
            "229 <keras.layers.reshaping.reshape.Reshape object at 0x7ff7e9c87ca0>\n",
            "230 <keras.layers.convolutional.conv2d.Conv2D object at 0x7ff7e9c8ee50>\n",
            "231 <keras.layers.convolutional.conv2d.Conv2D object at 0x7ff7e9c7fd60>\n",
            "232 <keras.layers.merging.multiply.Multiply object at 0x7ff7e9c8e130>\n",
            "233 <keras.layers.convolutional.conv2d.Conv2D object at 0x7ff7e9cbaf70>\n",
            "234 <keras.layers.normalization.batch_normalization.BatchNormalization object at 0x7ff7e9c8e820>\n",
            "235 <keras.layers.convolutional.conv2d.Conv2D object at 0x7ff7f00a3a30>\n",
            "236 <keras.layers.normalization.batch_normalization.BatchNormalization object at 0x7ff7e9cb03a0>\n",
            "237 <keras.layers.core.activation.Activation object at 0x7ff7e9cbf070>\n"
          ]
        }
      ]
    },
    {
      "cell_type": "code",
      "source": [
        "tf.keras.utils.plot_model(model_0, show_shapes=True)"
      ],
      "metadata": {
        "colab": {
          "base_uri": "https://localhost:8080/",
          "height": 422
        },
        "id": "PiSNLHdZwc7D",
        "outputId": "2b3f981b-1372-4ba0-f994-899e843627f7"
      },
      "execution_count": 21,
      "outputs": [
        {
          "output_type": "execute_result",
          "data": {
            "image/png": "[encoded data removed]",
            "text/plain": [
              "<IPython.core.display.Image object>"
            ]
          },
          "metadata": {},
          "execution_count": 21
        }
      ]
    },
    {
      "cell_type": "markdown",
      "source": [
        "# Experiment 1"
      ],
      "metadata": {
        "id": "0RsVonW73h6U"
      }
    },
    {
      "cell_type": "code",
      "source": [
        "! wget https://storage.googleapis.com/ztm_tf_course/food_vision/10_food_classes_1_percent.zip"
      ],
      "metadata": {
        "colab": {
          "base_uri": "https://localhost:8080/"
        },
        "id": "2sGq5fN93jAq",
        "outputId": "77c10bf1-0af6-41e0-ffdf-0e2442762c73"
      },
      "execution_count": 22,
      "outputs": [
        {
          "output_type": "stream",
          "name": "stdout",
          "text": [
            "--2023-02-27 14:35:31--  https://storage.googleapis.com/ztm_tf_course/food_vision/10_food_classes_1_percent.zip\n",
            "Resolving storage.googleapis.com (storage.googleapis.com)... 74.125.20.128, 108.177.98.128, 74.125.197.128, ...\n",
            "Connecting to storage.googleapis.com (storage.googleapis.com)|74.125.20.128|:443... connected.\n",
            "HTTP request sent, awaiting response... 200 OK\n",
            "Length: 133612354 (127M) [application/zip]\n",
            "Saving to: ‘10_food_classes_1_percent.zip’\n",
            "\n",
            "10_food_classes_1_p 100%[===================>] 127.42M   163MB/s    in 0.8s    \n",
            "\n",
            "2023-02-27 14:35:32 (163 MB/s) - ‘10_food_classes_1_percent.zip’ saved [133612354/133612354]\n",
            "\n"
          ]
        }
      ]
    },
    {
      "cell_type": "code",
      "source": [
        "# ! unzip 10_food_classes_1_percent.zip"
      ],
      "metadata": {
        "id": "PaskwC8630J4"
      },
      "execution_count": 61,
      "outputs": []
    },
    {
      "cell_type": "code",
      "source": [
        "walk_through_dir(\"10_food_classes_1_percent\")"
      ],
      "metadata": {
        "colab": {
          "base_uri": "https://localhost:8080/"
        },
        "id": "Tp-1NzuZ38Vd",
        "outputId": "acd4ceee-fdfc-43b5-8b35-f178f37c1aec"
      },
      "execution_count": 24,
      "outputs": [
        {
          "output_type": "stream",
          "name": "stdout",
          "text": [
            "There are 2 directories and 0 images in '10_food_classes_1_percent'.\n",
            "There are 10 directories and 0 images in '10_food_classes_1_percent/train'.\n",
            "There are 0 directories and 7 images in '10_food_classes_1_percent/train/steak'.\n",
            "There are 0 directories and 7 images in '10_food_classes_1_percent/train/pizza'.\n",
            "There are 0 directories and 7 images in '10_food_classes_1_percent/train/fried_rice'.\n",
            "There are 0 directories and 7 images in '10_food_classes_1_percent/train/chicken_wings'.\n",
            "There are 0 directories and 7 images in '10_food_classes_1_percent/train/sushi'.\n",
            "There are 0 directories and 7 images in '10_food_classes_1_percent/train/grilled_salmon'.\n",
            "There are 0 directories and 7 images in '10_food_classes_1_percent/train/ice_cream'.\n",
            "There are 0 directories and 7 images in '10_food_classes_1_percent/train/chicken_curry'.\n",
            "There are 0 directories and 7 images in '10_food_classes_1_percent/train/ramen'.\n",
            "There are 0 directories and 7 images in '10_food_classes_1_percent/train/hamburger'.\n",
            "There are 10 directories and 0 images in '10_food_classes_1_percent/test'.\n",
            "There are 0 directories and 250 images in '10_food_classes_1_percent/test/steak'.\n",
            "There are 0 directories and 250 images in '10_food_classes_1_percent/test/pizza'.\n",
            "There are 0 directories and 250 images in '10_food_classes_1_percent/test/fried_rice'.\n",
            "There are 0 directories and 250 images in '10_food_classes_1_percent/test/chicken_wings'.\n",
            "There are 0 directories and 250 images in '10_food_classes_1_percent/test/sushi'.\n",
            "There are 0 directories and 250 images in '10_food_classes_1_percent/test/grilled_salmon'.\n",
            "There are 0 directories and 250 images in '10_food_classes_1_percent/test/ice_cream'.\n",
            "There are 0 directories and 250 images in '10_food_classes_1_percent/test/chicken_curry'.\n",
            "There are 0 directories and 250 images in '10_food_classes_1_percent/test/ramen'.\n",
            "There are 0 directories and 250 images in '10_food_classes_1_percent/test/hamburger'.\n"
          ]
        }
      ]
    },
    {
      "cell_type": "code",
      "source": [
        "IMG_SIZE = (224, 224)\n",
        "TRAIN_DIR = \"10_food_classes_1_percent/train\"\n",
        "TEST_DIR = \"10_food_classes_1_percent/test\"\n",
        "BATCH_SIZE = 32"
      ],
      "metadata": {
        "id": "ZCkzV2_k4FFn"
      },
      "execution_count": 25,
      "outputs": []
    },
    {
      "cell_type": "code",
      "source": [
        "train_data = tf.keras.preprocessing.image_dataset_from_directory(TRAIN_DIR,\n",
        "                                                                 image_size=IMG_SIZE,\n",
        "                                                                 label_mode=\"categorical\",\n",
        "                                                                 batch_size=BATCH_SIZE,\n",
        "                                                                 seed=42)\n",
        "test_data = tf.keras.preprocessing.image_dataset_from_directory(TEST_DIR,\n",
        "                                                                image_size=IMG_SIZE,\n",
        "                                                                label_mode=\"categorical\",\n",
        "                                                                batch_size=BATCH_SIZE,\n",
        "                                                                seed=42)"
      ],
      "metadata": {
        "colab": {
          "base_uri": "https://localhost:8080/"
        },
        "id": "7f96fPqS4JFi",
        "outputId": "9cb0b38c-e9b5-45e0-fb95-64aabd76101c"
      },
      "execution_count": 26,
      "outputs": [
        {
          "output_type": "stream",
          "name": "stdout",
          "text": [
            "Found 70 files belonging to 10 classes.\n",
            "Found 2500 files belonging to 10 classes.\n"
          ]
        }
      ]
    },
    {
      "cell_type": "code",
      "source": [
        "# for data augumentation, use the experimental.preprocessing layer as it auguments on the GPU, unlike ImageDataGenerator which auguments on the CPU"
      ],
      "metadata": {
        "id": "rzv1qyll4nqu"
      },
      "execution_count": 27,
      "outputs": []
    },
    {
      "cell_type": "code",
      "source": [
        "# create data_augumentation stage\n",
        "data_augumentation = tf.keras.models.Sequential([\n",
        "    tf.keras.layers.experimental.preprocessing.RandomFlip(\"horizontal\"),\n",
        "    tf.keras.layers.experimental.preprocessing.RandomRotation(0.2),\n",
        "    tf.keras.layers.experimental.preprocessing.RandomZoom(0.2),\n",
        "    tf.keras.layers.experimental.preprocessing.RandomHeight(0.2),\n",
        "    tf.keras.layers.experimental.preprocessing.RandomWidth(0.2),\n",
        "    # tf.keras.layers.experimental.preprocessing.Rescaling(1./255), # no need for EfficientNetB0, required for Resnet\n",
        "], name=\"data_augumentation\")"
      ],
      "metadata": {
        "id": "GtfLftf05lar"
      },
      "execution_count": 36,
      "outputs": []
    },
    {
      "cell_type": "code",
      "source": [
        "# model_1 -> using the functional API on 1% data with augumentation\n",
        "\n",
        "# setup base\n",
        "base_model = tf.keras.applications.EfficientNetB0(include_top=False)\n",
        "\n",
        "# freeze the base \n",
        "base_model.trainable = False\n",
        "\n",
        "# setup inputs\n",
        "inputs = tf.keras.layers.Input(shape=(224, 224, 3), name=\"input_layer\")\n",
        "\n",
        "# add data augumentations\n",
        "x = data_augumentation(inputs)\n",
        "\n",
        "# pass data to base\n",
        "x = base_model(x, training=False)\n",
        "\n",
        "# add pooling\n",
        "x = tf.keras.layers.GlobalAveragePooling2D()(x)\n",
        "\n",
        "# setup outputs\n",
        "outputs = tf.keras.layers.Dense(10, activation=\"softmax\")(x)\n",
        "\n",
        "# make model\n",
        "model_1 = tf.keras.Model(inputs, outputs)\n",
        "\n",
        "# compile model\n",
        "model_1.compile(loss=\"categorical_crossentropy\",\n",
        "              optimizer=\"adam\",\n",
        "              metrics=[\"accuracy\"])"
      ],
      "metadata": {
        "colab": {
          "base_uri": "https://localhost:8080/"
        },
        "id": "ZUZKtP1n8lM0",
        "outputId": "a449f887-0469-42c9-c154-c970a7472ae0"
      },
      "execution_count": 37,
      "outputs": [
        {
          "output_type": "stream",
          "name": "stderr",
          "text": [
            "WARNING:tensorflow:Using a while_loop for converting RngReadAndSkip cause there is no registered converter for this op.\n",
            "WARNING:tensorflow:Using a while_loop for converting Bitcast cause there is no registered converter for this op.\n",
            "WARNING:tensorflow:Using a while_loop for converting Bitcast cause there is no registered converter for this op.\n",
            "WARNING:tensorflow:Using a while_loop for converting StatelessRandomUniformV2 cause there is no registered converter for this op.\n",
            "WARNING:tensorflow:Using a while_loop for converting ImageProjectiveTransformV3 cause there is no registered converter for this op.\n",
            "WARNING:tensorflow:Using a while_loop for converting RngReadAndSkip cause there is no registered converter for this op.\n",
            "WARNING:tensorflow:Using a while_loop for converting Bitcast cause there is no registered converter for this op.\n",
            "WARNING:tensorflow:Using a while_loop for converting Bitcast cause there is no registered converter for this op.\n",
            "WARNING:tensorflow:Using a while_loop for converting StatelessRandomUniformV2 cause there is no registered converter for this op.\n",
            "WARNING:tensorflow:Using a while_loop for converting ImageProjectiveTransformV3 cause there is no registered converter for this op.\n",
            "WARNING:tensorflow:Using a while_loop for converting RngReadAndSkip cause there is no registered converter for this op.\n",
            "WARNING:tensorflow:Using a while_loop for converting Bitcast cause there is no registered converter for this op.\n",
            "WARNING:tensorflow:Using a while_loop for converting Bitcast cause there is no registered converter for this op.\n",
            "WARNING:tensorflow:Using a while_loop for converting StatelessRandomUniformV2 cause there is no registered converter for this op.\n",
            "WARNING:tensorflow:Using a while_loop for converting ImageProjectiveTransformV3 cause there is no registered converter for this op.\n",
            "WARNING:tensorflow:Using a while_loop for converting RngReadAndSkip cause there is no registered converter for this op.\n",
            "WARNING:tensorflow:Using a while_loop for converting Bitcast cause there is no registered converter for this op.\n",
            "WARNING:tensorflow:Using a while_loop for converting Bitcast cause there is no registered converter for this op.\n",
            "WARNING:tensorflow:Using a while_loop for converting StatelessRandomUniformV2 cause there is no registered converter for this op.\n",
            "WARNING:tensorflow:Using a while_loop for converting ImageProjectiveTransformV3 cause there is no registered converter for this op.\n"
          ]
        }
      ]
    },
    {
      "cell_type": "code",
      "source": [
        "# training the model\n",
        "history_1 = model_1.fit(train_data, epochs=5, validation_data=test_data)"
      ],
      "metadata": {
        "colab": {
          "base_uri": "https://localhost:8080/"
        },
        "id": "yKv9rVsj-y_e",
        "outputId": "c300d2b9-d800-4adb-9801-c413aa5d94e5"
      },
      "execution_count": 38,
      "outputs": [
        {
          "output_type": "stream",
          "name": "stdout",
          "text": [
            "Epoch 1/5\n"
          ]
        },
        {
          "output_type": "stream",
          "name": "stderr",
          "text": [
            "WARNING:tensorflow:Using a while_loop for converting RngReadAndSkip cause there is no registered converter for this op.\n",
            "WARNING:tensorflow:Using a while_loop for converting Bitcast cause there is no registered converter for this op.\n",
            "WARNING:tensorflow:Using a while_loop for converting Bitcast cause there is no registered converter for this op.\n",
            "WARNING:tensorflow:Using a while_loop for converting StatelessRandomUniformV2 cause there is no registered converter for this op.\n",
            "WARNING:tensorflow:Using a while_loop for converting ImageProjectiveTransformV3 cause there is no registered converter for this op.\n",
            "WARNING:tensorflow:Using a while_loop for converting RngReadAndSkip cause there is no registered converter for this op.\n",
            "WARNING:tensorflow:Using a while_loop for converting Bitcast cause there is no registered converter for this op.\n",
            "WARNING:tensorflow:Using a while_loop for converting Bitcast cause there is no registered converter for this op.\n",
            "WARNING:tensorflow:Using a while_loop for converting StatelessRandomUniformV2 cause there is no registered converter for this op.\n",
            "WARNING:tensorflow:Using a while_loop for converting ImageProjectiveTransformV3 cause there is no registered converter for this op.\n",
            "WARNING:tensorflow:Using a while_loop for converting RngReadAndSkip cause there is no registered converter for this op.\n",
            "WARNING:tensorflow:Using a while_loop for converting Bitcast cause there is no registered converter for this op.\n",
            "WARNING:tensorflow:Using a while_loop for converting Bitcast cause there is no registered converter for this op.\n",
            "WARNING:tensorflow:Using a while_loop for converting StatelessRandomUniformV2 cause there is no registered converter for this op.\n",
            "WARNING:tensorflow:Using a while_loop for converting ImageProjectiveTransformV3 cause there is no registered converter for this op.\n",
            "WARNING:tensorflow:Using a while_loop for converting RngReadAndSkip cause there is no registered converter for this op.\n",
            "WARNING:tensorflow:Using a while_loop for converting Bitcast cause there is no registered converter for this op.\n",
            "WARNING:tensorflow:Using a while_loop for converting Bitcast cause there is no registered converter for this op.\n",
            "WARNING:tensorflow:Using a while_loop for converting StatelessRandomUniformV2 cause there is no registered converter for this op.\n",
            "WARNING:tensorflow:Using a while_loop for converting ImageProjectiveTransformV3 cause there is no registered converter for this op.\n"
          ]
        },
        {
          "output_type": "stream",
          "name": "stdout",
          "text": [
            "3/3 [==============================] - 25s 4s/step - loss: 2.3271 - accuracy: 0.1143 - val_loss: 2.2256 - val_accuracy: 0.1520\n",
            "Epoch 2/5\n",
            "3/3 [==============================] - 6s 3s/step - loss: 2.0702 - accuracy: 0.2286 - val_loss: 2.0975 - val_accuracy: 0.2432\n",
            "Epoch 3/5\n",
            "3/3 [==============================] - 7s 3s/step - loss: 1.8763 - accuracy: 0.3286 - val_loss: 1.9849 - val_accuracy: 0.3368\n",
            "Epoch 4/5\n",
            "3/3 [==============================] - 11s 5s/step - loss: 1.6896 - accuracy: 0.5286 - val_loss: 1.8828 - val_accuracy: 0.4240\n",
            "Epoch 5/5\n",
            "3/3 [==============================] - 12s 6s/step - loss: 1.5318 - accuracy: 0.6857 - val_loss: 1.7886 - val_accuracy: 0.4868\n"
          ]
        }
      ]
    },
    {
      "cell_type": "code",
      "source": [
        "pd.DataFrame(history_1.history).plot(figsize=(10,7))\n",
        "plt.show()"
      ],
      "metadata": {
        "colab": {
          "base_uri": "https://localhost:8080/",
          "height": 428
        },
        "id": "wzAZgvNLACOw",
        "outputId": "66ee0e3c-8bfe-45af-dff4-fcf4d1f50cdb"
      },
      "execution_count": 39,
      "outputs": [
        {
          "output_type": "display_data",
          "data": {
            "text/plain": [
              "<Figure size 720x504 with 1 Axes>"
            ],
            "image/png": "[encoded data removed]"
          },
          "metadata": {
            "needs_background": "light"
          }
        }
      ]
    },
    {
      "cell_type": "markdown",
      "source": [
        "# Experiment 2"
      ],
      "metadata": {
        "id": "fkajjY1RWY_c"
      }
    },
    {
      "cell_type": "code",
      "source": [
        "IMG_SIZE = (224, 224)\n",
        "TRAIN_DIR = \"10_food_classes_10_percent/train\"\n",
        "TEST_DIR = \"10_food_classes_10_percent/test\"\n",
        "BATCH_SIZE = 32"
      ],
      "metadata": {
        "id": "w6AJcoYUWaJO"
      },
      "execution_count": 42,
      "outputs": []
    },
    {
      "cell_type": "code",
      "source": [
        "train_data = tf.keras.preprocessing.image_dataset_from_directory(TRAIN_DIR,\n",
        "                                                                 image_size=IMG_SIZE,\n",
        "                                                                 label_mode=\"categorical\",\n",
        "                                                                 batch_size=BATCH_SIZE,\n",
        "                                                                 seed=42)\n",
        "test_data = tf.keras.preprocessing.image_dataset_from_directory(TEST_DIR,\n",
        "                                                                image_size=IMG_SIZE,\n",
        "                                                                label_mode=\"categorical\",\n",
        "                                                                batch_size=BATCH_SIZE,\n",
        "                                                                seed=42)"
      ],
      "metadata": {
        "colab": {
          "base_uri": "https://localhost:8080/"
        },
        "id": "HQeIL6RDWrUN",
        "outputId": "ac9c9fcc-a7e3-4c3a-b095-9bb01c47e10e"
      },
      "execution_count": 43,
      "outputs": [
        {
          "output_type": "stream",
          "name": "stdout",
          "text": [
            "Found 750 files belonging to 10 classes.\n",
            "Found 2500 files belonging to 10 classes.\n"
          ]
        }
      ]
    },
    {
      "cell_type": "code",
      "source": [
        "# create data_augumentation stage\n",
        "data_augumentation = tf.keras.models.Sequential([\n",
        "    tf.keras.layers.experimental.preprocessing.RandomFlip(\"horizontal\"),\n",
        "    tf.keras.layers.experimental.preprocessing.RandomRotation(0.2),\n",
        "    tf.keras.layers.experimental.preprocessing.RandomZoom(0.2),\n",
        "    tf.keras.layers.experimental.preprocessing.RandomHeight(0.2),\n",
        "    tf.keras.layers.experimental.preprocessing.RandomWidth(0.2),\n",
        "    # tf.keras.layers.experimental.preprocessing.Rescaling(1./255), # no need for EfficientNetB0, required for Resnet\n",
        "], name=\"data_augumentation\")"
      ],
      "metadata": {
        "id": "jgKwp-uHWv_6"
      },
      "execution_count": 44,
      "outputs": []
    },
    {
      "cell_type": "code",
      "source": [
        "# model_2 -> using the functional API on 10% data with augumentation\n",
        "\n",
        "# setup base\n",
        "base_model = tf.keras.applications.EfficientNetB0(include_top=False)\n",
        "\n",
        "# freeze the base \n",
        "base_model.trainable = False\n",
        "\n",
        "# setup inputs\n",
        "inputs = tf.keras.layers.Input(shape=(224, 224, 3), name=\"input_layer\")\n",
        "\n",
        "# add data augumentations\n",
        "x = data_augumentation(inputs)\n",
        "\n",
        "# pass data to base\n",
        "x = base_model(x, training=False)\n",
        "\n",
        "# add pooling\n",
        "x = tf.keras.layers.GlobalAveragePooling2D()(x)\n",
        "\n",
        "# setup outputs\n",
        "outputs = tf.keras.layers.Dense(10, activation=\"softmax\")(x)\n",
        "\n",
        "# make model\n",
        "model_2 = tf.keras.Model(inputs, outputs)\n",
        "\n",
        "# compile model\n",
        "model_2.compile(loss=\"categorical_crossentropy\",\n",
        "              optimizer=\"adam\",\n",
        "              metrics=[\"accuracy\"])"
      ],
      "metadata": {
        "colab": {
          "base_uri": "https://localhost:8080/"
        },
        "id": "13XFHt_BXAQn",
        "outputId": "bae4e115-8ac8-4c6b-cd9e-955b577e442d"
      },
      "execution_count": 45,
      "outputs": [
        {
          "output_type": "stream",
          "name": "stderr",
          "text": [
            "WARNING:tensorflow:Using a while_loop for converting RngReadAndSkip cause there is no registered converter for this op.\n",
            "WARNING:tensorflow:Using a while_loop for converting Bitcast cause there is no registered converter for this op.\n",
            "WARNING:tensorflow:Using a while_loop for converting Bitcast cause there is no registered converter for this op.\n",
            "WARNING:tensorflow:Using a while_loop for converting StatelessRandomUniformV2 cause there is no registered converter for this op.\n",
            "WARNING:tensorflow:Using a while_loop for converting ImageProjectiveTransformV3 cause there is no registered converter for this op.\n",
            "WARNING:tensorflow:Using a while_loop for converting RngReadAndSkip cause there is no registered converter for this op.\n",
            "WARNING:tensorflow:Using a while_loop for converting Bitcast cause there is no registered converter for this op.\n",
            "WARNING:tensorflow:Using a while_loop for converting Bitcast cause there is no registered converter for this op.\n",
            "WARNING:tensorflow:Using a while_loop for converting StatelessRandomUniformV2 cause there is no registered converter for this op.\n",
            "WARNING:tensorflow:Using a while_loop for converting ImageProjectiveTransformV3 cause there is no registered converter for this op.\n",
            "WARNING:tensorflow:Using a while_loop for converting RngReadAndSkip cause there is no registered converter for this op.\n",
            "WARNING:tensorflow:Using a while_loop for converting Bitcast cause there is no registered converter for this op.\n",
            "WARNING:tensorflow:Using a while_loop for converting Bitcast cause there is no registered converter for this op.\n",
            "WARNING:tensorflow:Using a while_loop for converting StatelessRandomUniformV2 cause there is no registered converter for this op.\n",
            "WARNING:tensorflow:Using a while_loop for converting ImageProjectiveTransformV3 cause there is no registered converter for this op.\n",
            "WARNING:tensorflow:Using a while_loop for converting RngReadAndSkip cause there is no registered converter for this op.\n",
            "WARNING:tensorflow:Using a while_loop for converting Bitcast cause there is no registered converter for this op.\n",
            "WARNING:tensorflow:Using a while_loop for converting Bitcast cause there is no registered converter for this op.\n",
            "WARNING:tensorflow:Using a while_loop for converting StatelessRandomUniformV2 cause there is no registered converter for this op.\n",
            "WARNING:tensorflow:Using a while_loop for converting ImageProjectiveTransformV3 cause there is no registered converter for this op.\n"
          ]
        }
      ]
    },
    {
      "cell_type": "code",
      "source": [
        "# training the model\n",
        "history_2 = model_2.fit(train_data, epochs=5, validation_data=test_data)"
      ],
      "metadata": {
        "colab": {
          "base_uri": "https://localhost:8080/"
        },
        "id": "Jz75QPc_XFiz",
        "outputId": "e84cc1be-5dfc-48a9-cad7-e71185f22d6f"
      },
      "execution_count": 46,
      "outputs": [
        {
          "output_type": "stream",
          "name": "stdout",
          "text": [
            "Epoch 1/5\n"
          ]
        },
        {
          "output_type": "stream",
          "name": "stderr",
          "text": [
            "WARNING:tensorflow:Using a while_loop for converting RngReadAndSkip cause there is no registered converter for this op.\n",
            "WARNING:tensorflow:Using a while_loop for converting Bitcast cause there is no registered converter for this op.\n",
            "WARNING:tensorflow:Using a while_loop for converting Bitcast cause there is no registered converter for this op.\n",
            "WARNING:tensorflow:Using a while_loop for converting StatelessRandomUniformV2 cause there is no registered converter for this op.\n",
            "WARNING:tensorflow:Using a while_loop for converting ImageProjectiveTransformV3 cause there is no registered converter for this op.\n",
            "WARNING:tensorflow:Using a while_loop for converting RngReadAndSkip cause there is no registered converter for this op.\n",
            "WARNING:tensorflow:Using a while_loop for converting Bitcast cause there is no registered converter for this op.\n",
            "WARNING:tensorflow:Using a while_loop for converting Bitcast cause there is no registered converter for this op.\n",
            "WARNING:tensorflow:Using a while_loop for converting StatelessRandomUniformV2 cause there is no registered converter for this op.\n",
            "WARNING:tensorflow:Using a while_loop for converting ImageProjectiveTransformV3 cause there is no registered converter for this op.\n",
            "WARNING:tensorflow:Using a while_loop for converting RngReadAndSkip cause there is no registered converter for this op.\n",
            "WARNING:tensorflow:Using a while_loop for converting Bitcast cause there is no registered converter for this op.\n",
            "WARNING:tensorflow:Using a while_loop for converting Bitcast cause there is no registered converter for this op.\n",
            "WARNING:tensorflow:Using a while_loop for converting StatelessRandomUniformV2 cause there is no registered converter for this op.\n",
            "WARNING:tensorflow:Using a while_loop for converting ImageProjectiveTransformV3 cause there is no registered converter for this op.\n",
            "WARNING:tensorflow:Using a while_loop for converting RngReadAndSkip cause there is no registered converter for this op.\n",
            "WARNING:tensorflow:Using a while_loop for converting Bitcast cause there is no registered converter for this op.\n",
            "WARNING:tensorflow:Using a while_loop for converting Bitcast cause there is no registered converter for this op.\n",
            "WARNING:tensorflow:Using a while_loop for converting StatelessRandomUniformV2 cause there is no registered converter for this op.\n",
            "WARNING:tensorflow:Using a while_loop for converting ImageProjectiveTransformV3 cause there is no registered converter for this op.\n"
          ]
        },
        {
          "output_type": "stream",
          "name": "stdout",
          "text": [
            "24/24 [==============================] - 33s 944ms/step - loss: 1.9566 - accuracy: 0.3787 - val_loss: 1.3800 - val_accuracy: 0.6700\n",
            "Epoch 2/5\n",
            "24/24 [==============================] - 16s 673ms/step - loss: 1.2852 - accuracy: 0.6827 - val_loss: 0.9725 - val_accuracy: 0.7840\n",
            "Epoch 3/5\n",
            "24/24 [==============================] - 17s 691ms/step - loss: 0.9811 - accuracy: 0.7707 - val_loss: 0.7758 - val_accuracy: 0.8176\n",
            "Epoch 4/5\n",
            "24/24 [==============================] - 15s 622ms/step - loss: 0.8243 - accuracy: 0.8013 - val_loss: 0.6754 - val_accuracy: 0.8320\n",
            "Epoch 5/5\n",
            "24/24 [==============================] - 15s 633ms/step - loss: 0.7304 - accuracy: 0.8120 - val_loss: 0.6114 - val_accuracy: 0.8416\n"
          ]
        }
      ]
    },
    {
      "cell_type": "code",
      "source": [
        "pd.DataFrame(history_2.history).plot(figsize=(10,7))\n",
        "plt.show()"
      ],
      "metadata": {
        "colab": {
          "base_uri": "https://localhost:8080/",
          "height": 428
        },
        "id": "B2hxrb4XXJtV",
        "outputId": "28bbc9ee-82b6-4825-aefc-08ecaf86f1f2"
      },
      "execution_count": 47,
      "outputs": [
        {
          "output_type": "display_data",
          "data": {
            "text/plain": [
              "<Figure size 720x504 with 1 Axes>"
            ],
            "image/png": "[encoded data removed]"
          },
          "metadata": {
            "needs_background": "light"
          }
        }
      ]
    },
    {
      "cell_type": "markdown",
      "source": [
        "# Experiment 3"
      ],
      "metadata": {
        "id": "Y68-ZBWwXWsI"
      }
    },
    {
      "cell_type": "code",
      "source": [
        "IMG_SIZE = (224, 224)\n",
        "TRAIN_DIR = \"10_food_classes_10_percent/train\"\n",
        "TEST_DIR = \"10_food_classes_10_percent/test\"\n",
        "BATCH_SIZE = 32"
      ],
      "metadata": {
        "id": "P9o18MnsXXvk"
      },
      "execution_count": 48,
      "outputs": []
    },
    {
      "cell_type": "code",
      "source": [
        "train_data = tf.keras.preprocessing.image_dataset_from_directory(TRAIN_DIR,\n",
        "                                                                 image_size=IMG_SIZE,\n",
        "                                                                 label_mode=\"categorical\",\n",
        "                                                                 batch_size=BATCH_SIZE,\n",
        "                                                                 seed=42)\n",
        "test_data = tf.keras.preprocessing.image_dataset_from_directory(TEST_DIR,\n",
        "                                                                image_size=IMG_SIZE,\n",
        "                                                                label_mode=\"categorical\",\n",
        "                                                                batch_size=BATCH_SIZE,\n",
        "                                                                seed=42)"
      ],
      "metadata": {
        "colab": {
          "base_uri": "https://localhost:8080/"
        },
        "id": "pkId7e1wXq2K",
        "outputId": "75ebf08a-5937-411f-d45c-2fecedb8b4bd"
      },
      "execution_count": 49,
      "outputs": [
        {
          "output_type": "stream",
          "name": "stdout",
          "text": [
            "Found 750 files belonging to 10 classes.\n",
            "Found 2500 files belonging to 10 classes.\n"
          ]
        }
      ]
    },
    {
      "cell_type": "code",
      "source": [
        "# create data_augumentation stage\n",
        "data_augumentation = tf.keras.models.Sequential([\n",
        "    tf.keras.layers.experimental.preprocessing.RandomFlip(\"horizontal\"),\n",
        "    tf.keras.layers.experimental.preprocessing.RandomRotation(0.2),\n",
        "    tf.keras.layers.experimental.preprocessing.RandomZoom(0.2),\n",
        "    tf.keras.layers.experimental.preprocessing.RandomHeight(0.2),\n",
        "    tf.keras.layers.experimental.preprocessing.RandomWidth(0.2),\n",
        "    # tf.keras.layers.experimental.preprocessing.Rescaling(1./255), # no need for EfficientNetB0, required for Resnet\n",
        "], name=\"data_augumentation\")"
      ],
      "metadata": {
        "id": "aHz11H1SXtvG"
      },
      "execution_count": 50,
      "outputs": []
    },
    {
      "cell_type": "code",
      "source": [
        "# model_3 -> using the functional API on 10% data with augumentation and fine tuning\n",
        "\n",
        "# setup base\n",
        "base_model = tf.keras.applications.EfficientNetB0(include_top=False)\n",
        "\n",
        "# freeze layers of base except top 10 layers\n",
        "for layer in base_model.layers[:-10]:\n",
        "  layer.trainable = False\n",
        "\n",
        "# setup inputs\n",
        "inputs = tf.keras.layers.Input(shape=(224, 224, 3), name=\"input_layer\")\n",
        "\n",
        "# add data augumentations\n",
        "x = data_augumentation(inputs)\n",
        "\n",
        "# pass data to base\n",
        "x = base_model(x, training=False)\n",
        "\n",
        "# add pooling\n",
        "x = tf.keras.layers.GlobalAveragePooling2D()(x)\n",
        "\n",
        "# setup outputs\n",
        "outputs = tf.keras.layers.Dense(10, activation=\"softmax\")(x)\n",
        "\n",
        "# make model\n",
        "model_3 = tf.keras.Model(inputs, outputs)\n",
        "\n",
        "# compile model\n",
        "model_3.compile(loss=\"categorical_crossentropy\",\n",
        "              optimizer=\"adam\",\n",
        "              metrics=[\"accuracy\"])"
      ],
      "metadata": {
        "colab": {
          "base_uri": "https://localhost:8080/"
        },
        "id": "TjJAYITrXwNs",
        "outputId": "3ff88450-8a25-46a5-8285-47ecdbdfa5d7"
      },
      "execution_count": 58,
      "outputs": [
        {
          "output_type": "stream",
          "name": "stderr",
          "text": [
            "WARNING:tensorflow:Using a while_loop for converting RngReadAndSkip cause there is no registered converter for this op.\n",
            "WARNING:tensorflow:Using a while_loop for converting Bitcast cause there is no registered converter for this op.\n",
            "WARNING:tensorflow:Using a while_loop for converting Bitcast cause there is no registered converter for this op.\n",
            "WARNING:tensorflow:Using a while_loop for converting StatelessRandomUniformV2 cause there is no registered converter for this op.\n",
            "WARNING:tensorflow:Using a while_loop for converting ImageProjectiveTransformV3 cause there is no registered converter for this op.\n",
            "WARNING:tensorflow:Using a while_loop for converting RngReadAndSkip cause there is no registered converter for this op.\n",
            "WARNING:tensorflow:Using a while_loop for converting Bitcast cause there is no registered converter for this op.\n",
            "WARNING:tensorflow:Using a while_loop for converting Bitcast cause there is no registered converter for this op.\n",
            "WARNING:tensorflow:Using a while_loop for converting StatelessRandomUniformV2 cause there is no registered converter for this op.\n",
            "WARNING:tensorflow:Using a while_loop for converting ImageProjectiveTransformV3 cause there is no registered converter for this op.\n"
          ]
        }
      ]
    },
    {
      "cell_type": "code",
      "source": [
        "# training the model\n",
        "history_3 = model_3.fit(train_data, epochs=5, validation_data=test_data)"
      ],
      "metadata": {
        "colab": {
          "base_uri": "https://localhost:8080/"
        },
        "id": "xXMAyA2-YGue",
        "outputId": "fe08bbf1-3bfc-4cbe-c224-817a687dab56"
      },
      "execution_count": 59,
      "outputs": [
        {
          "output_type": "stream",
          "name": "stdout",
          "text": [
            "Epoch 1/5\n"
          ]
        },
        {
          "output_type": "stream",
          "name": "stderr",
          "text": [
            "WARNING:tensorflow:Using a while_loop for converting RngReadAndSkip cause there is no registered converter for this op.\n",
            "WARNING:tensorflow:Using a while_loop for converting Bitcast cause there is no registered converter for this op.\n",
            "WARNING:tensorflow:Using a while_loop for converting Bitcast cause there is no registered converter for this op.\n",
            "WARNING:tensorflow:Using a while_loop for converting StatelessRandomUniformV2 cause there is no registered converter for this op.\n",
            "WARNING:tensorflow:Using a while_loop for converting ImageProjectiveTransformV3 cause there is no registered converter for this op.\n",
            "WARNING:tensorflow:Using a while_loop for converting RngReadAndSkip cause there is no registered converter for this op.\n",
            "WARNING:tensorflow:Using a while_loop for converting Bitcast cause there is no registered converter for this op.\n",
            "WARNING:tensorflow:Using a while_loop for converting Bitcast cause there is no registered converter for this op.\n",
            "WARNING:tensorflow:Using a while_loop for converting StatelessRandomUniformV2 cause there is no registered converter for this op.\n",
            "WARNING:tensorflow:Using a while_loop for converting ImageProjectiveTransformV3 cause there is no registered converter for this op.\n",
            "WARNING:tensorflow:Using a while_loop for converting RngReadAndSkip cause there is no registered converter for this op.\n",
            "WARNING:tensorflow:Using a while_loop for converting Bitcast cause there is no registered converter for this op.\n",
            "WARNING:tensorflow:Using a while_loop for converting Bitcast cause there is no registered converter for this op.\n",
            "WARNING:tensorflow:Using a while_loop for converting StatelessRandomUniformV2 cause there is no registered converter for this op.\n",
            "WARNING:tensorflow:Using a while_loop for converting ImageProjectiveTransformV3 cause there is no registered converter for this op.\n",
            "WARNING:tensorflow:Using a while_loop for converting RngReadAndSkip cause there is no registered converter for this op.\n",
            "WARNING:tensorflow:Using a while_loop for converting Bitcast cause there is no registered converter for this op.\n",
            "WARNING:tensorflow:Using a while_loop for converting Bitcast cause there is no registered converter for this op.\n",
            "WARNING:tensorflow:Using a while_loop for converting StatelessRandomUniformV2 cause there is no registered converter for this op.\n",
            "WARNING:tensorflow:Using a while_loop for converting ImageProjectiveTransformV3 cause there is no registered converter for this op.\n"
          ]
        },
        {
          "output_type": "stream",
          "name": "stdout",
          "text": [
            "24/24 [==============================] - 28s 746ms/step - loss: 1.2688 - accuracy: 0.5973 - val_loss: 0.5455 - val_accuracy: 0.8216\n",
            "Epoch 2/5\n",
            "24/24 [==============================] - 15s 632ms/step - loss: 0.4799 - accuracy: 0.8600 - val_loss: 0.4459 - val_accuracy: 0.8524\n",
            "Epoch 3/5\n",
            "24/24 [==============================] - 14s 575ms/step - loss: 0.3161 - accuracy: 0.8920 - val_loss: 0.5191 - val_accuracy: 0.8316\n",
            "Epoch 4/5\n",
            "24/24 [==============================] - 14s 592ms/step - loss: 0.2161 - accuracy: 0.9267 - val_loss: 0.4791 - val_accuracy: 0.8456\n",
            "Epoch 5/5\n",
            "24/24 [==============================] - 15s 609ms/step - loss: 0.1369 - accuracy: 0.9640 - val_loss: 0.4737 - val_accuracy: 0.8552\n"
          ]
        }
      ]
    },
    {
      "cell_type": "code",
      "source": [
        "pd.DataFrame(history_3.history).plot(figsize=(10,7))\n",
        "plt.show()"
      ],
      "metadata": {
        "colab": {
          "base_uri": "https://localhost:8080/",
          "height": 428
        },
        "id": "ezfDfYI6YuOA",
        "outputId": "79a5369c-3250-4800-fd43-c7236aaf98bf"
      },
      "execution_count": 60,
      "outputs": [
        {
          "output_type": "display_data",
          "data": {
            "text/plain": [
              "<Figure size 720x504 with 1 Axes>"
            ],
            "image/png": "[encoded data removed]"
          },
          "metadata": {
            "needs_background": "light"
          }
        }
      ]
    },
    {
      "cell_type": "markdown",
      "source": [
        "# Experiment 4"
      ],
      "metadata": {
        "id": "rm-z2ydfoLoD"
      }
    },
    {
      "cell_type": "code",
      "source": [
        "# !wget https://storage.googleapis.com/ztm_tf_course/food_vision/10_food_classes_all_data.zip "
      ],
      "metadata": {
        "id": "giWIbhXLoNqn"
      },
      "execution_count": 8,
      "outputs": []
    },
    {
      "cell_type": "code",
      "source": [
        "unzip_data(\"10_food_classes_all_data.zip\")"
      ],
      "metadata": {
        "id": "JFxoatrToRjh"
      },
      "execution_count": 9,
      "outputs": []
    },
    {
      "cell_type": "code",
      "source": [
        "train_dir = \"10_food_classes_all_data/train/\"\n",
        "test_dir = \"10_food_classes_all_data/test/\""
      ],
      "metadata": {
        "id": "Av178lOToatd"
      },
      "execution_count": 10,
      "outputs": []
    },
    {
      "cell_type": "code",
      "source": [
        "walk_through_dir(\"10_food_classes_all_data\")"
      ],
      "metadata": {
        "colab": {
          "base_uri": "https://localhost:8080/"
        },
        "id": "q3wIsG8Dokzo",
        "outputId": "57fb345e-fd86-4870-ccb8-25b43e2a9d25"
      },
      "execution_count": 11,
      "outputs": [
        {
          "output_type": "stream",
          "name": "stdout",
          "text": [
            "There are 2 directories and 0 images in '10_food_classes_all_data'.\n",
            "There are 10 directories and 0 images in '10_food_classes_all_data/train'.\n",
            "There are 0 directories and 750 images in '10_food_classes_all_data/train/steak'.\n",
            "There are 0 directories and 750 images in '10_food_classes_all_data/train/pizza'.\n",
            "There are 0 directories and 750 images in '10_food_classes_all_data/train/fried_rice'.\n",
            "There are 0 directories and 750 images in '10_food_classes_all_data/train/chicken_wings'.\n",
            "There are 0 directories and 750 images in '10_food_classes_all_data/train/sushi'.\n",
            "There are 0 directories and 750 images in '10_food_classes_all_data/train/grilled_salmon'.\n",
            "There are 0 directories and 750 images in '10_food_classes_all_data/train/ice_cream'.\n",
            "There are 0 directories and 750 images in '10_food_classes_all_data/train/chicken_curry'.\n",
            "There are 0 directories and 750 images in '10_food_classes_all_data/train/ramen'.\n",
            "There are 0 directories and 750 images in '10_food_classes_all_data/train/hamburger'.\n",
            "There are 10 directories and 0 images in '10_food_classes_all_data/test'.\n",
            "There are 0 directories and 250 images in '10_food_classes_all_data/test/steak'.\n",
            "There are 0 directories and 250 images in '10_food_classes_all_data/test/pizza'.\n",
            "There are 0 directories and 250 images in '10_food_classes_all_data/test/fried_rice'.\n",
            "There are 0 directories and 250 images in '10_food_classes_all_data/test/chicken_wings'.\n",
            "There are 0 directories and 250 images in '10_food_classes_all_data/test/sushi'.\n",
            "There are 0 directories and 250 images in '10_food_classes_all_data/test/grilled_salmon'.\n",
            "There are 0 directories and 250 images in '10_food_classes_all_data/test/ice_cream'.\n",
            "There are 0 directories and 250 images in '10_food_classes_all_data/test/chicken_curry'.\n",
            "There are 0 directories and 250 images in '10_food_classes_all_data/test/ramen'.\n",
            "There are 0 directories and 250 images in '10_food_classes_all_data/test/hamburger'.\n"
          ]
        }
      ]
    },
    {
      "cell_type": "code",
      "source": [
        "IMG_SIZE = (224, 224)\n",
        "train_data_10_classes_full = tf.keras.preprocessing.image_dataset_from_directory(train_dir,\n",
        "                                                                                 label_mode=\"categorical\",\n",
        "                                                                                 image_size=IMG_SIZE)\n",
        "\n",
        "test_data = tf.keras.preprocessing.image_dataset_from_directory(test_dir,\n",
        "                                                                label_mode=\"categorical\",\n",
        "                                                                image_size=IMG_SIZE)"
      ],
      "metadata": {
        "colab": {
          "base_uri": "https://localhost:8080/"
        },
        "id": "qmbXpm8Qom-s",
        "outputId": "24cd4603-7f33-425b-c711-bb990a6dbd8e"
      },
      "execution_count": 12,
      "outputs": [
        {
          "output_type": "stream",
          "name": "stdout",
          "text": [
            "Found 7500 files belonging to 10 classes.\n",
            "Found 2500 files belonging to 10 classes.\n"
          ]
        }
      ]
    },
    {
      "cell_type": "code",
      "source": [
        "# create data_augumentation stage\n",
        "data_augumentation = tf.keras.models.Sequential([\n",
        "    tf.keras.layers.experimental.preprocessing.RandomFlip(\"horizontal\"),\n",
        "    tf.keras.layers.experimental.preprocessing.RandomRotation(0.2),\n",
        "    tf.keras.layers.experimental.preprocessing.RandomZoom(0.2),\n",
        "    tf.keras.layers.experimental.preprocessing.RandomHeight(0.2),\n",
        "    tf.keras.layers.experimental.preprocessing.RandomWidth(0.2),\n",
        "    # tf.keras.layers.experimental.preprocessing.Rescaling(1./255), # no need for EfficientNetB0, required for Resnet\n",
        "], name=\"data_augumentation\")"
      ],
      "metadata": {
        "id": "RVv1dn-norUO"
      },
      "execution_count": 13,
      "outputs": []
    },
    {
      "cell_type": "code",
      "source": [
        "# model_4 -> using the functional API on 100% data with augumentation and fine tuning\n",
        "\n",
        "# setup base\n",
        "base_model = tf.keras.applications.EfficientNetB0(include_top=False)\n",
        "\n",
        "# freeze layers of base except top 10 layers\n",
        "for layer in base_model.layers[:-10]:\n",
        "  layer.trainable = False\n",
        "\n",
        "# setup inputs\n",
        "inputs = tf.keras.layers.Input(shape=(224, 224, 3), name=\"input_layer\")\n",
        "\n",
        "# add data augumentations\n",
        "x = data_augumentation(inputs)\n",
        "\n",
        "# pass data to base\n",
        "x = base_model(x, training=False)\n",
        "\n",
        "# add pooling\n",
        "x = tf.keras.layers.GlobalAveragePooling2D()(x)\n",
        "\n",
        "# setup outputs\n",
        "outputs = tf.keras.layers.Dense(10, activation=\"softmax\")(x)\n",
        "\n",
        "# make model\n",
        "model_4 = tf.keras.Model(inputs, outputs)\n",
        "\n",
        "# compile model\n",
        "model_4.compile(loss=\"categorical_crossentropy\",\n",
        "              optimizer=\"adam\",\n",
        "              metrics=[\"accuracy\"])"
      ],
      "metadata": {
        "colab": {
          "base_uri": "https://localhost:8080/"
        },
        "id": "bTssZPP7pCrX",
        "outputId": "9b92df54-aa6c-4cf5-ef15-febbc9909da4"
      },
      "execution_count": 14,
      "outputs": [
        {
          "output_type": "stream",
          "name": "stdout",
          "text": [
            "Downloading data from https://storage.googleapis.com/keras-applications/efficientnetb0_notop.h5\n",
            "16705208/16705208 [==============================] - 2s 0us/step\n"
          ]
        },
        {
          "output_type": "stream",
          "name": "stderr",
          "text": [
            "WARNING:tensorflow:Using a while_loop for converting RngReadAndSkip cause there is no registered converter for this op.\n",
            "WARNING:tensorflow:Using a while_loop for converting Bitcast cause there is no registered converter for this op.\n",
            "WARNING:tensorflow:Using a while_loop for converting Bitcast cause there is no registered converter for this op.\n",
            "WARNING:tensorflow:Using a while_loop for converting StatelessRandomUniformV2 cause there is no registered converter for this op.\n",
            "WARNING:tensorflow:Using a while_loop for converting ImageProjectiveTransformV3 cause there is no registered converter for this op.\n",
            "WARNING:tensorflow:Using a while_loop for converting RngReadAndSkip cause there is no registered converter for this op.\n",
            "WARNING:tensorflow:Using a while_loop for converting Bitcast cause there is no registered converter for this op.\n",
            "WARNING:tensorflow:Using a while_loop for converting Bitcast cause there is no registered converter for this op.\n",
            "WARNING:tensorflow:Using a while_loop for converting StatelessRandomUniformV2 cause there is no registered converter for this op.\n",
            "WARNING:tensorflow:Using a while_loop for converting ImageProjectiveTransformV3 cause there is no registered converter for this op.\n",
            "WARNING:tensorflow:Using a while_loop for converting RngReadAndSkip cause there is no registered converter for this op.\n",
            "WARNING:tensorflow:Using a while_loop for converting Bitcast cause there is no registered converter for this op.\n",
            "WARNING:tensorflow:Using a while_loop for converting Bitcast cause there is no registered converter for this op.\n",
            "WARNING:tensorflow:Using a while_loop for converting StatelessRandomUniformV2 cause there is no registered converter for this op.\n",
            "WARNING:tensorflow:Using a while_loop for converting ImageProjectiveTransformV3 cause there is no registered converter for this op.\n",
            "WARNING:tensorflow:Using a while_loop for converting RngReadAndSkip cause there is no registered converter for this op.\n",
            "WARNING:tensorflow:Using a while_loop for converting Bitcast cause there is no registered converter for this op.\n",
            "WARNING:tensorflow:Using a while_loop for converting Bitcast cause there is no registered converter for this op.\n",
            "WARNING:tensorflow:Using a while_loop for converting StatelessRandomUniformV2 cause there is no registered converter for this op.\n",
            "WARNING:tensorflow:Using a while_loop for converting ImageProjectiveTransformV3 cause there is no registered converter for this op.\n"
          ]
        }
      ]
    },
    {
      "cell_type": "code",
      "source": [
        "checkpointer = tf.keras.callbacks.ModelCheckpoint(filepath=\"./checkpoints\",\n",
        "                                                   monitor=\"val_loss\",\n",
        "                                                   save_best_only=False,\n",
        "                                                   save_weights_only=True,)"
      ],
      "metadata": {
        "id": "u7qkIEwwpJ9P"
      },
      "execution_count": 15,
      "outputs": []
    },
    {
      "cell_type": "code",
      "source": [
        "history_4 = model_4.fit(train_data_10_classes_full, epochs=5, validation_data=test_data, callbacks=[checkpointer])"
      ],
      "metadata": {
        "colab": {
          "base_uri": "https://localhost:8080/"
        },
        "id": "DHBQWl6dpqIh",
        "outputId": "f55ac4f9-823a-41e1-e9db-882185db2c63"
      },
      "execution_count": 20,
      "outputs": [
        {
          "output_type": "stream",
          "name": "stdout",
          "text": [
            "Epoch 1/5\n"
          ]
        },
        {
          "output_type": "stream",
          "name": "stderr",
          "text": [
            "WARNING:tensorflow:Using a while_loop for converting RngReadAndSkip cause there is no registered converter for this op.\n",
            "WARNING:tensorflow:Using a while_loop for converting Bitcast cause there is no registered converter for this op.\n",
            "WARNING:tensorflow:Using a while_loop for converting Bitcast cause there is no registered converter for this op.\n",
            "WARNING:tensorflow:Using a while_loop for converting StatelessRandomUniformV2 cause there is no registered converter for this op.\n",
            "WARNING:tensorflow:Using a while_loop for converting ImageProjectiveTransformV3 cause there is no registered converter for this op.\n",
            "WARNING:tensorflow:Using a while_loop for converting RngReadAndSkip cause there is no registered converter for this op.\n",
            "WARNING:tensorflow:Using a while_loop for converting Bitcast cause there is no registered converter for this op.\n",
            "WARNING:tensorflow:Using a while_loop for converting Bitcast cause there is no registered converter for this op.\n",
            "WARNING:tensorflow:Using a while_loop for converting StatelessRandomUniformV2 cause there is no registered converter for this op.\n",
            "WARNING:tensorflow:Using a while_loop for converting ImageProjectiveTransformV3 cause there is no registered converter for this op.\n",
            "WARNING:tensorflow:Using a while_loop for converting RngReadAndSkip cause there is no registered converter for this op.\n",
            "WARNING:tensorflow:Using a while_loop for converting Bitcast cause there is no registered converter for this op.\n",
            "WARNING:tensorflow:Using a while_loop for converting Bitcast cause there is no registered converter for this op.\n",
            "WARNING:tensorflow:Using a while_loop for converting StatelessRandomUniformV2 cause there is no registered converter for this op.\n",
            "WARNING:tensorflow:Using a while_loop for converting ImageProjectiveTransformV3 cause there is no registered converter for this op.\n",
            "WARNING:tensorflow:Using a while_loop for converting RngReadAndSkip cause there is no registered converter for this op.\n",
            "WARNING:tensorflow:Using a while_loop for converting Bitcast cause there is no registered converter for this op.\n",
            "WARNING:tensorflow:Using a while_loop for converting Bitcast cause there is no registered converter for this op.\n",
            "WARNING:tensorflow:Using a while_loop for converting StatelessRandomUniformV2 cause there is no registered converter for this op.\n",
            "WARNING:tensorflow:Using a while_loop for converting ImageProjectiveTransformV3 cause there is no registered converter for this op.\n"
          ]
        },
        {
          "output_type": "stream",
          "name": "stdout",
          "text": [
            "235/235 [==============================] - 127s 460ms/step - loss: 0.6893 - accuracy: 0.7737 - val_loss: 0.3526 - val_accuracy: 0.8816\n",
            "Epoch 2/5\n",
            "235/235 [==============================] - 86s 362ms/step - loss: 0.4469 - accuracy: 0.8577 - val_loss: 0.3183 - val_accuracy: 0.8968\n",
            "Epoch 3/5\n",
            "235/235 [==============================] - 81s 345ms/step - loss: 0.3497 - accuracy: 0.8833 - val_loss: 0.2683 - val_accuracy: 0.9152\n",
            "Epoch 4/5\n",
            "235/235 [==============================] - 80s 335ms/step - loss: 0.2895 - accuracy: 0.9075 - val_loss: 0.2522 - val_accuracy: 0.9224\n",
            "Epoch 5/5\n",
            "235/235 [==============================] - 77s 327ms/step - loss: 0.2258 - accuracy: 0.9255 - val_loss: 0.3114 - val_accuracy: 0.9000\n"
          ]
        }
      ]
    },
    {
      "cell_type": "code",
      "source": [
        "pd.DataFrame(history_4.history).plot(figsize=(10,7))  \n",
        "plt.show()"
      ],
      "metadata": {
        "colab": {
          "base_uri": "https://localhost:8080/",
          "height": 428
        },
        "id": "6uxiuNabsN53",
        "outputId": "f71fd186-027d-4ec5-968c-ed93fc2a03f6"
      },
      "execution_count": 22,
      "outputs": [
        {
          "output_type": "display_data",
          "data": {
            "text/plain": [
              "<Figure size 720x504 with 1 Axes>"
            ],
            "image/png": "[encoded data removed]"
          },
          "metadata": {
            "needs_background": "light"
          }
        }
      ]
    },
    {
      "cell_type": "code",
      "source": [
        "# original weights\n",
        "model_4.evaluate(test_data)"
      ],
      "metadata": {
        "colab": {
          "base_uri": "https://localhost:8080/"
        },
        "id": "bUy3GHORp0GS",
        "outputId": "3857510c-f139-47c4-aa52-ab9d466bfb72"
      },
      "execution_count": 23,
      "outputs": [
        {
          "output_type": "stream",
          "name": "stdout",
          "text": [
            "79/79 [==============================] - 7s 77ms/step - loss: 0.3114 - accuracy: 0.9000\n"
          ]
        },
        {
          "output_type": "execute_result",
          "data": {
            "text/plain": [
              "[0.31140416860580444, 0.8999999761581421]"
            ]
          },
          "metadata": {},
          "execution_count": 23
        }
      ]
    },
    {
      "cell_type": "code",
      "source": [
        "model_4.load_weights(\"./checkpoints\")"
      ],
      "metadata": {
        "colab": {
          "base_uri": "https://localhost:8080/"
        },
        "id": "Y3SaTU_JsMBo",
        "outputId": "bf14dd6d-d22d-4c80-e99c-c8834504cf05"
      },
      "execution_count": 25,
      "outputs": [
        {
          "output_type": "execute_result",
          "data": {
            "text/plain": [
              "<tensorflow.python.checkpoint.checkpoint.CheckpointLoadStatus at 0x7f00b4e08d00>"
            ]
          },
          "metadata": {},
          "execution_count": 25
        }
      ]
    },
    {
      "cell_type": "code",
      "source": [
        "# check with checkpoint vale weights\n",
        "model_4.evaluate(test_data)"
      ],
      "metadata": {
        "colab": {
          "base_uri": "https://localhost:8080/"
        },
        "id": "yGax4Ngzsju2",
        "outputId": "b58f67f8-aed7-4dd2-8359-6d280b1f10fb"
      },
      "execution_count": 26,
      "outputs": [
        {
          "output_type": "stream",
          "name": "stdout",
          "text": [
            "79/79 [==============================] - 6s 66ms/step - loss: 0.3114 - accuracy: 0.9000\n"
          ]
        },
        {
          "output_type": "execute_result",
          "data": {
            "text/plain": [
              "[0.31140410900115967, 0.8999999761581421]"
            ]
          },
          "metadata": {},
          "execution_count": 26
        }
      ]
    },
    {
      "cell_type": "code",
      "source": [
        "tf.keras.utils.plot_model(model_4, show_shapes=True)"
      ],
      "metadata": {
        "colab": {
          "base_uri": "https://localhost:8080/",
          "height": 533
        },
        "id": "0cP2XjT6uTnD",
        "outputId": "03114edf-d0f3-4146-f0f2-05cf5d1101fa"
      },
      "execution_count": 28,
      "outputs": [
        {
          "output_type": "execute_result",
          "data": {
            "image/png": "[encoded data removed]",
            "text/plain": [
              "<IPython.core.display.Image object>"
            ]
          },
          "metadata": {},
          "execution_count": 28
        }
      ]
    }
  ]
}